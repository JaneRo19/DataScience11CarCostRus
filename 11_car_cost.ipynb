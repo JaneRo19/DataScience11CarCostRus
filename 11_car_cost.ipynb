{
 "cells": [
  {
   "cell_type": "markdown",
   "metadata": {},
   "source": [
    "# Определение стоимости автомобилей"
   ]
  },
  {
   "cell_type": "markdown",
   "metadata": {},
   "source": [
    "Сервис по продаже автомобилей с пробегом «Не бит, не крашен» разрабатывает приложение для привлечения новых клиентов. В нём можно быстро узнать рыночную стоимость своего автомобиля. В вашем распоряжении исторические данные: технические характеристики, комплектации и цены автомобилей. Вам нужно построить модель для определения стоимости. \n",
    "\n",
    "Заказчику важны:\n",
    "\n",
    "- качество предсказания;\n",
    "- скорость предсказания;\n",
    "- время обучения.\n",
    "\n",
    "В ходе выполнения данного проекта будет сделано следующее:\n",
    "\n",
    "1) проведем предварительный обзор и подгоовку данных для их спользования при обучениии моделей\n",
    "\n",
    "2) обучим несколько моделей и сравним их показатели RMSE\n",
    "\n",
    "3) поанализируем модели и обределим, какая из них подходит под параметры заказчика."
   ]
  },
  {
   "cell_type": "markdown",
   "metadata": {},
   "source": [
    "## Подготовка данных"
   ]
  },
  {
   "cell_type": "markdown",
   "metadata": {},
   "source": [
    "### Общие сведения"
   ]
  },
  {
   "cell_type": "code",
   "execution_count": 1,
   "metadata": {},
   "outputs": [
    {
     "name": "stdout",
     "output_type": "stream",
     "text": [
      "Requirement already satisfied: category_encoders in /opt/conda/lib/python3.9/site-packages (2.4.1)\n",
      "Requirement already satisfied: numpy>=1.14.0 in /opt/conda/lib/python3.9/site-packages (from category_encoders) (1.22.3)\n",
      "Requirement already satisfied: scikit-learn>=0.20.0 in /opt/conda/lib/python3.9/site-packages (from category_encoders) (0.24.1)\n",
      "Requirement already satisfied: pandas>=0.21.1 in /opt/conda/lib/python3.9/site-packages (from category_encoders) (1.2.4)\n",
      "Requirement already satisfied: scipy>=1.0.0 in /opt/conda/lib/python3.9/site-packages (from category_encoders) (1.8.0)\n",
      "Requirement already satisfied: statsmodels>=0.9.0 in /opt/conda/lib/python3.9/site-packages (from category_encoders) (0.13.2)\n",
      "Requirement already satisfied: patsy>=0.5.1 in /opt/conda/lib/python3.9/site-packages (from category_encoders) (0.5.2)\n",
      "Requirement already satisfied: python-dateutil>=2.7.3 in /opt/conda/lib/python3.9/site-packages (from pandas>=0.21.1->category_encoders) (2.8.2)\n",
      "Requirement already satisfied: pytz>=2017.3 in /opt/conda/lib/python3.9/site-packages (from pandas>=0.21.1->category_encoders) (2021.3)\n",
      "Requirement already satisfied: six in /opt/conda/lib/python3.9/site-packages (from patsy>=0.5.1->category_encoders) (1.16.0)\n",
      "Requirement already satisfied: threadpoolctl>=2.0.0 in /opt/conda/lib/python3.9/site-packages (from scikit-learn>=0.20.0->category_encoders) (3.1.0)\n",
      "Requirement already satisfied: joblib>=0.11 in /opt/conda/lib/python3.9/site-packages (from scikit-learn>=0.20.0->category_encoders) (1.1.0)\n",
      "Requirement already satisfied: packaging>=21.3 in /opt/conda/lib/python3.9/site-packages (from statsmodels>=0.9.0->category_encoders) (21.3)\n",
      "Requirement already satisfied: pyparsing!=3.0.5,>=2.0.2 in /opt/conda/lib/python3.9/site-packages (from packaging>=21.3->statsmodels>=0.9.0->category_encoders) (3.0.6)\n"
     ]
    }
   ],
   "source": [
    "!pip install category_encoders"
   ]
  },
  {
   "cell_type": "code",
   "execution_count": 2,
   "metadata": {},
   "outputs": [],
   "source": [
    "# импортируем необходимые библиотеки\n",
    "import time\n",
    "\n",
    "import pandas as pd\n",
    "import matplotlib.pyplot as plt\n",
    "import seaborn as sns\n",
    "import category_encoders as ce\n",
    "\n",
    "from sklearn.model_selection import cross_val_score, train_test_split, GridSearchCV\n",
    "from sklearn.preprocessing import StandardScaler, OrdinalEncoder\n",
    "from catboost import CatBoostRegressor\n",
    "from lightgbm import LGBMRegressor\n",
    "from sklearn.ensemble import RandomForestRegressor\n",
    "from sklearn.tree import DecisionTreeRegressor\n",
    "from sklearn.dummy import DummyRegressor\n",
    "from sklearn.metrics import mean_squared_error, make_scorer"
   ]
  },
  {
   "cell_type": "code",
   "execution_count": 3,
   "metadata": {},
   "outputs": [],
   "source": [
    "# прочитаем файл\n",
    "data = pd.read_csv('....csv')"
   ]
  },
  {
   "cell_type": "code",
   "execution_count": 4,
   "metadata": {},
   "outputs": [
    {
     "data": {
      "text/html": [
       "<div>\n",
       "<style scoped>\n",
       "    .dataframe tbody tr th:only-of-type {\n",
       "        vertical-align: middle;\n",
       "    }\n",
       "\n",
       "    .dataframe tbody tr th {\n",
       "        vertical-align: top;\n",
       "    }\n",
       "\n",
       "    .dataframe thead th {\n",
       "        text-align: right;\n",
       "    }\n",
       "</style>\n",
       "<table border=\"1\" class=\"dataframe\">\n",
       "  <thead>\n",
       "    <tr style=\"text-align: right;\">\n",
       "      <th></th>\n",
       "      <th>DateCrawled</th>\n",
       "      <th>Price</th>\n",
       "      <th>VehicleType</th>\n",
       "      <th>RegistrationYear</th>\n",
       "      <th>Gearbox</th>\n",
       "      <th>Power</th>\n",
       "      <th>Model</th>\n",
       "      <th>Kilometer</th>\n",
       "      <th>RegistrationMonth</th>\n",
       "      <th>FuelType</th>\n",
       "      <th>Brand</th>\n",
       "      <th>NotRepaired</th>\n",
       "      <th>DateCreated</th>\n",
       "      <th>NumberOfPictures</th>\n",
       "      <th>PostalCode</th>\n",
       "      <th>LastSeen</th>\n",
       "    </tr>\n",
       "  </thead>\n",
       "  <tbody>\n",
       "    <tr>\n",
       "      <th>0</th>\n",
       "      <td>2016-03-24 11:52:17</td>\n",
       "      <td>480</td>\n",
       "      <td>NaN</td>\n",
       "      <td>1993</td>\n",
       "      <td>manual</td>\n",
       "      <td>0</td>\n",
       "      <td>golf</td>\n",
       "      <td>150000</td>\n",
       "      <td>0</td>\n",
       "      <td>petrol</td>\n",
       "      <td>volkswagen</td>\n",
       "      <td>NaN</td>\n",
       "      <td>2016-03-24 00:00:00</td>\n",
       "      <td>0</td>\n",
       "      <td>70435</td>\n",
       "      <td>2016-04-07 03:16:57</td>\n",
       "    </tr>\n",
       "    <tr>\n",
       "      <th>1</th>\n",
       "      <td>2016-03-24 10:58:45</td>\n",
       "      <td>18300</td>\n",
       "      <td>coupe</td>\n",
       "      <td>2011</td>\n",
       "      <td>manual</td>\n",
       "      <td>190</td>\n",
       "      <td>NaN</td>\n",
       "      <td>125000</td>\n",
       "      <td>5</td>\n",
       "      <td>gasoline</td>\n",
       "      <td>audi</td>\n",
       "      <td>yes</td>\n",
       "      <td>2016-03-24 00:00:00</td>\n",
       "      <td>0</td>\n",
       "      <td>66954</td>\n",
       "      <td>2016-04-07 01:46:50</td>\n",
       "    </tr>\n",
       "    <tr>\n",
       "      <th>2</th>\n",
       "      <td>2016-03-14 12:52:21</td>\n",
       "      <td>9800</td>\n",
       "      <td>suv</td>\n",
       "      <td>2004</td>\n",
       "      <td>auto</td>\n",
       "      <td>163</td>\n",
       "      <td>grand</td>\n",
       "      <td>125000</td>\n",
       "      <td>8</td>\n",
       "      <td>gasoline</td>\n",
       "      <td>jeep</td>\n",
       "      <td>NaN</td>\n",
       "      <td>2016-03-14 00:00:00</td>\n",
       "      <td>0</td>\n",
       "      <td>90480</td>\n",
       "      <td>2016-04-05 12:47:46</td>\n",
       "    </tr>\n",
       "    <tr>\n",
       "      <th>3</th>\n",
       "      <td>2016-03-17 16:54:04</td>\n",
       "      <td>1500</td>\n",
       "      <td>small</td>\n",
       "      <td>2001</td>\n",
       "      <td>manual</td>\n",
       "      <td>75</td>\n",
       "      <td>golf</td>\n",
       "      <td>150000</td>\n",
       "      <td>6</td>\n",
       "      <td>petrol</td>\n",
       "      <td>volkswagen</td>\n",
       "      <td>no</td>\n",
       "      <td>2016-03-17 00:00:00</td>\n",
       "      <td>0</td>\n",
       "      <td>91074</td>\n",
       "      <td>2016-03-17 17:40:17</td>\n",
       "    </tr>\n",
       "    <tr>\n",
       "      <th>4</th>\n",
       "      <td>2016-03-31 17:25:20</td>\n",
       "      <td>3600</td>\n",
       "      <td>small</td>\n",
       "      <td>2008</td>\n",
       "      <td>manual</td>\n",
       "      <td>69</td>\n",
       "      <td>fabia</td>\n",
       "      <td>90000</td>\n",
       "      <td>7</td>\n",
       "      <td>gasoline</td>\n",
       "      <td>skoda</td>\n",
       "      <td>no</td>\n",
       "      <td>2016-03-31 00:00:00</td>\n",
       "      <td>0</td>\n",
       "      <td>60437</td>\n",
       "      <td>2016-04-06 10:17:21</td>\n",
       "    </tr>\n",
       "    <tr>\n",
       "      <th>5</th>\n",
       "      <td>2016-04-04 17:36:23</td>\n",
       "      <td>650</td>\n",
       "      <td>sedan</td>\n",
       "      <td>1995</td>\n",
       "      <td>manual</td>\n",
       "      <td>102</td>\n",
       "      <td>3er</td>\n",
       "      <td>150000</td>\n",
       "      <td>10</td>\n",
       "      <td>petrol</td>\n",
       "      <td>bmw</td>\n",
       "      <td>yes</td>\n",
       "      <td>2016-04-04 00:00:00</td>\n",
       "      <td>0</td>\n",
       "      <td>33775</td>\n",
       "      <td>2016-04-06 19:17:07</td>\n",
       "    </tr>\n",
       "    <tr>\n",
       "      <th>6</th>\n",
       "      <td>2016-04-01 20:48:51</td>\n",
       "      <td>2200</td>\n",
       "      <td>convertible</td>\n",
       "      <td>2004</td>\n",
       "      <td>manual</td>\n",
       "      <td>109</td>\n",
       "      <td>2_reihe</td>\n",
       "      <td>150000</td>\n",
       "      <td>8</td>\n",
       "      <td>petrol</td>\n",
       "      <td>peugeot</td>\n",
       "      <td>no</td>\n",
       "      <td>2016-04-01 00:00:00</td>\n",
       "      <td>0</td>\n",
       "      <td>67112</td>\n",
       "      <td>2016-04-05 18:18:39</td>\n",
       "    </tr>\n",
       "    <tr>\n",
       "      <th>7</th>\n",
       "      <td>2016-03-21 18:54:38</td>\n",
       "      <td>0</td>\n",
       "      <td>sedan</td>\n",
       "      <td>1980</td>\n",
       "      <td>manual</td>\n",
       "      <td>50</td>\n",
       "      <td>other</td>\n",
       "      <td>40000</td>\n",
       "      <td>7</td>\n",
       "      <td>petrol</td>\n",
       "      <td>volkswagen</td>\n",
       "      <td>no</td>\n",
       "      <td>2016-03-21 00:00:00</td>\n",
       "      <td>0</td>\n",
       "      <td>19348</td>\n",
       "      <td>2016-03-25 16:47:58</td>\n",
       "    </tr>\n",
       "    <tr>\n",
       "      <th>8</th>\n",
       "      <td>2016-04-04 23:42:13</td>\n",
       "      <td>14500</td>\n",
       "      <td>bus</td>\n",
       "      <td>2014</td>\n",
       "      <td>manual</td>\n",
       "      <td>125</td>\n",
       "      <td>c_max</td>\n",
       "      <td>30000</td>\n",
       "      <td>8</td>\n",
       "      <td>petrol</td>\n",
       "      <td>ford</td>\n",
       "      <td>NaN</td>\n",
       "      <td>2016-04-04 00:00:00</td>\n",
       "      <td>0</td>\n",
       "      <td>94505</td>\n",
       "      <td>2016-04-04 23:42:13</td>\n",
       "    </tr>\n",
       "    <tr>\n",
       "      <th>9</th>\n",
       "      <td>2016-03-17 10:53:50</td>\n",
       "      <td>999</td>\n",
       "      <td>small</td>\n",
       "      <td>1998</td>\n",
       "      <td>manual</td>\n",
       "      <td>101</td>\n",
       "      <td>golf</td>\n",
       "      <td>150000</td>\n",
       "      <td>0</td>\n",
       "      <td>NaN</td>\n",
       "      <td>volkswagen</td>\n",
       "      <td>NaN</td>\n",
       "      <td>2016-03-17 00:00:00</td>\n",
       "      <td>0</td>\n",
       "      <td>27472</td>\n",
       "      <td>2016-03-31 17:17:06</td>\n",
       "    </tr>\n",
       "  </tbody>\n",
       "</table>\n",
       "</div>"
      ],
      "text/plain": [
       "           DateCrawled  Price  VehicleType  RegistrationYear Gearbox  Power  \\\n",
       "0  2016-03-24 11:52:17    480          NaN              1993  manual      0   \n",
       "1  2016-03-24 10:58:45  18300        coupe              2011  manual    190   \n",
       "2  2016-03-14 12:52:21   9800          suv              2004    auto    163   \n",
       "3  2016-03-17 16:54:04   1500        small              2001  manual     75   \n",
       "4  2016-03-31 17:25:20   3600        small              2008  manual     69   \n",
       "5  2016-04-04 17:36:23    650        sedan              1995  manual    102   \n",
       "6  2016-04-01 20:48:51   2200  convertible              2004  manual    109   \n",
       "7  2016-03-21 18:54:38      0        sedan              1980  manual     50   \n",
       "8  2016-04-04 23:42:13  14500          bus              2014  manual    125   \n",
       "9  2016-03-17 10:53:50    999        small              1998  manual    101   \n",
       "\n",
       "     Model  Kilometer  RegistrationMonth  FuelType       Brand NotRepaired  \\\n",
       "0     golf     150000                  0    petrol  volkswagen         NaN   \n",
       "1      NaN     125000                  5  gasoline        audi         yes   \n",
       "2    grand     125000                  8  gasoline        jeep         NaN   \n",
       "3     golf     150000                  6    petrol  volkswagen          no   \n",
       "4    fabia      90000                  7  gasoline       skoda          no   \n",
       "5      3er     150000                 10    petrol         bmw         yes   \n",
       "6  2_reihe     150000                  8    petrol     peugeot          no   \n",
       "7    other      40000                  7    petrol  volkswagen          no   \n",
       "8    c_max      30000                  8    petrol        ford         NaN   \n",
       "9     golf     150000                  0       NaN  volkswagen         NaN   \n",
       "\n",
       "           DateCreated  NumberOfPictures  PostalCode             LastSeen  \n",
       "0  2016-03-24 00:00:00                 0       70435  2016-04-07 03:16:57  \n",
       "1  2016-03-24 00:00:00                 0       66954  2016-04-07 01:46:50  \n",
       "2  2016-03-14 00:00:00                 0       90480  2016-04-05 12:47:46  \n",
       "3  2016-03-17 00:00:00                 0       91074  2016-03-17 17:40:17  \n",
       "4  2016-03-31 00:00:00                 0       60437  2016-04-06 10:17:21  \n",
       "5  2016-04-04 00:00:00                 0       33775  2016-04-06 19:17:07  \n",
       "6  2016-04-01 00:00:00                 0       67112  2016-04-05 18:18:39  \n",
       "7  2016-03-21 00:00:00                 0       19348  2016-03-25 16:47:58  \n",
       "8  2016-04-04 00:00:00                 0       94505  2016-04-04 23:42:13  \n",
       "9  2016-03-17 00:00:00                 0       27472  2016-03-31 17:17:06  "
      ]
     },
     "execution_count": 4,
     "metadata": {},
     "output_type": "execute_result"
    }
   ],
   "source": [
    "# выведем на экран первые 10 строчек\n",
    "data.head(10)"
   ]
  },
  {
   "cell_type": "code",
   "execution_count": 5,
   "metadata": {},
   "outputs": [
    {
     "name": "stdout",
     "output_type": "stream",
     "text": [
      "<class 'pandas.core.frame.DataFrame'>\n",
      "RangeIndex: 354369 entries, 0 to 354368\n",
      "Data columns (total 16 columns):\n",
      " #   Column             Non-Null Count   Dtype \n",
      "---  ------             --------------   ----- \n",
      " 0   DateCrawled        354369 non-null  object\n",
      " 1   Price              354369 non-null  int64 \n",
      " 2   VehicleType        316879 non-null  object\n",
      " 3   RegistrationYear   354369 non-null  int64 \n",
      " 4   Gearbox            334536 non-null  object\n",
      " 5   Power              354369 non-null  int64 \n",
      " 6   Model              334664 non-null  object\n",
      " 7   Kilometer          354369 non-null  int64 \n",
      " 8   RegistrationMonth  354369 non-null  int64 \n",
      " 9   FuelType           321474 non-null  object\n",
      " 10  Brand              354369 non-null  object\n",
      " 11  NotRepaired        283215 non-null  object\n",
      " 12  DateCreated        354369 non-null  object\n",
      " 13  NumberOfPictures   354369 non-null  int64 \n",
      " 14  PostalCode         354369 non-null  int64 \n",
      " 15  LastSeen           354369 non-null  object\n",
      "dtypes: int64(7), object(9)\n",
      "memory usage: 43.3+ MB\n"
     ]
    }
   ],
   "source": [
    "# выведем общую информацию\n",
    "data.info()"
   ]
  },
  {
   "cell_type": "code",
   "execution_count": 6,
   "metadata": {},
   "outputs": [
    {
     "data": {
      "text/plain": [
       "Index(['DateCrawled', 'Price', 'VehicleType', 'RegistrationYear', 'Gearbox',\n",
       "       'Power', 'Model', 'Kilometer', 'RegistrationMonth', 'FuelType', 'Brand',\n",
       "       'NotRepaired', 'DateCreated', 'NumberOfPictures', 'PostalCode',\n",
       "       'LastSeen'],\n",
       "      dtype='object')"
      ]
     },
     "execution_count": 6,
     "metadata": {},
     "output_type": "execute_result"
    }
   ],
   "source": [
    "# выведем информацию о названии колонок\n",
    "data.columns"
   ]
  },
  {
   "cell_type": "code",
   "execution_count": 7,
   "metadata": {},
   "outputs": [
    {
     "data": {
      "text/plain": [
       "(354369, 16)"
      ]
     },
     "execution_count": 7,
     "metadata": {},
     "output_type": "execute_result"
    }
   ],
   "source": [
    "# определеим размер таблицы\n",
    "data.shape"
   ]
  },
  {
   "cell_type": "code",
   "execution_count": 8,
   "metadata": {},
   "outputs": [
    {
     "name": "stdout",
     "output_type": "stream",
     "text": [
      "Количество дубликатов: 4\n"
     ]
    }
   ],
   "source": [
    "# определим количество дубликатов\n",
    "print(f'Количество дубликатов: {data.duplicated().sum()}')"
   ]
  },
  {
   "cell_type": "code",
   "execution_count": 9,
   "metadata": {},
   "outputs": [],
   "source": [
    "# напишем функцию для подсчета количества пропусков и процентного соотношения\n",
    "def missing_values_percentage(data):\n",
    "    \"\"\"\n",
    "    Функция, подсчитавающая пропуски количественно и в процентном соотношении\n",
    "    \"\"\"\n",
    "    count = round(data.isnull().sum(), 2)\n",
    "    percent = round((data.isnull().sum() / data.shape[0]) * 100, 2)\n",
    "    data_new = pd.concat([count, percent], axis=1)\n",
    "    data_new.reset_index(inplace=True)\n",
    "    data_new.rename(columns={0: 'Missing Values Count', 1: 'Missing Values %'}, inplace=True)\n",
    "    display(data_new[data_new['Missing Values Count'] != 0].sort_values(by='Missing Values %', ascending=False))"
   ]
  },
  {
   "cell_type": "code",
   "execution_count": 10,
   "metadata": {},
   "outputs": [
    {
     "data": {
      "text/html": [
       "<div>\n",
       "<style scoped>\n",
       "    .dataframe tbody tr th:only-of-type {\n",
       "        vertical-align: middle;\n",
       "    }\n",
       "\n",
       "    .dataframe tbody tr th {\n",
       "        vertical-align: top;\n",
       "    }\n",
       "\n",
       "    .dataframe thead th {\n",
       "        text-align: right;\n",
       "    }\n",
       "</style>\n",
       "<table border=\"1\" class=\"dataframe\">\n",
       "  <thead>\n",
       "    <tr style=\"text-align: right;\">\n",
       "      <th></th>\n",
       "      <th>index</th>\n",
       "      <th>Missing Values Count</th>\n",
       "      <th>Missing Values %</th>\n",
       "    </tr>\n",
       "  </thead>\n",
       "  <tbody>\n",
       "    <tr>\n",
       "      <th>11</th>\n",
       "      <td>NotRepaired</td>\n",
       "      <td>71154</td>\n",
       "      <td>20.08</td>\n",
       "    </tr>\n",
       "    <tr>\n",
       "      <th>2</th>\n",
       "      <td>VehicleType</td>\n",
       "      <td>37490</td>\n",
       "      <td>10.58</td>\n",
       "    </tr>\n",
       "    <tr>\n",
       "      <th>9</th>\n",
       "      <td>FuelType</td>\n",
       "      <td>32895</td>\n",
       "      <td>9.28</td>\n",
       "    </tr>\n",
       "    <tr>\n",
       "      <th>4</th>\n",
       "      <td>Gearbox</td>\n",
       "      <td>19833</td>\n",
       "      <td>5.60</td>\n",
       "    </tr>\n",
       "    <tr>\n",
       "      <th>6</th>\n",
       "      <td>Model</td>\n",
       "      <td>19705</td>\n",
       "      <td>5.56</td>\n",
       "    </tr>\n",
       "  </tbody>\n",
       "</table>\n",
       "</div>"
      ],
      "text/plain": [
       "          index  Missing Values Count  Missing Values %\n",
       "11  NotRepaired                 71154             20.08\n",
       "2   VehicleType                 37490             10.58\n",
       "9      FuelType                 32895              9.28\n",
       "4       Gearbox                 19833              5.60\n",
       "6         Model                 19705              5.56"
      ]
     },
     "metadata": {},
     "output_type": "display_data"
    }
   ],
   "source": [
    "missing_values_percentage(data)"
   ]
  },
  {
   "cell_type": "code",
   "execution_count": 11,
   "metadata": {
    "scrolled": true
   },
   "outputs": [
    {
     "data": {
      "text/plain": [
       "DateCrawled              0\n",
       "Price                    0\n",
       "VehicleType          37490\n",
       "RegistrationYear         0\n",
       "Gearbox              19833\n",
       "Power                    0\n",
       "Model                19705\n",
       "Kilometer                0\n",
       "RegistrationMonth        0\n",
       "FuelType             32895\n",
       "Brand                    0\n",
       "NotRepaired          71154\n",
       "DateCreated              0\n",
       "NumberOfPictures         0\n",
       "PostalCode               0\n",
       "LastSeen                 0\n",
       "dtype: int64"
      ]
     },
     "execution_count": 11,
     "metadata": {},
     "output_type": "execute_result"
    }
   ],
   "source": [
    "data.isna().sum()"
   ]
  },
  {
   "cell_type": "markdown",
   "metadata": {},
   "source": [
    "Познакомимся с каждым столбцом более подробно."
   ]
  },
  {
   "cell_type": "code",
   "execution_count": 12,
   "metadata": {},
   "outputs": [
    {
     "data": {
      "text/plain": [
       "2016-03-24 14:49:47    7\n",
       "2016-03-19 21:49:56    6\n",
       "2016-03-26 22:57:31    6\n",
       "2016-03-28 10:36:47    5\n",
       "2016-03-31 18:50:16    5\n",
       "                      ..\n",
       "2016-03-08 09:36:58    1\n",
       "2016-03-09 12:59:01    1\n",
       "2016-03-17 18:30:44    1\n",
       "2016-03-13 00:51:04    1\n",
       "2016-03-28 14:45:48    1\n",
       "Name: DateCrawled, Length: 271174, dtype: int64"
      ]
     },
     "execution_count": 12,
     "metadata": {},
     "output_type": "execute_result"
    }
   ],
   "source": [
    "# посмотрим столбец DateCrawled\n",
    "data['DateCrawled'].value_counts()"
   ]
  },
  {
   "cell_type": "code",
   "execution_count": 13,
   "metadata": {},
   "outputs": [
    {
     "data": {
      "text/plain": [
       "count    354369.000000\n",
       "mean       4416.656776\n",
       "std        4514.158514\n",
       "min           0.000000\n",
       "25%        1050.000000\n",
       "50%        2700.000000\n",
       "75%        6400.000000\n",
       "max       20000.000000\n",
       "Name: Price, dtype: float64"
      ]
     },
     "execution_count": 13,
     "metadata": {},
     "output_type": "execute_result"
    }
   ],
   "source": [
    "# посмотрим столбец Price\n",
    "data['Price'].describe()"
   ]
  },
  {
   "cell_type": "code",
   "execution_count": 14,
   "metadata": {},
   "outputs": [
    {
     "data": {
      "text/plain": [
       "sedan          91457\n",
       "small          79831\n",
       "wagon          65166\n",
       "bus            28775\n",
       "convertible    20203\n",
       "coupe          16163\n",
       "suv            11996\n",
       "other           3288\n",
       "Name: VehicleType, dtype: int64"
      ]
     },
     "execution_count": 14,
     "metadata": {},
     "output_type": "execute_result"
    }
   ],
   "source": [
    "# посмотрим столбец VahicleType\n",
    "data['VehicleType'].value_counts()"
   ]
  },
  {
   "cell_type": "code",
   "execution_count": 15,
   "metadata": {},
   "outputs": [
    {
     "data": {
      "text/plain": [
       "count    354369.000000\n",
       "mean       2004.234448\n",
       "std          90.227958\n",
       "min        1000.000000\n",
       "25%        1999.000000\n",
       "50%        2003.000000\n",
       "75%        2008.000000\n",
       "max        9999.000000\n",
       "Name: RegistrationYear, dtype: float64"
      ]
     },
     "execution_count": 15,
     "metadata": {},
     "output_type": "execute_result"
    }
   ],
   "source": [
    "# посмотрим столбец RegistrationYear\n",
    "data['RegistrationYear'].describe()"
   ]
  },
  {
   "cell_type": "code",
   "execution_count": 16,
   "metadata": {},
   "outputs": [
    {
     "data": {
      "text/plain": [
       "manual    268251\n",
       "auto       66285\n",
       "Name: Gearbox, dtype: int64"
      ]
     },
     "execution_count": 16,
     "metadata": {},
     "output_type": "execute_result"
    }
   ],
   "source": [
    "# посмотрим столбец Gearbox\n",
    "data['Gearbox'].value_counts()"
   ]
  },
  {
   "cell_type": "code",
   "execution_count": 17,
   "metadata": {},
   "outputs": [
    {
     "data": {
      "text/plain": [
       "count    354369.000000\n",
       "mean        110.094337\n",
       "std         189.850405\n",
       "min           0.000000\n",
       "25%          69.000000\n",
       "50%         105.000000\n",
       "75%         143.000000\n",
       "max       20000.000000\n",
       "Name: Power, dtype: float64"
      ]
     },
     "execution_count": 17,
     "metadata": {},
     "output_type": "execute_result"
    }
   ],
   "source": [
    "# посмотрим столбец Power\n",
    "data['Power'].describe()"
   ]
  },
  {
   "cell_type": "code",
   "execution_count": 18,
   "metadata": {},
   "outputs": [
    {
     "data": {
      "text/plain": [
       "array(['100', '145', '147', '156', '159', '1_reihe', '1er', '200',\n",
       "       '2_reihe', '300c', '3_reihe', '3er', '4_reihe', '500', '5_reihe',\n",
       "       '5er', '601', '6_reihe', '6er', '7er', '80', '850', '90', '900',\n",
       "       '9000', '911', 'a1', 'a2', 'a3', 'a4', 'a5', 'a6', 'a8',\n",
       "       'a_klasse', 'accord', 'agila', 'alhambra', 'almera', 'altea',\n",
       "       'amarok', 'antara', 'arosa', 'astra', 'auris', 'avensis', 'aveo',\n",
       "       'aygo', 'b_klasse', 'b_max', 'beetle', 'berlingo', 'bora',\n",
       "       'boxster', 'bravo', 'c1', 'c2', 'c3', 'c4', 'c5', 'c_klasse',\n",
       "       'c_max', 'c_reihe', 'caddy', 'calibra', 'captiva', 'carisma',\n",
       "       'carnival', 'cayenne', 'cc', 'ceed', 'charade', 'cherokee',\n",
       "       'citigo', 'civic', 'cl', 'clio', 'clk', 'clubman', 'colt', 'combo',\n",
       "       'cooper', 'cordoba', 'corolla', 'corsa', 'cr_reihe', 'croma',\n",
       "       'crossfire', 'cuore', 'cx_reihe', 'defender', 'delta', 'discovery',\n",
       "       'doblo', 'ducato', 'duster', 'e_klasse', 'elefantino', 'eos',\n",
       "       'escort', 'espace', 'exeo', 'fabia', 'fiesta', 'focus', 'forester',\n",
       "       'forfour', 'fortwo', 'fox', 'freelander', 'fusion', 'g_klasse',\n",
       "       'galant', 'galaxy', 'getz', 'gl', 'glk', 'golf', 'grand', 'i3',\n",
       "       'i_reihe', 'ibiza', 'impreza', 'insignia', 'jazz', 'jetta',\n",
       "       'jimny', 'juke', 'justy', 'ka', 'kadett', 'kaefer', 'kalina',\n",
       "       'kalos', 'kangoo', 'kappa', 'kuga', 'laguna', 'lancer', 'lanos',\n",
       "       'legacy', 'leon', 'lodgy', 'logan', 'lupo', 'lybra', 'm_klasse',\n",
       "       'm_reihe', 'materia', 'matiz', 'megane', 'meriva', 'micra', 'mii',\n",
       "       'modus', 'mondeo', 'move', 'musa', 'mustang', 'mx_reihe', 'navara',\n",
       "       'niva', 'note', 'nubira', 'octavia', 'omega', 'one', 'other',\n",
       "       'outlander', 'pajero', 'panda', 'passat', 'phaeton', 'picanto',\n",
       "       'polo', 'primera', 'ptcruiser', 'punto', 'q3', 'q5', 'q7',\n",
       "       'qashqai', 'r19', 'range_rover', 'range_rover_evoque',\n",
       "       'range_rover_sport', 'rangerover', 'rav', 'rio', 'roadster',\n",
       "       'roomster', 'rx_reihe', 's60', 's_klasse', 's_max', 's_type',\n",
       "       'samara', 'sandero', 'santa', 'scenic', 'scirocco', 'seicento',\n",
       "       'serie_1', 'serie_2', 'serie_3', 'sharan', 'signum', 'sirion',\n",
       "       'sl', 'slk', 'sorento', 'spark', 'spider', 'sportage', 'sprinter',\n",
       "       'stilo', 'superb', 'swift', 'terios', 'tigra', 'tiguan', 'toledo',\n",
       "       'touareg', 'touran', 'transit', 'transporter', 'tt', 'tucson',\n",
       "       'twingo', 'up', 'v40', 'v50', 'v60', 'v70', 'v_klasse', 'vectra',\n",
       "       'verso', 'viano', 'vito', 'vivaro', 'voyager', 'wrangler',\n",
       "       'x_reihe', 'x_trail', 'x_type', 'xc_reihe', 'yaris', 'yeti',\n",
       "       'ypsilon', 'z_reihe', 'zafira', nan], dtype=object)"
      ]
     },
     "execution_count": 18,
     "metadata": {},
     "output_type": "execute_result"
    }
   ],
   "source": [
    "# посмотрим столбец Mod\n",
    "data['Model'].sort_values().unique()"
   ]
  },
  {
   "cell_type": "code",
   "execution_count": 19,
   "metadata": {},
   "outputs": [
    {
     "data": {
      "text/plain": [
       "count    354369.000000\n",
       "mean     128211.172535\n",
       "std       37905.341530\n",
       "min        5000.000000\n",
       "25%      125000.000000\n",
       "50%      150000.000000\n",
       "75%      150000.000000\n",
       "max      150000.000000\n",
       "Name: Kilometer, dtype: float64"
      ]
     },
     "execution_count": 19,
     "metadata": {},
     "output_type": "execute_result"
    }
   ],
   "source": [
    "# посмотрим столбец Kilometer\n",
    "data['Kilometer'].describe()"
   ]
  },
  {
   "cell_type": "code",
   "execution_count": 20,
   "metadata": {},
   "outputs": [
    {
     "data": {
      "text/plain": [
       "0     37352\n",
       "3     34373\n",
       "6     31508\n",
       "4     29270\n",
       "5     29153\n",
       "7     27213\n",
       "10    26099\n",
       "12    24289\n",
       "11    24186\n",
       "9     23813\n",
       "1     23219\n",
       "8     22627\n",
       "2     21267\n",
       "Name: RegistrationMonth, dtype: int64"
      ]
     },
     "execution_count": 20,
     "metadata": {},
     "output_type": "execute_result"
    }
   ],
   "source": [
    "# посмотрим столбец RegistrationMonth\n",
    "data['RegistrationMonth'].value_counts()"
   ]
  },
  {
   "cell_type": "code",
   "execution_count": 21,
   "metadata": {},
   "outputs": [
    {
     "data": {
      "text/plain": [
       "petrol      216352\n",
       "gasoline     98720\n",
       "lpg           5310\n",
       "cng            565\n",
       "hybrid         233\n",
       "other          204\n",
       "electric        90\n",
       "Name: FuelType, dtype: int64"
      ]
     },
     "execution_count": 21,
     "metadata": {},
     "output_type": "execute_result"
    }
   ],
   "source": [
    "# посмотрим столбец FuelType\n",
    "data['FuelType'].value_counts()"
   ]
  },
  {
   "cell_type": "code",
   "execution_count": 22,
   "metadata": {},
   "outputs": [
    {
     "data": {
      "text/plain": [
       "array(['alfa_romeo', 'audi', 'bmw', 'chevrolet', 'chrysler', 'citroen',\n",
       "       'dacia', 'daewoo', 'daihatsu', 'fiat', 'ford', 'honda', 'hyundai',\n",
       "       'jaguar', 'jeep', 'kia', 'lada', 'lancia', 'land_rover', 'mazda',\n",
       "       'mercedes_benz', 'mini', 'mitsubishi', 'nissan', 'opel', 'peugeot',\n",
       "       'porsche', 'renault', 'rover', 'saab', 'seat', 'skoda', 'smart',\n",
       "       'sonstige_autos', 'subaru', 'suzuki', 'toyota', 'trabant',\n",
       "       'volkswagen', 'volvo'], dtype=object)"
      ]
     },
     "execution_count": 22,
     "metadata": {},
     "output_type": "execute_result"
    }
   ],
   "source": [
    "# посмотрим столбец Brand\n",
    "data['Brand'].sort_values().unique()"
   ]
  },
  {
   "cell_type": "code",
   "execution_count": 23,
   "metadata": {},
   "outputs": [
    {
     "data": {
      "text/plain": [
       "no     247161\n",
       "yes     36054\n",
       "Name: NotRepaired, dtype: int64"
      ]
     },
     "execution_count": 23,
     "metadata": {},
     "output_type": "execute_result"
    }
   ],
   "source": [
    "# посмотрим столбец NotRepaired\n",
    "data['NotRepaired'].value_counts()"
   ]
  },
  {
   "cell_type": "code",
   "execution_count": 24,
   "metadata": {},
   "outputs": [
    {
     "data": {
      "text/plain": [
       "0    354369\n",
       "Name: NumberOfPictures, dtype: int64"
      ]
     },
     "execution_count": 24,
     "metadata": {},
     "output_type": "execute_result"
    }
   ],
   "source": [
    "# посмотрим столбец NumberOfPictures\n",
    "data['NumberOfPictures'].value_counts()"
   ]
  },
  {
   "cell_type": "code",
   "execution_count": 25,
   "metadata": {},
   "outputs": [
    {
     "data": {
      "text/plain": [
       "count    354369.000000\n",
       "mean      50508.689087\n",
       "std       25783.096248\n",
       "min        1067.000000\n",
       "25%       30165.000000\n",
       "50%       49413.000000\n",
       "75%       71083.000000\n",
       "max       99998.000000\n",
       "Name: PostalCode, dtype: float64"
      ]
     },
     "execution_count": 25,
     "metadata": {},
     "output_type": "execute_result"
    }
   ],
   "source": [
    "# посмотрим столбец POstalCode\n",
    "data['PostalCode'].describe()"
   ]
  },
  {
   "cell_type": "markdown",
   "metadata": {},
   "source": [
    "Столбцы с датами (DateCrawed, DateCreated, LastSeen) мы исследуем позже, так как для анализа нам необходимо использовать другой тип данных."
   ]
  },
  {
   "cell_type": "markdown",
   "metadata": {},
   "source": [
    "#### Вывод"
   ]
  },
  {
   "cell_type": "markdown",
   "metadata": {},
   "source": [
    "После предварительного обзора данных, можно дать следующую характеристику рассматриваемого проекта:\n",
    "\n",
    "1) перед нами таблица, в которой 16 столбцов и 354369 строк\n",
    "\n",
    "2) столбцы в таблице:\n",
    "\n",
    "    - DateCrawed - дата скачивая анкты из базы (тип - object)\n",
    "    - Price - цена евро (тип - int)\n",
    "    - VehicleType - тип кузова автомобиля (тип - object)\n",
    "    - RegistrationYear - год регистрации автомобиля (тип - int)\n",
    "    - Gearbox - тип коробки передач (тип - object)\n",
    "    - Power - мощность (л.с.) (тип - int)\n",
    "    - Model - модель автомобиля (тип - object)\n",
    "    - Kilometer - пробег (км) (тип - int)\n",
    "    - RegistrationMonth - месяц регистрации автомобиля (тип - int)\n",
    "    - FuelType - тип топлива (тип - object)\n",
    "    - Brand - марка автомобиля (тип - object)\n",
    "    - NotRepaired - была машина в ремонте или нет (тип - object)\n",
    "    - DateCreated - дата создания анкеты (тип - object)\n",
    "    - NumberOfPictures - количество фото автомобиля (тип - int)\n",
    "    - PostalCode - почтовый индекс владельца анкеты (тип - int)\n",
    "    - LastSeen - дата последней активности пользователя (тип - object)\n",
    "    \n",
    "    Полученные данные совпадаю с описанием.\n",
    "    \n",
    "3) в данных имеются дубликаты - 4 шт\n",
    "\n",
    "4) в данных имеются пропуски:\n",
    "   \n",
    "    - NotRepaired - 71154 (20.08%)\n",
    "    - VehicleType - 37490 (10.58%)\n",
    "    - FuelType - 32895 (9.28%)\n",
    "    - Gearbox - 19833 (5.6%)\n",
    "    - Model - 19705 (5.56%)\n",
    "    \n",
    "    Далее в исследовательском анализе данных проанализируем эти пропуски\n",
    "    \n",
    "5) необходимо поправить названия столбцов, так как удобнее, если бы они были в змеином_регистре\n",
    "\n",
    "6) также в исследовательском анализе данных необходимо более подробно рассмотреть следующие столбцы:\n",
    "\n",
    "    - Price, так как есть цена 0\n",
    "    - RegistrationYear так как есть год регистрации авто 1000 или 9999\n",
    "    - Power так как есть мощности 0 или 20000, при максимально известной мощности автомобиля 2028\n",
    "    - RegistrationMonth, так как есть месяц регистрации 0\n",
    "    \n",
    "7) в таких столбцах, как DateCrawed, DateCreated, LastSeen необходимо поменять формат поля на datetime и проанализировать данные столбцы"
   ]
  },
  {
   "cell_type": "markdown",
   "metadata": {},
   "source": [
    "### Исследовательский анализ данных"
   ]
  },
  {
   "cell_type": "markdown",
   "metadata": {},
   "source": [
    "Перед тем, как анализировать далее данные, переименуем названия стоблбцов."
   ]
  },
  {
   "cell_type": "code",
   "execution_count": 26,
   "metadata": {},
   "outputs": [],
   "source": [
    "# переименование столбцов\n",
    "data = data.rename(columns={'DateCrawled': 'date_crawled', 'Price': 'price', 'VehicleType': 'vehicle_type',\n",
    "                    'RegistrationYear': 'registration_year', 'Gearbox': 'gearbox', 'Power': 'power',\n",
    "                    'Model': 'model', 'Kilometer': 'kilometer', 'RegistrationMonth': 'registration_month',\n",
    "                    'FuelType': 'fuel_type', 'Brand': 'brand', 'NotRepaired': 'not_repaired',\n",
    "                    'DateCreated': 'date_created', 'NumberOfPictures': 'number_of_pictures',\n",
    "                    'PostalCode': 'postal_code', 'LastSeen': 'last_seen'})"
   ]
  },
  {
   "cell_type": "code",
   "execution_count": 27,
   "metadata": {},
   "outputs": [
    {
     "data": {
      "text/html": [
       "<div>\n",
       "<style scoped>\n",
       "    .dataframe tbody tr th:only-of-type {\n",
       "        vertical-align: middle;\n",
       "    }\n",
       "\n",
       "    .dataframe tbody tr th {\n",
       "        vertical-align: top;\n",
       "    }\n",
       "\n",
       "    .dataframe thead th {\n",
       "        text-align: right;\n",
       "    }\n",
       "</style>\n",
       "<table border=\"1\" class=\"dataframe\">\n",
       "  <thead>\n",
       "    <tr style=\"text-align: right;\">\n",
       "      <th></th>\n",
       "      <th>date_crawled</th>\n",
       "      <th>price</th>\n",
       "      <th>vehicle_type</th>\n",
       "      <th>registration_year</th>\n",
       "      <th>gearbox</th>\n",
       "      <th>power</th>\n",
       "      <th>model</th>\n",
       "      <th>kilometer</th>\n",
       "      <th>registration_month</th>\n",
       "      <th>fuel_type</th>\n",
       "      <th>brand</th>\n",
       "      <th>not_repaired</th>\n",
       "      <th>date_created</th>\n",
       "      <th>number_of_pictures</th>\n",
       "      <th>postal_code</th>\n",
       "      <th>last_seen</th>\n",
       "    </tr>\n",
       "  </thead>\n",
       "  <tbody>\n",
       "    <tr>\n",
       "      <th>0</th>\n",
       "      <td>2016-03-24 11:52:17</td>\n",
       "      <td>480</td>\n",
       "      <td>NaN</td>\n",
       "      <td>1993</td>\n",
       "      <td>manual</td>\n",
       "      <td>0</td>\n",
       "      <td>golf</td>\n",
       "      <td>150000</td>\n",
       "      <td>0</td>\n",
       "      <td>petrol</td>\n",
       "      <td>volkswagen</td>\n",
       "      <td>NaN</td>\n",
       "      <td>2016-03-24 00:00:00</td>\n",
       "      <td>0</td>\n",
       "      <td>70435</td>\n",
       "      <td>2016-04-07 03:16:57</td>\n",
       "    </tr>\n",
       "    <tr>\n",
       "      <th>1</th>\n",
       "      <td>2016-03-24 10:58:45</td>\n",
       "      <td>18300</td>\n",
       "      <td>coupe</td>\n",
       "      <td>2011</td>\n",
       "      <td>manual</td>\n",
       "      <td>190</td>\n",
       "      <td>NaN</td>\n",
       "      <td>125000</td>\n",
       "      <td>5</td>\n",
       "      <td>gasoline</td>\n",
       "      <td>audi</td>\n",
       "      <td>yes</td>\n",
       "      <td>2016-03-24 00:00:00</td>\n",
       "      <td>0</td>\n",
       "      <td>66954</td>\n",
       "      <td>2016-04-07 01:46:50</td>\n",
       "    </tr>\n",
       "    <tr>\n",
       "      <th>2</th>\n",
       "      <td>2016-03-14 12:52:21</td>\n",
       "      <td>9800</td>\n",
       "      <td>suv</td>\n",
       "      <td>2004</td>\n",
       "      <td>auto</td>\n",
       "      <td>163</td>\n",
       "      <td>grand</td>\n",
       "      <td>125000</td>\n",
       "      <td>8</td>\n",
       "      <td>gasoline</td>\n",
       "      <td>jeep</td>\n",
       "      <td>NaN</td>\n",
       "      <td>2016-03-14 00:00:00</td>\n",
       "      <td>0</td>\n",
       "      <td>90480</td>\n",
       "      <td>2016-04-05 12:47:46</td>\n",
       "    </tr>\n",
       "    <tr>\n",
       "      <th>3</th>\n",
       "      <td>2016-03-17 16:54:04</td>\n",
       "      <td>1500</td>\n",
       "      <td>small</td>\n",
       "      <td>2001</td>\n",
       "      <td>manual</td>\n",
       "      <td>75</td>\n",
       "      <td>golf</td>\n",
       "      <td>150000</td>\n",
       "      <td>6</td>\n",
       "      <td>petrol</td>\n",
       "      <td>volkswagen</td>\n",
       "      <td>no</td>\n",
       "      <td>2016-03-17 00:00:00</td>\n",
       "      <td>0</td>\n",
       "      <td>91074</td>\n",
       "      <td>2016-03-17 17:40:17</td>\n",
       "    </tr>\n",
       "    <tr>\n",
       "      <th>4</th>\n",
       "      <td>2016-03-31 17:25:20</td>\n",
       "      <td>3600</td>\n",
       "      <td>small</td>\n",
       "      <td>2008</td>\n",
       "      <td>manual</td>\n",
       "      <td>69</td>\n",
       "      <td>fabia</td>\n",
       "      <td>90000</td>\n",
       "      <td>7</td>\n",
       "      <td>gasoline</td>\n",
       "      <td>skoda</td>\n",
       "      <td>no</td>\n",
       "      <td>2016-03-31 00:00:00</td>\n",
       "      <td>0</td>\n",
       "      <td>60437</td>\n",
       "      <td>2016-04-06 10:17:21</td>\n",
       "    </tr>\n",
       "  </tbody>\n",
       "</table>\n",
       "</div>"
      ],
      "text/plain": [
       "          date_crawled  price vehicle_type  registration_year gearbox  power  \\\n",
       "0  2016-03-24 11:52:17    480          NaN               1993  manual      0   \n",
       "1  2016-03-24 10:58:45  18300        coupe               2011  manual    190   \n",
       "2  2016-03-14 12:52:21   9800          suv               2004    auto    163   \n",
       "3  2016-03-17 16:54:04   1500        small               2001  manual     75   \n",
       "4  2016-03-31 17:25:20   3600        small               2008  manual     69   \n",
       "\n",
       "   model  kilometer  registration_month fuel_type       brand not_repaired  \\\n",
       "0   golf     150000                   0    petrol  volkswagen          NaN   \n",
       "1    NaN     125000                   5  gasoline        audi          yes   \n",
       "2  grand     125000                   8  gasoline        jeep          NaN   \n",
       "3   golf     150000                   6    petrol  volkswagen           no   \n",
       "4  fabia      90000                   7  gasoline       skoda           no   \n",
       "\n",
       "          date_created  number_of_pictures  postal_code            last_seen  \n",
       "0  2016-03-24 00:00:00                   0        70435  2016-04-07 03:16:57  \n",
       "1  2016-03-24 00:00:00                   0        66954  2016-04-07 01:46:50  \n",
       "2  2016-03-14 00:00:00                   0        90480  2016-04-05 12:47:46  \n",
       "3  2016-03-17 00:00:00                   0        91074  2016-03-17 17:40:17  \n",
       "4  2016-03-31 00:00:00                   0        60437  2016-04-06 10:17:21  "
      ]
     },
     "execution_count": 27,
     "metadata": {},
     "output_type": "execute_result"
    }
   ],
   "source": [
    "data.head()"
   ]
  },
  {
   "cell_type": "code",
   "execution_count": 28,
   "metadata": {},
   "outputs": [],
   "source": [
    "# удалим дубликаты\n",
    "data.drop_duplicates(inplace=True)"
   ]
  },
  {
   "cell_type": "code",
   "execution_count": 29,
   "metadata": {},
   "outputs": [
    {
     "data": {
      "text/plain": [
       "0"
      ]
     },
     "execution_count": 29,
     "metadata": {},
     "output_type": "execute_result"
    }
   ],
   "source": [
    "# определим количество дубликатов\n",
    "data.duplicated().sum()"
   ]
  },
  {
   "cell_type": "code",
   "execution_count": 30,
   "metadata": {},
   "outputs": [],
   "source": [
    "# оменяем формат данных в столбцах с датами\n",
    "data['date_crawled'] = data['date_crawled'].astype('datetime64')\n",
    "data['date_created'] = data['date_created'].astype('datetime64')\n",
    "data['last_seen'] = data['last_seen'].astype('datetime64')"
   ]
  },
  {
   "cell_type": "code",
   "execution_count": 31,
   "metadata": {},
   "outputs": [
    {
     "name": "stdout",
     "output_type": "stream",
     "text": [
      "<class 'pandas.core.frame.DataFrame'>\n",
      "Int64Index: 354365 entries, 0 to 354368\n",
      "Data columns (total 16 columns):\n",
      " #   Column              Non-Null Count   Dtype         \n",
      "---  ------              --------------   -----         \n",
      " 0   date_crawled        354365 non-null  datetime64[ns]\n",
      " 1   price               354365 non-null  int64         \n",
      " 2   vehicle_type        316875 non-null  object        \n",
      " 3   registration_year   354365 non-null  int64         \n",
      " 4   gearbox             334532 non-null  object        \n",
      " 5   power               354365 non-null  int64         \n",
      " 6   model               334660 non-null  object        \n",
      " 7   kilometer           354365 non-null  int64         \n",
      " 8   registration_month  354365 non-null  int64         \n",
      " 9   fuel_type           321470 non-null  object        \n",
      " 10  brand               354365 non-null  object        \n",
      " 11  not_repaired        283211 non-null  object        \n",
      " 12  date_created        354365 non-null  datetime64[ns]\n",
      " 13  number_of_pictures  354365 non-null  int64         \n",
      " 14  postal_code         354365 non-null  int64         \n",
      " 15  last_seen           354365 non-null  datetime64[ns]\n",
      "dtypes: datetime64[ns](3), int64(7), object(6)\n",
      "memory usage: 46.0+ MB\n"
     ]
    }
   ],
   "source": [
    "data.info()"
   ]
  },
  {
   "cell_type": "markdown",
   "metadata": {},
   "source": [
    "Нербходимые преобразования сделаны, теперь более подробно исследуем столбцы:\n",
    "\n",
    "1) price\n",
    "\n",
    "2) registration_year\n",
    "\n",
    "3) power\n",
    "\n",
    "4) registration_month"
   ]
  },
  {
   "cell_type": "markdown",
   "metadata": {},
   "source": [
    "Для исследования столбцов с аномальными значениями напишем функцию, которую будем использовать для построения диаграммы и ящика с усами."
   ]
  },
  {
   "cell_type": "code",
   "execution_count": 32,
   "metadata": {},
   "outputs": [],
   "source": [
    "# напишем функцию для построения диаграмм\n",
    "def draw_charts(data, column, x_label, y_label, title, bins):\n",
    "    \"\"\"\n",
    "    Функция построения графика распределения и ящика с усами\n",
    "    \"\"\"\n",
    "    plt.figure(figsize=(12, 8))\n",
    "    sns.histplot(data=data, x=column, kde=True, bins=bins)\n",
    "    plt.title(title)\n",
    "    plt.xlabel(x_label)\n",
    "    plt.ylabel(y_label)\n",
    "    plt.show()\n",
    "\n",
    "    plt.figure(figsize=(12, 8))\n",
    "    sns.boxplot(data=data, x=column)\n",
    "    plt.title(title)\n",
    "    plt.xlabel(x_label)\n",
    "    plt.show()"
   ]
  },
  {
   "cell_type": "markdown",
   "metadata": {},
   "source": [
    "**Проанализируем столбец price**"
   ]
  },
  {
   "cell_type": "code",
   "execution_count": 33,
   "metadata": {},
   "outputs": [
    {
     "data": {
      "image/png": "[encoded data removed]",
      "text/plain": [
       "<Figure size 864x576 with 1 Axes>"
      ]
     },
     "metadata": {
      "needs_background": "light"
     },
     "output_type": "display_data"
    },
    {
     "data": {
      "image/png": "[encoded data removed]",
      "text/plain": [
       "<Figure size 864x576 with 1 Axes>"
      ]
     },
     "metadata": {
      "needs_background": "light"
     },
     "output_type": "display_data"
    }
   ],
   "source": [
    "# построим графики\n",
    "draw_charts(data, 'price', 'Цена', 'Количество', 'Распределение цены автомобилей', 100)"
   ]
  },
  {
   "cell_type": "markdown",
   "metadata": {},
   "source": [
    "На графике мы видим длинный хвост справа, но такая ситуация вполне реальна, так как есть более дорогие автомобили и их не так много, как автомобилей из средней ценовой категории. Эти данные не будем считать за аномалии и оставим их для обучения модели. \n",
    "\n",
    "Но на данном графике очень много автогомобилей с ценой 0, скорее всего это связано с тем, что продавец сознательно не указал цену. Посмотрим, сколько строк с ценой 0 и можно ли как-то подобные строки восстановить."
   ]
  },
  {
   "cell_type": "code",
   "execution_count": 34,
   "metadata": {},
   "outputs": [
    {
     "data": {
      "text/html": [
       "<div>\n",
       "<style scoped>\n",
       "    .dataframe tbody tr th:only-of-type {\n",
       "        vertical-align: middle;\n",
       "    }\n",
       "\n",
       "    .dataframe tbody tr th {\n",
       "        vertical-align: top;\n",
       "    }\n",
       "\n",
       "    .dataframe thead th {\n",
       "        text-align: right;\n",
       "    }\n",
       "</style>\n",
       "<table border=\"1\" class=\"dataframe\">\n",
       "  <thead>\n",
       "    <tr style=\"text-align: right;\">\n",
       "      <th></th>\n",
       "      <th>date_crawled</th>\n",
       "      <th>price</th>\n",
       "      <th>vehicle_type</th>\n",
       "      <th>registration_year</th>\n",
       "      <th>gearbox</th>\n",
       "      <th>power</th>\n",
       "      <th>model</th>\n",
       "      <th>kilometer</th>\n",
       "      <th>registration_month</th>\n",
       "      <th>fuel_type</th>\n",
       "      <th>brand</th>\n",
       "      <th>not_repaired</th>\n",
       "      <th>date_created</th>\n",
       "      <th>number_of_pictures</th>\n",
       "      <th>postal_code</th>\n",
       "      <th>last_seen</th>\n",
       "    </tr>\n",
       "  </thead>\n",
       "  <tbody>\n",
       "    <tr>\n",
       "      <th>7</th>\n",
       "      <td>2016-03-21 18:54:38</td>\n",
       "      <td>0</td>\n",
       "      <td>sedan</td>\n",
       "      <td>1980</td>\n",
       "      <td>manual</td>\n",
       "      <td>50</td>\n",
       "      <td>other</td>\n",
       "      <td>40000</td>\n",
       "      <td>7</td>\n",
       "      <td>petrol</td>\n",
       "      <td>volkswagen</td>\n",
       "      <td>no</td>\n",
       "      <td>2016-03-21</td>\n",
       "      <td>0</td>\n",
       "      <td>19348</td>\n",
       "      <td>2016-03-25 16:47:58</td>\n",
       "    </tr>\n",
       "    <tr>\n",
       "      <th>40</th>\n",
       "      <td>2016-03-26 22:06:17</td>\n",
       "      <td>0</td>\n",
       "      <td>NaN</td>\n",
       "      <td>1990</td>\n",
       "      <td>NaN</td>\n",
       "      <td>0</td>\n",
       "      <td>corsa</td>\n",
       "      <td>150000</td>\n",
       "      <td>1</td>\n",
       "      <td>petrol</td>\n",
       "      <td>opel</td>\n",
       "      <td>NaN</td>\n",
       "      <td>2016-03-26</td>\n",
       "      <td>0</td>\n",
       "      <td>56412</td>\n",
       "      <td>2016-03-27 17:43:34</td>\n",
       "    </tr>\n",
       "    <tr>\n",
       "      <th>111</th>\n",
       "      <td>2016-03-19 18:40:12</td>\n",
       "      <td>0</td>\n",
       "      <td>NaN</td>\n",
       "      <td>2017</td>\n",
       "      <td>manual</td>\n",
       "      <td>0</td>\n",
       "      <td>golf</td>\n",
       "      <td>5000</td>\n",
       "      <td>12</td>\n",
       "      <td>petrol</td>\n",
       "      <td>volkswagen</td>\n",
       "      <td>NaN</td>\n",
       "      <td>2016-03-19</td>\n",
       "      <td>0</td>\n",
       "      <td>21698</td>\n",
       "      <td>2016-04-01 08:47:05</td>\n",
       "    </tr>\n",
       "    <tr>\n",
       "      <th>115</th>\n",
       "      <td>2016-03-20 18:53:27</td>\n",
       "      <td>0</td>\n",
       "      <td>small</td>\n",
       "      <td>1999</td>\n",
       "      <td>NaN</td>\n",
       "      <td>0</td>\n",
       "      <td>NaN</td>\n",
       "      <td>5000</td>\n",
       "      <td>0</td>\n",
       "      <td>petrol</td>\n",
       "      <td>volkswagen</td>\n",
       "      <td>NaN</td>\n",
       "      <td>2016-03-20</td>\n",
       "      <td>0</td>\n",
       "      <td>37520</td>\n",
       "      <td>2016-04-07 02:45:22</td>\n",
       "    </tr>\n",
       "    <tr>\n",
       "      <th>152</th>\n",
       "      <td>2016-03-11 18:55:53</td>\n",
       "      <td>0</td>\n",
       "      <td>bus</td>\n",
       "      <td>2004</td>\n",
       "      <td>manual</td>\n",
       "      <td>101</td>\n",
       "      <td>meriva</td>\n",
       "      <td>150000</td>\n",
       "      <td>10</td>\n",
       "      <td>lpg</td>\n",
       "      <td>opel</td>\n",
       "      <td>yes</td>\n",
       "      <td>2016-03-11</td>\n",
       "      <td>0</td>\n",
       "      <td>27432</td>\n",
       "      <td>2016-03-12 23:47:10</td>\n",
       "    </tr>\n",
       "    <tr>\n",
       "      <th>...</th>\n",
       "      <td>...</td>\n",
       "      <td>...</td>\n",
       "      <td>...</td>\n",
       "      <td>...</td>\n",
       "      <td>...</td>\n",
       "      <td>...</td>\n",
       "      <td>...</td>\n",
       "      <td>...</td>\n",
       "      <td>...</td>\n",
       "      <td>...</td>\n",
       "      <td>...</td>\n",
       "      <td>...</td>\n",
       "      <td>...</td>\n",
       "      <td>...</td>\n",
       "      <td>...</td>\n",
       "      <td>...</td>\n",
       "    </tr>\n",
       "    <tr>\n",
       "      <th>354205</th>\n",
       "      <td>2016-03-09 15:56:30</td>\n",
       "      <td>0</td>\n",
       "      <td>NaN</td>\n",
       "      <td>2000</td>\n",
       "      <td>manual</td>\n",
       "      <td>65</td>\n",
       "      <td>corsa</td>\n",
       "      <td>150000</td>\n",
       "      <td>0</td>\n",
       "      <td>NaN</td>\n",
       "      <td>opel</td>\n",
       "      <td>yes</td>\n",
       "      <td>2016-03-09</td>\n",
       "      <td>0</td>\n",
       "      <td>23758</td>\n",
       "      <td>2016-03-30 11:16:08</td>\n",
       "    </tr>\n",
       "    <tr>\n",
       "      <th>354238</th>\n",
       "      <td>2016-03-20 14:55:07</td>\n",
       "      <td>0</td>\n",
       "      <td>small</td>\n",
       "      <td>2002</td>\n",
       "      <td>manual</td>\n",
       "      <td>60</td>\n",
       "      <td>fiesta</td>\n",
       "      <td>150000</td>\n",
       "      <td>3</td>\n",
       "      <td>petrol</td>\n",
       "      <td>ford</td>\n",
       "      <td>NaN</td>\n",
       "      <td>2016-03-20</td>\n",
       "      <td>0</td>\n",
       "      <td>33659</td>\n",
       "      <td>2016-04-06 18:45:23</td>\n",
       "    </tr>\n",
       "    <tr>\n",
       "      <th>354248</th>\n",
       "      <td>2016-03-24 13:48:05</td>\n",
       "      <td>0</td>\n",
       "      <td>small</td>\n",
       "      <td>1999</td>\n",
       "      <td>manual</td>\n",
       "      <td>53</td>\n",
       "      <td>swift</td>\n",
       "      <td>150000</td>\n",
       "      <td>3</td>\n",
       "      <td>petrol</td>\n",
       "      <td>suzuki</td>\n",
       "      <td>NaN</td>\n",
       "      <td>2016-03-24</td>\n",
       "      <td>0</td>\n",
       "      <td>42329</td>\n",
       "      <td>2016-04-07 05:17:24</td>\n",
       "    </tr>\n",
       "    <tr>\n",
       "      <th>354277</th>\n",
       "      <td>2016-03-10 22:55:50</td>\n",
       "      <td>0</td>\n",
       "      <td>small</td>\n",
       "      <td>1999</td>\n",
       "      <td>manual</td>\n",
       "      <td>37</td>\n",
       "      <td>arosa</td>\n",
       "      <td>150000</td>\n",
       "      <td>7</td>\n",
       "      <td>petrol</td>\n",
       "      <td>seat</td>\n",
       "      <td>yes</td>\n",
       "      <td>2016-03-10</td>\n",
       "      <td>0</td>\n",
       "      <td>22559</td>\n",
       "      <td>2016-03-12 23:46:32</td>\n",
       "    </tr>\n",
       "    <tr>\n",
       "      <th>354364</th>\n",
       "      <td>2016-03-21 09:50:58</td>\n",
       "      <td>0</td>\n",
       "      <td>NaN</td>\n",
       "      <td>2005</td>\n",
       "      <td>manual</td>\n",
       "      <td>0</td>\n",
       "      <td>colt</td>\n",
       "      <td>150000</td>\n",
       "      <td>7</td>\n",
       "      <td>petrol</td>\n",
       "      <td>mitsubishi</td>\n",
       "      <td>yes</td>\n",
       "      <td>2016-03-21</td>\n",
       "      <td>0</td>\n",
       "      <td>2694</td>\n",
       "      <td>2016-03-21 10:42:49</td>\n",
       "    </tr>\n",
       "  </tbody>\n",
       "</table>\n",
       "<p>10772 rows × 16 columns</p>\n",
       "</div>"
      ],
      "text/plain": [
       "              date_crawled  price vehicle_type  registration_year gearbox  \\\n",
       "7      2016-03-21 18:54:38      0        sedan               1980  manual   \n",
       "40     2016-03-26 22:06:17      0          NaN               1990     NaN   \n",
       "111    2016-03-19 18:40:12      0          NaN               2017  manual   \n",
       "115    2016-03-20 18:53:27      0        small               1999     NaN   \n",
       "152    2016-03-11 18:55:53      0          bus               2004  manual   \n",
       "...                    ...    ...          ...                ...     ...   \n",
       "354205 2016-03-09 15:56:30      0          NaN               2000  manual   \n",
       "354238 2016-03-20 14:55:07      0        small               2002  manual   \n",
       "354248 2016-03-24 13:48:05      0        small               1999  manual   \n",
       "354277 2016-03-10 22:55:50      0        small               1999  manual   \n",
       "354364 2016-03-21 09:50:58      0          NaN               2005  manual   \n",
       "\n",
       "        power   model  kilometer  registration_month fuel_type       brand  \\\n",
       "7          50   other      40000                   7    petrol  volkswagen   \n",
       "40          0   corsa     150000                   1    petrol        opel   \n",
       "111         0    golf       5000                  12    petrol  volkswagen   \n",
       "115         0     NaN       5000                   0    petrol  volkswagen   \n",
       "152       101  meriva     150000                  10       lpg        opel   \n",
       "...       ...     ...        ...                 ...       ...         ...   \n",
       "354205     65   corsa     150000                   0       NaN        opel   \n",
       "354238     60  fiesta     150000                   3    petrol        ford   \n",
       "354248     53   swift     150000                   3    petrol      suzuki   \n",
       "354277     37   arosa     150000                   7    petrol        seat   \n",
       "354364      0    colt     150000                   7    petrol  mitsubishi   \n",
       "\n",
       "       not_repaired date_created  number_of_pictures  postal_code  \\\n",
       "7                no   2016-03-21                   0        19348   \n",
       "40              NaN   2016-03-26                   0        56412   \n",
       "111             NaN   2016-03-19                   0        21698   \n",
       "115             NaN   2016-03-20                   0        37520   \n",
       "152             yes   2016-03-11                   0        27432   \n",
       "...             ...          ...                 ...          ...   \n",
       "354205          yes   2016-03-09                   0        23758   \n",
       "354238          NaN   2016-03-20                   0        33659   \n",
       "354248          NaN   2016-03-24                   0        42329   \n",
       "354277          yes   2016-03-10                   0        22559   \n",
       "354364          yes   2016-03-21                   0         2694   \n",
       "\n",
       "                 last_seen  \n",
       "7      2016-03-25 16:47:58  \n",
       "40     2016-03-27 17:43:34  \n",
       "111    2016-04-01 08:47:05  \n",
       "115    2016-04-07 02:45:22  \n",
       "152    2016-03-12 23:47:10  \n",
       "...                    ...  \n",
       "354205 2016-03-30 11:16:08  \n",
       "354238 2016-04-06 18:45:23  \n",
       "354248 2016-04-07 05:17:24  \n",
       "354277 2016-03-12 23:46:32  \n",
       "354364 2016-03-21 10:42:49  \n",
       "\n",
       "[10772 rows x 16 columns]"
      ]
     },
     "execution_count": 34,
     "metadata": {},
     "output_type": "execute_result"
    }
   ],
   "source": [
    "# проанализируем строки с ценой = 0\n",
    "data[data['price'] == 0]"
   ]
  },
  {
   "cell_type": "code",
   "execution_count": 35,
   "metadata": {},
   "outputs": [
    {
     "name": "stdout",
     "output_type": "stream",
     "text": [
      "Количество аномальных значений в стоблце price: 3%\n"
     ]
    }
   ],
   "source": [
    "# Определим, сколько строк имеют цену = 0\n",
    "print(f'Количество аномальных значений в стоблце price: {round(data[data[\"price\"] == 0].shape[0] / data.shape[0] * 100)}%')"
   ]
  },
  {
   "cell_type": "markdown",
   "metadata": {},
   "source": [
    "Мы получили, что количество аномальных значеий составляет 3%, по таблице выше сложно сказать и восстановить примерные цены на автомобили, поэтому удалим данные значения."
   ]
  },
  {
   "cell_type": "code",
   "execution_count": 36,
   "metadata": {},
   "outputs": [],
   "source": [
    "# удаление строк, в которых цена равна 0\n",
    "data_new = data.loc[data['price'] != 0]"
   ]
  },
  {
   "cell_type": "code",
   "execution_count": 37,
   "metadata": {},
   "outputs": [
    {
     "data": {
      "text/plain": [
       "(343593, 16)"
      ]
     },
     "execution_count": 37,
     "metadata": {},
     "output_type": "execute_result"
    }
   ],
   "source": [
    "data_new.shape"
   ]
  },
  {
   "cell_type": "markdown",
   "metadata": {},
   "source": [
    "**Проанадизируем столбец registration_year**"
   ]
  },
  {
   "cell_type": "code",
   "execution_count": 38,
   "metadata": {},
   "outputs": [
    {
     "data": {
      "image/png": "[encoded data removed]",
      "text/plain": [
       "<Figure size 864x576 with 1 Axes>"
      ]
     },
     "metadata": {
      "needs_background": "light"
     },
     "output_type": "display_data"
    },
    {
     "data": {
      "image/png": "[encoded data removed]",
      "text/plain": [
       "<Figure size 864x576 with 1 Axes>"
      ]
     },
     "metadata": {
      "needs_background": "light"
     },
     "output_type": "display_data"
    }
   ],
   "source": [
    "# построим графики\n",
    "draw_charts(data, 'registration_year', 'Год регистрации', 'Количество', 'Распределение года регистрации автомобилей', 3)"
   ]
  },
  {
   "cell_type": "markdown",
   "metadata": {},
   "source": [
    "Наши графики не такие информативные, как хотелось бы, но все же видны аномалии. Есть автомобили с годом регистрации значительно меньшим, чем 2000, или наоборот, значительно большим, например 4000. Как известно, первый автомобиль, ставший серийной моделью был запатентован в 1888 году. В нашей базе представлены данные до 2016 года включительно. Посмотрим, какое количество автомобилей не входит в интервал с 1888 по 2016 годы включительно. Возможно, это намеренное неверное указание года регистрации автомобиля, или, напрмер, дозаполнение базы, в которых изначально эти значения не были указаны."
   ]
  },
  {
   "cell_type": "code",
   "execution_count": 39,
   "metadata": {},
   "outputs": [
    {
     "data": {
      "text/html": [
       "<div>\n",
       "<style scoped>\n",
       "    .dataframe tbody tr th:only-of-type {\n",
       "        vertical-align: middle;\n",
       "    }\n",
       "\n",
       "    .dataframe tbody tr th {\n",
       "        vertical-align: top;\n",
       "    }\n",
       "\n",
       "    .dataframe thead th {\n",
       "        text-align: right;\n",
       "    }\n",
       "</style>\n",
       "<table border=\"1\" class=\"dataframe\">\n",
       "  <thead>\n",
       "    <tr style=\"text-align: right;\">\n",
       "      <th></th>\n",
       "      <th>date_crawled</th>\n",
       "      <th>price</th>\n",
       "      <th>vehicle_type</th>\n",
       "      <th>registration_year</th>\n",
       "      <th>gearbox</th>\n",
       "      <th>power</th>\n",
       "      <th>model</th>\n",
       "      <th>kilometer</th>\n",
       "      <th>registration_month</th>\n",
       "      <th>fuel_type</th>\n",
       "      <th>brand</th>\n",
       "      <th>not_repaired</th>\n",
       "      <th>date_created</th>\n",
       "      <th>number_of_pictures</th>\n",
       "      <th>postal_code</th>\n",
       "      <th>last_seen</th>\n",
       "    </tr>\n",
       "  </thead>\n",
       "  <tbody>\n",
       "    <tr>\n",
       "      <th>622</th>\n",
       "      <td>2016-03-16 16:55:09</td>\n",
       "      <td>0</td>\n",
       "      <td>NaN</td>\n",
       "      <td>1111</td>\n",
       "      <td>NaN</td>\n",
       "      <td>0</td>\n",
       "      <td>NaN</td>\n",
       "      <td>5000</td>\n",
       "      <td>0</td>\n",
       "      <td>NaN</td>\n",
       "      <td>opel</td>\n",
       "      <td>NaN</td>\n",
       "      <td>2016-03-16</td>\n",
       "      <td>0</td>\n",
       "      <td>44628</td>\n",
       "      <td>2016-03-20 16:44:37</td>\n",
       "    </tr>\n",
       "    <tr>\n",
       "      <th>16062</th>\n",
       "      <td>2016-03-29 23:42:16</td>\n",
       "      <td>190</td>\n",
       "      <td>NaN</td>\n",
       "      <td>1000</td>\n",
       "      <td>NaN</td>\n",
       "      <td>0</td>\n",
       "      <td>mondeo</td>\n",
       "      <td>5000</td>\n",
       "      <td>0</td>\n",
       "      <td>NaN</td>\n",
       "      <td>ford</td>\n",
       "      <td>NaN</td>\n",
       "      <td>2016-03-29</td>\n",
       "      <td>0</td>\n",
       "      <td>47166</td>\n",
       "      <td>2016-04-06 10:44:58</td>\n",
       "    </tr>\n",
       "    <tr>\n",
       "      <th>18224</th>\n",
       "      <td>2016-03-09 17:49:44</td>\n",
       "      <td>7999</td>\n",
       "      <td>NaN</td>\n",
       "      <td>1500</td>\n",
       "      <td>manual</td>\n",
       "      <td>224</td>\n",
       "      <td>impreza</td>\n",
       "      <td>5000</td>\n",
       "      <td>3</td>\n",
       "      <td>NaN</td>\n",
       "      <td>subaru</td>\n",
       "      <td>NaN</td>\n",
       "      <td>2016-03-09</td>\n",
       "      <td>0</td>\n",
       "      <td>53577</td>\n",
       "      <td>2016-03-15 05:15:17</td>\n",
       "    </tr>\n",
       "    <tr>\n",
       "      <th>34332</th>\n",
       "      <td>2016-04-01 06:02:10</td>\n",
       "      <td>450</td>\n",
       "      <td>NaN</td>\n",
       "      <td>1800</td>\n",
       "      <td>NaN</td>\n",
       "      <td>1800</td>\n",
       "      <td>NaN</td>\n",
       "      <td>5000</td>\n",
       "      <td>2</td>\n",
       "      <td>NaN</td>\n",
       "      <td>mitsubishi</td>\n",
       "      <td>no</td>\n",
       "      <td>2016-04-01</td>\n",
       "      <td>0</td>\n",
       "      <td>63322</td>\n",
       "      <td>2016-04-01 09:42:30</td>\n",
       "    </tr>\n",
       "    <tr>\n",
       "      <th>38875</th>\n",
       "      <td>2016-03-19 23:54:40</td>\n",
       "      <td>1234</td>\n",
       "      <td>NaN</td>\n",
       "      <td>1234</td>\n",
       "      <td>NaN</td>\n",
       "      <td>26</td>\n",
       "      <td>NaN</td>\n",
       "      <td>5000</td>\n",
       "      <td>1</td>\n",
       "      <td>NaN</td>\n",
       "      <td>trabant</td>\n",
       "      <td>NaN</td>\n",
       "      <td>2016-03-19</td>\n",
       "      <td>0</td>\n",
       "      <td>38518</td>\n",
       "      <td>2016-04-06 03:15:22</td>\n",
       "    </tr>\n",
       "    <tr>\n",
       "      <th>...</th>\n",
       "      <td>...</td>\n",
       "      <td>...</td>\n",
       "      <td>...</td>\n",
       "      <td>...</td>\n",
       "      <td>...</td>\n",
       "      <td>...</td>\n",
       "      <td>...</td>\n",
       "      <td>...</td>\n",
       "      <td>...</td>\n",
       "      <td>...</td>\n",
       "      <td>...</td>\n",
       "      <td>...</td>\n",
       "      <td>...</td>\n",
       "      <td>...</td>\n",
       "      <td>...</td>\n",
       "      <td>...</td>\n",
       "    </tr>\n",
       "    <tr>\n",
       "      <th>323443</th>\n",
       "      <td>2016-03-26 20:58:27</td>\n",
       "      <td>30</td>\n",
       "      <td>NaN</td>\n",
       "      <td>1000</td>\n",
       "      <td>NaN</td>\n",
       "      <td>0</td>\n",
       "      <td>NaN</td>\n",
       "      <td>5000</td>\n",
       "      <td>0</td>\n",
       "      <td>NaN</td>\n",
       "      <td>audi</td>\n",
       "      <td>NaN</td>\n",
       "      <td>2016-03-26</td>\n",
       "      <td>0</td>\n",
       "      <td>37574</td>\n",
       "      <td>2016-04-06 12:17:27</td>\n",
       "    </tr>\n",
       "    <tr>\n",
       "      <th>325739</th>\n",
       "      <td>2016-03-30 11:36:35</td>\n",
       "      <td>400</td>\n",
       "      <td>NaN</td>\n",
       "      <td>1000</td>\n",
       "      <td>NaN</td>\n",
       "      <td>0</td>\n",
       "      <td>NaN</td>\n",
       "      <td>5000</td>\n",
       "      <td>0</td>\n",
       "      <td>NaN</td>\n",
       "      <td>mercedes_benz</td>\n",
       "      <td>NaN</td>\n",
       "      <td>2016-03-30</td>\n",
       "      <td>0</td>\n",
       "      <td>8060</td>\n",
       "      <td>2016-04-01 06:16:46</td>\n",
       "    </tr>\n",
       "    <tr>\n",
       "      <th>340759</th>\n",
       "      <td>2016-04-04 23:55:47</td>\n",
       "      <td>700</td>\n",
       "      <td>NaN</td>\n",
       "      <td>1600</td>\n",
       "      <td>manual</td>\n",
       "      <td>1600</td>\n",
       "      <td>a3</td>\n",
       "      <td>150000</td>\n",
       "      <td>4</td>\n",
       "      <td>petrol</td>\n",
       "      <td>audi</td>\n",
       "      <td>no</td>\n",
       "      <td>2016-04-04</td>\n",
       "      <td>0</td>\n",
       "      <td>86343</td>\n",
       "      <td>2016-04-05 06:44:07</td>\n",
       "    </tr>\n",
       "    <tr>\n",
       "      <th>348830</th>\n",
       "      <td>2016-03-22 00:38:15</td>\n",
       "      <td>1</td>\n",
       "      <td>NaN</td>\n",
       "      <td>1000</td>\n",
       "      <td>NaN</td>\n",
       "      <td>1000</td>\n",
       "      <td>NaN</td>\n",
       "      <td>150000</td>\n",
       "      <td>0</td>\n",
       "      <td>NaN</td>\n",
       "      <td>sonstige_autos</td>\n",
       "      <td>NaN</td>\n",
       "      <td>2016-03-21</td>\n",
       "      <td>0</td>\n",
       "      <td>41472</td>\n",
       "      <td>2016-04-05 14:18:01</td>\n",
       "    </tr>\n",
       "    <tr>\n",
       "      <th>351682</th>\n",
       "      <td>2016-03-12 00:57:39</td>\n",
       "      <td>11500</td>\n",
       "      <td>NaN</td>\n",
       "      <td>1800</td>\n",
       "      <td>NaN</td>\n",
       "      <td>16</td>\n",
       "      <td>other</td>\n",
       "      <td>5000</td>\n",
       "      <td>6</td>\n",
       "      <td>petrol</td>\n",
       "      <td>fiat</td>\n",
       "      <td>NaN</td>\n",
       "      <td>2016-03-11</td>\n",
       "      <td>0</td>\n",
       "      <td>16515</td>\n",
       "      <td>2016-04-05 19:47:27</td>\n",
       "    </tr>\n",
       "  </tbody>\n",
       "</table>\n",
       "<p>66 rows × 16 columns</p>\n",
       "</div>"
      ],
      "text/plain": [
       "              date_crawled  price vehicle_type  registration_year gearbox  \\\n",
       "622    2016-03-16 16:55:09      0          NaN               1111     NaN   \n",
       "16062  2016-03-29 23:42:16    190          NaN               1000     NaN   \n",
       "18224  2016-03-09 17:49:44   7999          NaN               1500  manual   \n",
       "34332  2016-04-01 06:02:10    450          NaN               1800     NaN   \n",
       "38875  2016-03-19 23:54:40   1234          NaN               1234     NaN   \n",
       "...                    ...    ...          ...                ...     ...   \n",
       "323443 2016-03-26 20:58:27     30          NaN               1000     NaN   \n",
       "325739 2016-03-30 11:36:35    400          NaN               1000     NaN   \n",
       "340759 2016-04-04 23:55:47    700          NaN               1600  manual   \n",
       "348830 2016-03-22 00:38:15      1          NaN               1000     NaN   \n",
       "351682 2016-03-12 00:57:39  11500          NaN               1800     NaN   \n",
       "\n",
       "        power    model  kilometer  registration_month fuel_type  \\\n",
       "622         0      NaN       5000                   0       NaN   \n",
       "16062       0   mondeo       5000                   0       NaN   \n",
       "18224     224  impreza       5000                   3       NaN   \n",
       "34332    1800      NaN       5000                   2       NaN   \n",
       "38875      26      NaN       5000                   1       NaN   \n",
       "...       ...      ...        ...                 ...       ...   \n",
       "323443      0      NaN       5000                   0       NaN   \n",
       "325739      0      NaN       5000                   0       NaN   \n",
       "340759   1600       a3     150000                   4    petrol   \n",
       "348830   1000      NaN     150000                   0       NaN   \n",
       "351682     16    other       5000                   6    petrol   \n",
       "\n",
       "                 brand not_repaired date_created  number_of_pictures  \\\n",
       "622               opel          NaN   2016-03-16                   0   \n",
       "16062             ford          NaN   2016-03-29                   0   \n",
       "18224           subaru          NaN   2016-03-09                   0   \n",
       "34332       mitsubishi           no   2016-04-01                   0   \n",
       "38875          trabant          NaN   2016-03-19                   0   \n",
       "...                ...          ...          ...                 ...   \n",
       "323443            audi          NaN   2016-03-26                   0   \n",
       "325739   mercedes_benz          NaN   2016-03-30                   0   \n",
       "340759            audi           no   2016-04-04                   0   \n",
       "348830  sonstige_autos          NaN   2016-03-21                   0   \n",
       "351682            fiat          NaN   2016-03-11                   0   \n",
       "\n",
       "        postal_code           last_seen  \n",
       "622           44628 2016-03-20 16:44:37  \n",
       "16062         47166 2016-04-06 10:44:58  \n",
       "18224         53577 2016-03-15 05:15:17  \n",
       "34332         63322 2016-04-01 09:42:30  \n",
       "38875         38518 2016-04-06 03:15:22  \n",
       "...             ...                 ...  \n",
       "323443        37574 2016-04-06 12:17:27  \n",
       "325739         8060 2016-04-01 06:16:46  \n",
       "340759        86343 2016-04-05 06:44:07  \n",
       "348830        41472 2016-04-05 14:18:01  \n",
       "351682        16515 2016-04-05 19:47:27  \n",
       "\n",
       "[66 rows x 16 columns]"
      ]
     },
     "execution_count": 39,
     "metadata": {},
     "output_type": "execute_result"
    }
   ],
   "source": [
    "data[data['registration_year'] <= 1888]"
   ]
  },
  {
   "cell_type": "code",
   "execution_count": 40,
   "metadata": {},
   "outputs": [
    {
     "data": {
      "text/plain": [
       "2017    10441\n",
       "2018     3959\n",
       "9999       26\n",
       "2019       25\n",
       "5000       17\n",
       "3000        7\n",
       "6000        5\n",
       "2500        4\n",
       "7000        4\n",
       "4000        3\n",
       "9000        3\n",
       "8000        2\n",
       "5555        2\n",
       "2222        2\n",
       "2800        2\n",
       "4500        2\n",
       "5911        2\n",
       "3700        1\n",
       "3500        1\n",
       "2900        1\n",
       "8500        1\n",
       "4100        1\n",
       "9450        1\n",
       "5900        1\n",
       "6500        1\n",
       "7100        1\n",
       "5300        1\n",
       "7800        1\n",
       "8888        1\n",
       "8200        1\n",
       "9996        1\n",
       "8455        1\n",
       "2290        1\n",
       "2066        1\n",
       "5600        1\n",
       "4800        1\n",
       "3800        1\n",
       "3200        1\n",
       "9229        1\n",
       "2200        1\n",
       "7500        1\n",
       "Name: registration_year, dtype: int64"
      ]
     },
     "execution_count": 40,
     "metadata": {},
     "output_type": "execute_result"
    }
   ],
   "source": [
    "data[data['registration_year'] > 2016]['registration_year'].value_counts()"
   ]
  },
  {
   "cell_type": "code",
   "execution_count": 41,
   "metadata": {},
   "outputs": [
    {
     "name": "stdout",
     "output_type": "stream",
     "text": [
      "Количество аномальных значений в стоблце registration_year: 4%\n"
     ]
    }
   ],
   "source": [
    "# Определим количество аномальных значений в столбце registration_year\n",
    "print(f'Количество аномальных значений в стоблце registration_year: {round((data_new[data_new[\"registration_year\"] <= 1888].shape[0] + data_new[data_new[\"registration_year\"] > 2016].shape[0]) / data_new.shape[0] * 100)}%')"
   ]
  },
  {
   "cell_type": "markdown",
   "metadata": {},
   "source": [
    "Да, в данном столбце много аномальных значений, с годами регистрации большими, чем год размещения объявлений. Возможно большое количество машин с годом регистрации 2017 связано с тем, что это новые автомобили и они еще не зарегитрированы. Кроме того, процент этих аномалий составляет 4%, поэтому удалим данные аномалии"
   ]
  },
  {
   "cell_type": "code",
   "execution_count": 42,
   "metadata": {},
   "outputs": [],
   "source": [
    "# очистим данные от аномальных значений столбца registration_year\n",
    "data_new = data_new.loc[(data_new['registration_year'] > 1888)&(data_new['registration_year'] <= 2016)]"
   ]
  },
  {
   "cell_type": "code",
   "execution_count": 43,
   "metadata": {},
   "outputs": [
    {
     "data": {
      "text/plain": [
       "(329761, 16)"
      ]
     },
     "execution_count": 43,
     "metadata": {},
     "output_type": "execute_result"
    }
   ],
   "source": [
    "data_new.shape"
   ]
  },
  {
   "cell_type": "markdown",
   "metadata": {},
   "source": [
    "**Проанализируем столбец Power**"
   ]
  },
  {
   "cell_type": "code",
   "execution_count": 44,
   "metadata": {},
   "outputs": [
    {
     "data": {
      "image/png": "[encoded data removed]",
      "text/plain": [
       "<Figure size 864x576 with 1 Axes>"
      ]
     },
     "metadata": {
      "needs_background": "light"
     },
     "output_type": "display_data"
    },
    {
     "data": {
      "image/png": "[encoded data removed]",
      "text/plain": [
       "<Figure size 864x576 with 1 Axes>"
      ]
     },
     "metadata": {
      "needs_background": "light"
     },
     "output_type": "display_data"
    }
   ],
   "source": [
    "# построим графики\n",
    "draw_charts(data, 'power', 'Мощность', 'Количество', 'Распределение мощности автомобилей', 30)"
   ]
  },
  {
   "cell_type": "markdown",
   "metadata": {},
   "source": [
    "В данных присутствуют слишком большие по величине выбросы, поэтому создадим таблицу с мощностью до 1000 л.с., так как более этого значения это редкость"
   ]
  },
  {
   "cell_type": "code",
   "execution_count": 45,
   "metadata": {},
   "outputs": [],
   "source": [
    "# создадим таблицу power_1000 с мощностью до 1000 л.с.\n",
    "power_1000 = data_new.loc[data_new['power'] <= 1000]"
   ]
  },
  {
   "cell_type": "code",
   "execution_count": 46,
   "metadata": {},
   "outputs": [
    {
     "data": {
      "image/png": "[encoded data removed]",
      "text/plain": [
       "<Figure size 864x576 with 1 Axes>"
      ]
     },
     "metadata": {
      "needs_background": "light"
     },
     "output_type": "display_data"
    },
    {
     "data": {
      "image/png": "[encoded data removed]",
      "text/plain": [
       "<Figure size 864x576 with 1 Axes>"
      ]
     },
     "metadata": {
      "needs_background": "light"
     },
     "output_type": "display_data"
    }
   ],
   "source": [
    "# построим графики таблицы power_1000\n",
    "draw_charts(power_1000, 'power', 'Мощность', 'Количество', 'Распределение мощности автомобилей', 100)"
   ]
  },
  {
   "cell_type": "markdown",
   "metadata": {},
   "source": [
    "Как видим, здесь так же много значений мощности раной 0, возможно, это уже какие-то раритетные автомобили, которые уже не на ходу, а также аномальные значения начинаются при мощности более 600 л.с."
   ]
  },
  {
   "cell_type": "code",
   "execution_count": 47,
   "metadata": {},
   "outputs": [
    {
     "data": {
      "text/html": [
       "<div>\n",
       "<style scoped>\n",
       "    .dataframe tbody tr th:only-of-type {\n",
       "        vertical-align: middle;\n",
       "    }\n",
       "\n",
       "    .dataframe tbody tr th {\n",
       "        vertical-align: top;\n",
       "    }\n",
       "\n",
       "    .dataframe thead th {\n",
       "        text-align: right;\n",
       "    }\n",
       "</style>\n",
       "<table border=\"1\" class=\"dataframe\">\n",
       "  <thead>\n",
       "    <tr style=\"text-align: right;\">\n",
       "      <th></th>\n",
       "      <th>date_crawled</th>\n",
       "      <th>price</th>\n",
       "      <th>vehicle_type</th>\n",
       "      <th>registration_year</th>\n",
       "      <th>gearbox</th>\n",
       "      <th>power</th>\n",
       "      <th>model</th>\n",
       "      <th>kilometer</th>\n",
       "      <th>registration_month</th>\n",
       "      <th>fuel_type</th>\n",
       "      <th>brand</th>\n",
       "      <th>not_repaired</th>\n",
       "      <th>date_created</th>\n",
       "      <th>number_of_pictures</th>\n",
       "      <th>postal_code</th>\n",
       "      <th>last_seen</th>\n",
       "    </tr>\n",
       "  </thead>\n",
       "  <tbody>\n",
       "    <tr>\n",
       "      <th>0</th>\n",
       "      <td>2016-03-24 11:52:17</td>\n",
       "      <td>480</td>\n",
       "      <td>NaN</td>\n",
       "      <td>1993</td>\n",
       "      <td>manual</td>\n",
       "      <td>0</td>\n",
       "      <td>golf</td>\n",
       "      <td>150000</td>\n",
       "      <td>0</td>\n",
       "      <td>petrol</td>\n",
       "      <td>volkswagen</td>\n",
       "      <td>NaN</td>\n",
       "      <td>2016-03-24</td>\n",
       "      <td>0</td>\n",
       "      <td>70435</td>\n",
       "      <td>2016-04-07 03:16:57</td>\n",
       "    </tr>\n",
       "    <tr>\n",
       "      <th>15</th>\n",
       "      <td>2016-03-11 21:39:15</td>\n",
       "      <td>450</td>\n",
       "      <td>small</td>\n",
       "      <td>1910</td>\n",
       "      <td>NaN</td>\n",
       "      <td>0</td>\n",
       "      <td>ka</td>\n",
       "      <td>5000</td>\n",
       "      <td>0</td>\n",
       "      <td>petrol</td>\n",
       "      <td>ford</td>\n",
       "      <td>NaN</td>\n",
       "      <td>2016-03-11</td>\n",
       "      <td>0</td>\n",
       "      <td>24148</td>\n",
       "      <td>2016-03-19 08:46:47</td>\n",
       "    </tr>\n",
       "    <tr>\n",
       "      <th>32</th>\n",
       "      <td>2016-03-15 20:59:01</td>\n",
       "      <td>245</td>\n",
       "      <td>sedan</td>\n",
       "      <td>1994</td>\n",
       "      <td>NaN</td>\n",
       "      <td>0</td>\n",
       "      <td>golf</td>\n",
       "      <td>150000</td>\n",
       "      <td>2</td>\n",
       "      <td>petrol</td>\n",
       "      <td>volkswagen</td>\n",
       "      <td>no</td>\n",
       "      <td>2016-03-15</td>\n",
       "      <td>0</td>\n",
       "      <td>44145</td>\n",
       "      <td>2016-03-17 18:17:43</td>\n",
       "    </tr>\n",
       "    <tr>\n",
       "      <th>37</th>\n",
       "      <td>2016-03-28 17:50:15</td>\n",
       "      <td>1500</td>\n",
       "      <td>NaN</td>\n",
       "      <td>2016</td>\n",
       "      <td>NaN</td>\n",
       "      <td>0</td>\n",
       "      <td>kangoo</td>\n",
       "      <td>150000</td>\n",
       "      <td>1</td>\n",
       "      <td>gasoline</td>\n",
       "      <td>renault</td>\n",
       "      <td>no</td>\n",
       "      <td>2016-03-28</td>\n",
       "      <td>0</td>\n",
       "      <td>46483</td>\n",
       "      <td>2016-03-30 09:18:02</td>\n",
       "    </tr>\n",
       "    <tr>\n",
       "      <th>40</th>\n",
       "      <td>2016-03-26 22:06:17</td>\n",
       "      <td>0</td>\n",
       "      <td>NaN</td>\n",
       "      <td>1990</td>\n",
       "      <td>NaN</td>\n",
       "      <td>0</td>\n",
       "      <td>corsa</td>\n",
       "      <td>150000</td>\n",
       "      <td>1</td>\n",
       "      <td>petrol</td>\n",
       "      <td>opel</td>\n",
       "      <td>NaN</td>\n",
       "      <td>2016-03-26</td>\n",
       "      <td>0</td>\n",
       "      <td>56412</td>\n",
       "      <td>2016-03-27 17:43:34</td>\n",
       "    </tr>\n",
       "    <tr>\n",
       "      <th>...</th>\n",
       "      <td>...</td>\n",
       "      <td>...</td>\n",
       "      <td>...</td>\n",
       "      <td>...</td>\n",
       "      <td>...</td>\n",
       "      <td>...</td>\n",
       "      <td>...</td>\n",
       "      <td>...</td>\n",
       "      <td>...</td>\n",
       "      <td>...</td>\n",
       "      <td>...</td>\n",
       "      <td>...</td>\n",
       "      <td>...</td>\n",
       "      <td>...</td>\n",
       "      <td>...</td>\n",
       "      <td>...</td>\n",
       "    </tr>\n",
       "    <tr>\n",
       "      <th>354338</th>\n",
       "      <td>2016-03-31 19:52:33</td>\n",
       "      <td>180</td>\n",
       "      <td>NaN</td>\n",
       "      <td>1995</td>\n",
       "      <td>NaN</td>\n",
       "      <td>0</td>\n",
       "      <td>NaN</td>\n",
       "      <td>125000</td>\n",
       "      <td>3</td>\n",
       "      <td>petrol</td>\n",
       "      <td>opel</td>\n",
       "      <td>NaN</td>\n",
       "      <td>2016-03-31</td>\n",
       "      <td>0</td>\n",
       "      <td>41470</td>\n",
       "      <td>2016-04-06 14:18:04</td>\n",
       "    </tr>\n",
       "    <tr>\n",
       "      <th>354346</th>\n",
       "      <td>2016-03-07 17:06:35</td>\n",
       "      <td>2600</td>\n",
       "      <td>NaN</td>\n",
       "      <td>2005</td>\n",
       "      <td>auto</td>\n",
       "      <td>0</td>\n",
       "      <td>c_klasse</td>\n",
       "      <td>150000</td>\n",
       "      <td>9</td>\n",
       "      <td>NaN</td>\n",
       "      <td>mercedes_benz</td>\n",
       "      <td>NaN</td>\n",
       "      <td>2016-03-07</td>\n",
       "      <td>0</td>\n",
       "      <td>61169</td>\n",
       "      <td>2016-03-08 21:28:38</td>\n",
       "    </tr>\n",
       "    <tr>\n",
       "      <th>354363</th>\n",
       "      <td>2016-03-27 20:36:20</td>\n",
       "      <td>1150</td>\n",
       "      <td>bus</td>\n",
       "      <td>2000</td>\n",
       "      <td>manual</td>\n",
       "      <td>0</td>\n",
       "      <td>zafira</td>\n",
       "      <td>150000</td>\n",
       "      <td>3</td>\n",
       "      <td>petrol</td>\n",
       "      <td>opel</td>\n",
       "      <td>no</td>\n",
       "      <td>2016-03-27</td>\n",
       "      <td>0</td>\n",
       "      <td>26624</td>\n",
       "      <td>2016-03-29 10:17:23</td>\n",
       "    </tr>\n",
       "    <tr>\n",
       "      <th>354364</th>\n",
       "      <td>2016-03-21 09:50:58</td>\n",
       "      <td>0</td>\n",
       "      <td>NaN</td>\n",
       "      <td>2005</td>\n",
       "      <td>manual</td>\n",
       "      <td>0</td>\n",
       "      <td>colt</td>\n",
       "      <td>150000</td>\n",
       "      <td>7</td>\n",
       "      <td>petrol</td>\n",
       "      <td>mitsubishi</td>\n",
       "      <td>yes</td>\n",
       "      <td>2016-03-21</td>\n",
       "      <td>0</td>\n",
       "      <td>2694</td>\n",
       "      <td>2016-03-21 10:42:49</td>\n",
       "    </tr>\n",
       "    <tr>\n",
       "      <th>354365</th>\n",
       "      <td>2016-03-14 17:48:27</td>\n",
       "      <td>2200</td>\n",
       "      <td>NaN</td>\n",
       "      <td>2005</td>\n",
       "      <td>NaN</td>\n",
       "      <td>0</td>\n",
       "      <td>NaN</td>\n",
       "      <td>20000</td>\n",
       "      <td>1</td>\n",
       "      <td>NaN</td>\n",
       "      <td>sonstige_autos</td>\n",
       "      <td>NaN</td>\n",
       "      <td>2016-03-14</td>\n",
       "      <td>0</td>\n",
       "      <td>39576</td>\n",
       "      <td>2016-04-06 00:46:52</td>\n",
       "    </tr>\n",
       "  </tbody>\n",
       "</table>\n",
       "<p>40225 rows × 16 columns</p>\n",
       "</div>"
      ],
      "text/plain": [
       "              date_crawled  price vehicle_type  registration_year gearbox  \\\n",
       "0      2016-03-24 11:52:17    480          NaN               1993  manual   \n",
       "15     2016-03-11 21:39:15    450        small               1910     NaN   \n",
       "32     2016-03-15 20:59:01    245        sedan               1994     NaN   \n",
       "37     2016-03-28 17:50:15   1500          NaN               2016     NaN   \n",
       "40     2016-03-26 22:06:17      0          NaN               1990     NaN   \n",
       "...                    ...    ...          ...                ...     ...   \n",
       "354338 2016-03-31 19:52:33    180          NaN               1995     NaN   \n",
       "354346 2016-03-07 17:06:35   2600          NaN               2005    auto   \n",
       "354363 2016-03-27 20:36:20   1150          bus               2000  manual   \n",
       "354364 2016-03-21 09:50:58      0          NaN               2005  manual   \n",
       "354365 2016-03-14 17:48:27   2200          NaN               2005     NaN   \n",
       "\n",
       "        power     model  kilometer  registration_month fuel_type  \\\n",
       "0           0      golf     150000                   0    petrol   \n",
       "15          0        ka       5000                   0    petrol   \n",
       "32          0      golf     150000                   2    petrol   \n",
       "37          0    kangoo     150000                   1  gasoline   \n",
       "40          0     corsa     150000                   1    petrol   \n",
       "...       ...       ...        ...                 ...       ...   \n",
       "354338      0       NaN     125000                   3    petrol   \n",
       "354346      0  c_klasse     150000                   9       NaN   \n",
       "354363      0    zafira     150000                   3    petrol   \n",
       "354364      0      colt     150000                   7    petrol   \n",
       "354365      0       NaN      20000                   1       NaN   \n",
       "\n",
       "                 brand not_repaired date_created  number_of_pictures  \\\n",
       "0           volkswagen          NaN   2016-03-24                   0   \n",
       "15                ford          NaN   2016-03-11                   0   \n",
       "32          volkswagen           no   2016-03-15                   0   \n",
       "37             renault           no   2016-03-28                   0   \n",
       "40                opel          NaN   2016-03-26                   0   \n",
       "...                ...          ...          ...                 ...   \n",
       "354338            opel          NaN   2016-03-31                   0   \n",
       "354346   mercedes_benz          NaN   2016-03-07                   0   \n",
       "354363            opel           no   2016-03-27                   0   \n",
       "354364      mitsubishi          yes   2016-03-21                   0   \n",
       "354365  sonstige_autos          NaN   2016-03-14                   0   \n",
       "\n",
       "        postal_code           last_seen  \n",
       "0             70435 2016-04-07 03:16:57  \n",
       "15            24148 2016-03-19 08:46:47  \n",
       "32            44145 2016-03-17 18:17:43  \n",
       "37            46483 2016-03-30 09:18:02  \n",
       "40            56412 2016-03-27 17:43:34  \n",
       "...             ...                 ...  \n",
       "354338        41470 2016-04-06 14:18:04  \n",
       "354346        61169 2016-03-08 21:28:38  \n",
       "354363        26624 2016-03-29 10:17:23  \n",
       "354364         2694 2016-03-21 10:42:49  \n",
       "354365        39576 2016-04-06 00:46:52  \n",
       "\n",
       "[40225 rows x 16 columns]"
      ]
     },
     "execution_count": 47,
     "metadata": {},
     "output_type": "execute_result"
    }
   ],
   "source": [
    "# посмотрим на строки, в которых power = 0\n",
    "data[data['power'] == 0]"
   ]
  },
  {
   "cell_type": "code",
   "execution_count": 48,
   "metadata": {},
   "outputs": [
    {
     "name": "stdout",
     "output_type": "stream",
     "text": [
      "Количество аномальных значений в стоблце power: 10%\n"
     ]
    }
   ],
   "source": [
    "# Определим количество аномальных значений в столбце power\n",
    "print(f'Количество аномальных значений в стоблце power: {round((data_new[data_new[\"power\"] < 30].shape[0] + data_new[data_new[\"power\"] > 600].shape[0]) / data_new.shape[0] * 100)}%')"
   ]
  },
  {
   "cell_type": "markdown",
   "metadata": {},
   "source": [
    "В целом наша теория не подтвердилась, поэтому удалим данные, в которых мощность менее 30 л.с. и более 600 л.с., процентное значение аномальных знаений составляет 10."
   ]
  },
  {
   "cell_type": "code",
   "execution_count": 49,
   "metadata": {},
   "outputs": [],
   "source": [
    "# очистим данные от аномальных значений столбца power\n",
    "data_new = data_new.loc[(data_new['power'] > 30)&(data_new['power'] <= 600)]"
   ]
  },
  {
   "cell_type": "code",
   "execution_count": 50,
   "metadata": {},
   "outputs": [
    {
     "data": {
      "text/plain": [
       "(295698, 16)"
      ]
     },
     "execution_count": 50,
     "metadata": {},
     "output_type": "execute_result"
    }
   ],
   "source": [
    "data_new.shape"
   ]
  },
  {
   "cell_type": "markdown",
   "metadata": {},
   "source": [
    "**Исследуем столбец registration_month**"
   ]
  },
  {
   "cell_type": "code",
   "execution_count": 51,
   "metadata": {
    "scrolled": true
   },
   "outputs": [
    {
     "data": {
      "image/png": "[encoded data removed]",
      "text/plain": [
       "<Figure size 864x576 with 1 Axes>"
      ]
     },
     "metadata": {
      "needs_background": "light"
     },
     "output_type": "display_data"
    },
    {
     "data": {
      "image/png": "[encoded data removed]",
      "text/plain": [
       "<Figure size 864x576 with 1 Axes>"
      ]
     },
     "metadata": {
      "needs_background": "light"
     },
     "output_type": "display_data"
    }
   ],
   "source": [
    "# построим графики\n",
    "draw_charts(data, 'registration_month', 'Месяц регистрации', 'Количество', 'Распределение автомобилей в зависимости от месяца регистрации', 30)"
   ]
  },
  {
   "cell_type": "markdown",
   "metadata": {},
   "source": [
    "Как видим, очень много значений с месяце регистрации 0. Скорее всего в изначальных данных этот параметр не указывался и это было автозаполнения пропущенных значений. Определим их долю."
   ]
  },
  {
   "cell_type": "code",
   "execution_count": 52,
   "metadata": {},
   "outputs": [
    {
     "name": "stdout",
     "output_type": "stream",
     "text": [
      "Количество аномальных значений в стоблце power: 6%\n"
     ]
    }
   ],
   "source": [
    "# Определим количество аномальных значений в столбце registration_month\n",
    "print(f'Количество аномальных значений в стоблце power: {round(data_new[data_new[\"registration_month\"] == 0].shape[0] / data_new.shape[0] * 100)}%')"
   ]
  },
  {
   "cell_type": "markdown",
   "metadata": {},
   "source": [
    "Таких данных 6%. Мое мнеение, что эти данные удалять не надо и их модно оставить как есть, так как скорее всего по данным строкам нет заполненой информации."
   ]
  },
  {
   "cell_type": "markdown",
   "metadata": {},
   "source": [
    "В данном пункте мы провели исследовательский анализ данных, отсекли некоторые аномальные значения. В следующем пункте проведем подготовку данных: еще раз обратим внимание на пропуски, признаки и сформируем данные, на основании которых можно проводить обучение моделей."
   ]
  },
  {
   "cell_type": "markdown",
   "metadata": {},
   "source": [
    "### Подготовка данных"
   ]
  },
  {
   "cell_type": "markdown",
   "metadata": {},
   "source": [
    "В данном пункте проведем предобработку данных:\n",
    "\n",
    "1) заменим пропуски в столбцах\n",
    "\n",
    "2) удалим ненужные столбцы\n",
    "\n",
    "3) проведем перекодировку данных\n",
    "\n",
    "4) разделим данные на выборки"
   ]
  },
  {
   "cell_type": "code",
   "execution_count": 53,
   "metadata": {},
   "outputs": [
    {
     "data": {
      "text/html": [
       "<div>\n",
       "<style scoped>\n",
       "    .dataframe tbody tr th:only-of-type {\n",
       "        vertical-align: middle;\n",
       "    }\n",
       "\n",
       "    .dataframe tbody tr th {\n",
       "        vertical-align: top;\n",
       "    }\n",
       "\n",
       "    .dataframe thead th {\n",
       "        text-align: right;\n",
       "    }\n",
       "</style>\n",
       "<table border=\"1\" class=\"dataframe\">\n",
       "  <thead>\n",
       "    <tr style=\"text-align: right;\">\n",
       "      <th></th>\n",
       "      <th>index</th>\n",
       "      <th>Missing Values Count</th>\n",
       "      <th>Missing Values %</th>\n",
       "    </tr>\n",
       "  </thead>\n",
       "  <tbody>\n",
       "    <tr>\n",
       "      <th>11</th>\n",
       "      <td>not_repaired</td>\n",
       "      <td>42734</td>\n",
       "      <td>14.45</td>\n",
       "    </tr>\n",
       "    <tr>\n",
       "      <th>9</th>\n",
       "      <td>fuel_type</td>\n",
       "      <td>15459</td>\n",
       "      <td>5.23</td>\n",
       "    </tr>\n",
       "    <tr>\n",
       "      <th>2</th>\n",
       "      <td>vehicle_type</td>\n",
       "      <td>10982</td>\n",
       "      <td>3.71</td>\n",
       "    </tr>\n",
       "    <tr>\n",
       "      <th>6</th>\n",
       "      <td>model</td>\n",
       "      <td>10932</td>\n",
       "      <td>3.70</td>\n",
       "    </tr>\n",
       "    <tr>\n",
       "      <th>4</th>\n",
       "      <td>gearbox</td>\n",
       "      <td>5313</td>\n",
       "      <td>1.80</td>\n",
       "    </tr>\n",
       "  </tbody>\n",
       "</table>\n",
       "</div>"
      ],
      "text/plain": [
       "           index  Missing Values Count  Missing Values %\n",
       "11  not_repaired                 42734             14.45\n",
       "9      fuel_type                 15459              5.23\n",
       "2   vehicle_type                 10982              3.71\n",
       "6          model                 10932              3.70\n",
       "4        gearbox                  5313              1.80"
      ]
     },
     "metadata": {},
     "output_type": "display_data"
    }
   ],
   "source": [
    "# посмотрим еще раз на пропуски, так как была обработка данных\n",
    "missing_values_percentage(data_new)"
   ]
  },
  {
   "cell_type": "code",
   "execution_count": 54,
   "metadata": {},
   "outputs": [
    {
     "data": {
      "text/plain": [
       "manual    231621\n",
       "auto       58764\n",
       "Name: gearbox, dtype: int64"
      ]
     },
     "execution_count": 54,
     "metadata": {},
     "output_type": "execute_result"
    }
   ],
   "source": [
    "# посмотрим значения в столбце gearbox\n",
    "data_new['gearbox'].value_counts()"
   ]
  },
  {
   "cell_type": "markdown",
   "metadata": {},
   "source": [
    "Как видим, в данном столбце всего две коробки передачи. Скорее всего по имеющисся у нас данным будет слодно восстановить с высокой точностью, в каком случае какая коробка передач, так как у одной и то же модели могут быть разные коробки передач. Кроме того, могут быть гибридные автомобили. Поэтому пропуски в данной строке заполним на 'other'"
   ]
  },
  {
   "cell_type": "code",
   "execution_count": 55,
   "metadata": {},
   "outputs": [],
   "source": [
    "# заполнение пропусков в столбце gearbox\n",
    "data_new['gearbox'] = data_new['gearbox'].fillna('other')"
   ]
  },
  {
   "cell_type": "code",
   "execution_count": 56,
   "metadata": {},
   "outputs": [
    {
     "data": {
      "text/plain": [
       "manual    231621\n",
       "auto       58764\n",
       "other       5313\n",
       "Name: gearbox, dtype: int64"
      ]
     },
     "execution_count": 56,
     "metadata": {},
     "output_type": "execute_result"
    }
   ],
   "source": [
    "# еще раз проверим столбец gearbox\n",
    "data_new['gearbox'].value_counts()"
   ]
  },
  {
   "cell_type": "markdown",
   "metadata": {},
   "source": [
    "Пропуски в других столбцах заменим на unknown, так как по имеющемуся разнообразию данных сложно восстановить доставерно, какая модель, тип топлива был у автомобиля, ремонтировалась она или нет"
   ]
  },
  {
   "cell_type": "code",
   "execution_count": 57,
   "metadata": {},
   "outputs": [],
   "source": [
    "# заполним пропуски в столбцах vehicle_type, model, fuel_type, not_repaired\n",
    "list_name = ['vehicle_type', 'model', 'fuel_type', 'not_repaired']\n",
    "for name in list_name:\n",
    "    data_new[name] = data_new[name].fillna('unknown')"
   ]
  },
  {
   "cell_type": "code",
   "execution_count": 58,
   "metadata": {},
   "outputs": [
    {
     "data": {
      "text/plain": [
       "date_crawled          0\n",
       "price                 0\n",
       "vehicle_type          0\n",
       "registration_year     0\n",
       "gearbox               0\n",
       "power                 0\n",
       "model                 0\n",
       "kilometer             0\n",
       "registration_month    0\n",
       "fuel_type             0\n",
       "brand                 0\n",
       "not_repaired          0\n",
       "date_created          0\n",
       "number_of_pictures    0\n",
       "postal_code           0\n",
       "last_seen             0\n",
       "dtype: int64"
      ]
     },
     "execution_count": 58,
     "metadata": {},
     "output_type": "execute_result"
    }
   ],
   "source": [
    "data_new.isna().sum()"
   ]
  },
  {
   "cell_type": "markdown",
   "metadata": {},
   "source": [
    "Все данные заполнены. Далее удалим столбцы, которые на мой взгляд не имеют значения для обучения модели. Мы удалим следующие столбцы:\n",
    "\n",
    "1) date_crawled - нам не нужна информация о дате скачивания анкеты из базы, в ней нет какой-то нужно для обучения модели информации\n",
    "\n",
    "2) numbers_of_pictures - как мы видели выше во всех строках отсутствуют картинки, поэтому особого смысла в этом столбце нет\n",
    "\n",
    "3) postal_code - так же удаляем, так как какого значения в обучении модели предсказания стоимости автомобиля по данному признаку нет\n",
    "\n",
    "4) last_seen - нам также не важно, когда в последний раз была активность пользователя\n"
   ]
  },
  {
   "cell_type": "code",
   "execution_count": 59,
   "metadata": {},
   "outputs": [],
   "source": [
    "# удаляем столбцы data_crawled, number_of_pictures, postal_code, last_seen, date_created\n",
    "data_new.drop(columns=['date_crawled', 'number_of_pictures', 'postal_code', 'last_seen', 'date_created'], inplace=True)"
   ]
  },
  {
   "cell_type": "code",
   "execution_count": 60,
   "metadata": {},
   "outputs": [
    {
     "name": "stdout",
     "output_type": "stream",
     "text": [
      "<class 'pandas.core.frame.DataFrame'>\n",
      "Int64Index: 295698 entries, 1 to 354368\n",
      "Data columns (total 11 columns):\n",
      " #   Column              Non-Null Count   Dtype \n",
      "---  ------              --------------   ----- \n",
      " 0   price               295698 non-null  int64 \n",
      " 1   vehicle_type        295698 non-null  object\n",
      " 2   registration_year   295698 non-null  int64 \n",
      " 3   gearbox             295698 non-null  object\n",
      " 4   power               295698 non-null  int64 \n",
      " 5   model               295698 non-null  object\n",
      " 6   kilometer           295698 non-null  int64 \n",
      " 7   registration_month  295698 non-null  int64 \n",
      " 8   fuel_type           295698 non-null  object\n",
      " 9   brand               295698 non-null  object\n",
      " 10  not_repaired        295698 non-null  object\n",
      "dtypes: int64(5), object(6)\n",
      "memory usage: 27.1+ MB\n"
     ]
    }
   ],
   "source": [
    "# проверим, удалились ли указанные столбцы\n",
    "data_new.info()"
   ]
  },
  {
   "cell_type": "markdown",
   "metadata": {},
   "source": [
    "Удаление столбцов мы осуществили. ПРиступим к кодировке категориальных признаков. КАтегориальные признаки находятся в стобцах:\n",
    "vehicle_type, model, fuel_type, brand,. Данные столбцы мы преобразуем методом OrdinalEncoder. Столбцы gearbox и not_repaired удобнее преобразовать методом OHE."
   ]
  },
  {
   "cell_type": "code",
   "execution_count": 61,
   "metadata": {},
   "outputs": [],
   "source": [
    "# произведем перекодирование столбцов vehicle_type, model, fuel_type, brand методом OrdinalEncoder()\n",
    "ce_ordinal = ce.OrdinalEncoder(cols = ['vehicle_type', 'model', 'fuel_type', 'brand'])\n",
    "data_new_ordinal = ce_ordinal.fit_transform(data_new)"
   ]
  },
  {
   "cell_type": "code",
   "execution_count": 62,
   "metadata": {},
   "outputs": [],
   "source": [
    "# произведем перекодирование столбцов gearbox и not_repaired методом OHE\n",
    "data_new_ordinal['gearbox'] = pd.get_dummies(data_new_ordinal['gearbox'], drop_first=True)\n",
    "data_new_ordinal['not_repaired'] = pd.get_dummies(data_new_ordinal['not_repaired'], drop_first=True)"
   ]
  },
  {
   "cell_type": "code",
   "execution_count": 63,
   "metadata": {
    "scrolled": true
   },
   "outputs": [
    {
     "data": {
      "text/html": [
       "<div>\n",
       "<style scoped>\n",
       "    .dataframe tbody tr th:only-of-type {\n",
       "        vertical-align: middle;\n",
       "    }\n",
       "\n",
       "    .dataframe tbody tr th {\n",
       "        vertical-align: top;\n",
       "    }\n",
       "\n",
       "    .dataframe thead th {\n",
       "        text-align: right;\n",
       "    }\n",
       "</style>\n",
       "<table border=\"1\" class=\"dataframe\">\n",
       "  <thead>\n",
       "    <tr style=\"text-align: right;\">\n",
       "      <th></th>\n",
       "      <th>price</th>\n",
       "      <th>vehicle_type</th>\n",
       "      <th>registration_year</th>\n",
       "      <th>gearbox</th>\n",
       "      <th>power</th>\n",
       "      <th>model</th>\n",
       "      <th>kilometer</th>\n",
       "      <th>registration_month</th>\n",
       "      <th>fuel_type</th>\n",
       "      <th>brand</th>\n",
       "      <th>not_repaired</th>\n",
       "    </tr>\n",
       "  </thead>\n",
       "  <tbody>\n",
       "    <tr>\n",
       "      <th>1</th>\n",
       "      <td>18300</td>\n",
       "      <td>1</td>\n",
       "      <td>2011</td>\n",
       "      <td>1</td>\n",
       "      <td>190</td>\n",
       "      <td>1</td>\n",
       "      <td>125000</td>\n",
       "      <td>5</td>\n",
       "      <td>1</td>\n",
       "      <td>1</td>\n",
       "      <td>0</td>\n",
       "    </tr>\n",
       "    <tr>\n",
       "      <th>2</th>\n",
       "      <td>9800</td>\n",
       "      <td>2</td>\n",
       "      <td>2004</td>\n",
       "      <td>0</td>\n",
       "      <td>163</td>\n",
       "      <td>2</td>\n",
       "      <td>125000</td>\n",
       "      <td>8</td>\n",
       "      <td>1</td>\n",
       "      <td>2</td>\n",
       "      <td>1</td>\n",
       "    </tr>\n",
       "    <tr>\n",
       "      <th>3</th>\n",
       "      <td>1500</td>\n",
       "      <td>3</td>\n",
       "      <td>2001</td>\n",
       "      <td>1</td>\n",
       "      <td>75</td>\n",
       "      <td>3</td>\n",
       "      <td>150000</td>\n",
       "      <td>6</td>\n",
       "      <td>2</td>\n",
       "      <td>3</td>\n",
       "      <td>0</td>\n",
       "    </tr>\n",
       "    <tr>\n",
       "      <th>4</th>\n",
       "      <td>3600</td>\n",
       "      <td>3</td>\n",
       "      <td>2008</td>\n",
       "      <td>1</td>\n",
       "      <td>69</td>\n",
       "      <td>4</td>\n",
       "      <td>90000</td>\n",
       "      <td>7</td>\n",
       "      <td>1</td>\n",
       "      <td>4</td>\n",
       "      <td>0</td>\n",
       "    </tr>\n",
       "    <tr>\n",
       "      <th>5</th>\n",
       "      <td>650</td>\n",
       "      <td>4</td>\n",
       "      <td>1995</td>\n",
       "      <td>1</td>\n",
       "      <td>102</td>\n",
       "      <td>5</td>\n",
       "      <td>150000</td>\n",
       "      <td>10</td>\n",
       "      <td>2</td>\n",
       "      <td>5</td>\n",
       "      <td>0</td>\n",
       "    </tr>\n",
       "  </tbody>\n",
       "</table>\n",
       "</div>"
      ],
      "text/plain": [
       "   price  vehicle_type  registration_year  gearbox  power  model  kilometer  \\\n",
       "1  18300             1               2011        1    190      1     125000   \n",
       "2   9800             2               2004        0    163      2     125000   \n",
       "3   1500             3               2001        1     75      3     150000   \n",
       "4   3600             3               2008        1     69      4      90000   \n",
       "5    650             4               1995        1    102      5     150000   \n",
       "\n",
       "   registration_month  fuel_type  brand  not_repaired  \n",
       "1                   5          1      1             0  \n",
       "2                   8          1      2             1  \n",
       "3                   6          2      3             0  \n",
       "4                   7          1      4             0  \n",
       "5                  10          2      5             0  "
      ]
     },
     "execution_count": 63,
     "metadata": {},
     "output_type": "execute_result"
    }
   ],
   "source": [
    "# как видим все категориальные данные приведены к числовым\n",
    "data_new_ordinal.head()"
   ]
  },
  {
   "cell_type": "code",
   "execution_count": 64,
   "metadata": {},
   "outputs": [
    {
     "name": "stdout",
     "output_type": "stream",
     "text": [
      "<class 'pandas.core.frame.DataFrame'>\n",
      "Int64Index: 295698 entries, 1 to 354368\n",
      "Data columns (total 11 columns):\n",
      " #   Column              Non-Null Count   Dtype\n",
      "---  ------              --------------   -----\n",
      " 0   price               295698 non-null  int64\n",
      " 1   vehicle_type        295698 non-null  int64\n",
      " 2   registration_year   295698 non-null  int64\n",
      " 3   gearbox             295698 non-null  uint8\n",
      " 4   power               295698 non-null  int64\n",
      " 5   model               295698 non-null  int64\n",
      " 6   kilometer           295698 non-null  int64\n",
      " 7   registration_month  295698 non-null  int64\n",
      " 8   fuel_type           295698 non-null  int64\n",
      " 9   brand               295698 non-null  int64\n",
      " 10  not_repaired        295698 non-null  uint8\n",
      "dtypes: int64(9), uint8(2)\n",
      "memory usage: 23.1 MB\n"
     ]
    }
   ],
   "source": [
    "data_new_ordinal.info()"
   ]
  },
  {
   "cell_type": "markdown",
   "metadata": {},
   "source": [
    "### Разделение выборки на тренировочную, валидационную и учебную"
   ]
  },
  {
   "cell_type": "markdown",
   "metadata": {},
   "source": [
    "В данном разделе разделим нашу выборку на тренирововчную, валидационную и тестовую"
   ]
  },
  {
   "cell_type": "code",
   "execution_count": 65,
   "metadata": {},
   "outputs": [],
   "source": [
    "# выделим целевой признак, по условию задачи это столбец price\n",
    "features = data_new_ordinal.drop('price', axis=1)\n",
    "target = data_new_ordinal['price']"
   ]
  },
  {
   "cell_type": "code",
   "execution_count": 66,
   "metadata": {},
   "outputs": [],
   "source": [
    "# проведем масштабирование данных\n",
    "#scaler = StandardScaler()\n",
    "#features = scaler.fit_transform(features, target)"
   ]
  },
  {
   "cell_type": "code",
   "execution_count": 67,
   "metadata": {
    "scrolled": true
   },
   "outputs": [
    {
     "data": {
      "text/html": [
       "<div>\n",
       "<style scoped>\n",
       "    .dataframe tbody tr th:only-of-type {\n",
       "        vertical-align: middle;\n",
       "    }\n",
       "\n",
       "    .dataframe tbody tr th {\n",
       "        vertical-align: top;\n",
       "    }\n",
       "\n",
       "    .dataframe thead th {\n",
       "        text-align: right;\n",
       "    }\n",
       "</style>\n",
       "<table border=\"1\" class=\"dataframe\">\n",
       "  <thead>\n",
       "    <tr style=\"text-align: right;\">\n",
       "      <th></th>\n",
       "      <th>vehicle_type</th>\n",
       "      <th>registration_year</th>\n",
       "      <th>gearbox</th>\n",
       "      <th>power</th>\n",
       "      <th>model</th>\n",
       "      <th>kilometer</th>\n",
       "      <th>registration_month</th>\n",
       "      <th>fuel_type</th>\n",
       "      <th>brand</th>\n",
       "      <th>not_repaired</th>\n",
       "    </tr>\n",
       "  </thead>\n",
       "  <tbody>\n",
       "    <tr>\n",
       "      <th>1</th>\n",
       "      <td>1</td>\n",
       "      <td>2011</td>\n",
       "      <td>1</td>\n",
       "      <td>190</td>\n",
       "      <td>1</td>\n",
       "      <td>125000</td>\n",
       "      <td>5</td>\n",
       "      <td>1</td>\n",
       "      <td>1</td>\n",
       "      <td>0</td>\n",
       "    </tr>\n",
       "    <tr>\n",
       "      <th>2</th>\n",
       "      <td>2</td>\n",
       "      <td>2004</td>\n",
       "      <td>0</td>\n",
       "      <td>163</td>\n",
       "      <td>2</td>\n",
       "      <td>125000</td>\n",
       "      <td>8</td>\n",
       "      <td>1</td>\n",
       "      <td>2</td>\n",
       "      <td>1</td>\n",
       "    </tr>\n",
       "    <tr>\n",
       "      <th>3</th>\n",
       "      <td>3</td>\n",
       "      <td>2001</td>\n",
       "      <td>1</td>\n",
       "      <td>75</td>\n",
       "      <td>3</td>\n",
       "      <td>150000</td>\n",
       "      <td>6</td>\n",
       "      <td>2</td>\n",
       "      <td>3</td>\n",
       "      <td>0</td>\n",
       "    </tr>\n",
       "    <tr>\n",
       "      <th>4</th>\n",
       "      <td>3</td>\n",
       "      <td>2008</td>\n",
       "      <td>1</td>\n",
       "      <td>69</td>\n",
       "      <td>4</td>\n",
       "      <td>90000</td>\n",
       "      <td>7</td>\n",
       "      <td>1</td>\n",
       "      <td>4</td>\n",
       "      <td>0</td>\n",
       "    </tr>\n",
       "    <tr>\n",
       "      <th>5</th>\n",
       "      <td>4</td>\n",
       "      <td>1995</td>\n",
       "      <td>1</td>\n",
       "      <td>102</td>\n",
       "      <td>5</td>\n",
       "      <td>150000</td>\n",
       "      <td>10</td>\n",
       "      <td>2</td>\n",
       "      <td>5</td>\n",
       "      <td>0</td>\n",
       "    </tr>\n",
       "  </tbody>\n",
       "</table>\n",
       "</div>"
      ],
      "text/plain": [
       "   vehicle_type  registration_year  gearbox  power  model  kilometer  \\\n",
       "1             1               2011        1    190      1     125000   \n",
       "2             2               2004        0    163      2     125000   \n",
       "3             3               2001        1     75      3     150000   \n",
       "4             3               2008        1     69      4      90000   \n",
       "5             4               1995        1    102      5     150000   \n",
       "\n",
       "   registration_month  fuel_type  brand  not_repaired  \n",
       "1                   5          1      1             0  \n",
       "2                   8          1      2             1  \n",
       "3                   6          2      3             0  \n",
       "4                   7          1      4             0  \n",
       "5                  10          2      5             0  "
      ]
     },
     "execution_count": 67,
     "metadata": {},
     "output_type": "execute_result"
    }
   ],
   "source": [
    "# код ревьюера\n",
    "pd.DataFrame(features).head()"
   ]
  },
  {
   "cell_type": "markdown",
   "metadata": {},
   "source": [
    "Обычно для разделения выборки используют соотношение 3:1:1 (тренировочная, валидационная и тестовая выборки соответственно). Разделим наши данные в соответствии с указанными пропорциями"
   ]
  },
  {
   "cell_type": "code",
   "execution_count": 68,
   "metadata": {},
   "outputs": [],
   "source": [
    "# для начала выдели тренировочную и промежуточную выборки, затем промежуточную выборку разделим на тренировочную и валидационную\n",
    "features_train, features_valid_test, target_train, target_valid_test = train_test_split(features, target, test_size=0.4, random_state=12345)\n",
    "features_valid, features_test, target_valid, target_test = train_test_split(features_valid_test, target_valid_test, test_size=0.5, random_state=12345)"
   ]
  },
  {
   "cell_type": "code",
   "execution_count": 69,
   "metadata": {},
   "outputs": [
    {
     "name": "stdout",
     "output_type": "stream",
     "text": [
      "Размеры наборов данных:\n",
      "features_train:  (177418, 10) target_train:  (177418,)\n",
      "features_valid:  (59140, 10) target_valid:  (59140,)\n",
      "features_test:   (59140, 10) target_test:  (59140,)\n"
     ]
    }
   ],
   "source": [
    "# выведем размеры получившихся выборок\n",
    "print('Размеры наборов данных:')\n",
    "print('features_train: ', features_train.shape, 'target_train: ', target_train.shape)\n",
    "print('features_valid: ', features_valid.shape, 'target_valid: ', target_valid.shape)\n",
    "print('features_test:  ', features_test.shape, 'target_test: ', target_test.shape)"
   ]
  },
  {
   "cell_type": "code",
   "execution_count": 70,
   "metadata": {
    "scrolled": true
   },
   "outputs": [
    {
     "name": "stdout",
     "output_type": "stream",
     "text": [
      "True\n",
      "True\n"
     ]
    }
   ],
   "source": [
    "# проверим соответствие размеров выборок общему количеству строк исходного файла\n",
    "print(features_train.shape[0] + features_valid.shape[0] + features_test.shape[0] == data_new_ordinal.shape[0])\n",
    "print(target_train.shape[0] + target_valid.shape[0] + target_test.shape[0] == data_new_ordinal.shape[0])"
   ]
  },
  {
   "cell_type": "markdown",
   "metadata": {},
   "source": [
    "**Доработка**"
   ]
  },
  {
   "cell_type": "code",
   "execution_count": 71,
   "metadata": {
    "scrolled": true
   },
   "outputs": [
    {
     "name": "stderr",
     "output_type": "stream",
     "text": [
      "/tmp/ipykernel_91/813844616.py:5: SettingWithCopyWarning: \n",
      "A value is trying to be set on a copy of a slice from a DataFrame.\n",
      "Try using .loc[row_indexer,col_indexer] = value instead\n",
      "\n",
      "See the caveats in the documentation: https://pandas.pydata.org/pandas-docs/stable/user_guide/indexing.html#returning-a-view-versus-a-copy\n",
      "  features_train[numeric] = scaler.transform(features_train[numeric])\n",
      "/opt/conda/lib/python3.9/site-packages/pandas/core/indexing.py:1738: SettingWithCopyWarning: \n",
      "A value is trying to be set on a copy of a slice from a DataFrame.\n",
      "Try using .loc[row_indexer,col_indexer] = value instead\n",
      "\n",
      "See the caveats in the documentation: https://pandas.pydata.org/pandas-docs/stable/user_guide/indexing.html#returning-a-view-versus-a-copy\n",
      "  self._setitem_single_column(loc, value[:, i].tolist(), pi)\n",
      "/tmp/ipykernel_91/813844616.py:6: SettingWithCopyWarning: \n",
      "A value is trying to be set on a copy of a slice from a DataFrame.\n",
      "Try using .loc[row_indexer,col_indexer] = value instead\n",
      "\n",
      "See the caveats in the documentation: https://pandas.pydata.org/pandas-docs/stable/user_guide/indexing.html#returning-a-view-versus-a-copy\n",
      "  features_valid[numeric] = scaler.transform(features_valid[numeric])\n",
      "/opt/conda/lib/python3.9/site-packages/pandas/core/indexing.py:1738: SettingWithCopyWarning: \n",
      "A value is trying to be set on a copy of a slice from a DataFrame.\n",
      "Try using .loc[row_indexer,col_indexer] = value instead\n",
      "\n",
      "See the caveats in the documentation: https://pandas.pydata.org/pandas-docs/stable/user_guide/indexing.html#returning-a-view-versus-a-copy\n",
      "  self._setitem_single_column(loc, value[:, i].tolist(), pi)\n",
      "/tmp/ipykernel_91/813844616.py:7: SettingWithCopyWarning: \n",
      "A value is trying to be set on a copy of a slice from a DataFrame.\n",
      "Try using .loc[row_indexer,col_indexer] = value instead\n",
      "\n",
      "See the caveats in the documentation: https://pandas.pydata.org/pandas-docs/stable/user_guide/indexing.html#returning-a-view-versus-a-copy\n",
      "  features_test[numeric] = scaler.transform(features_test[numeric])\n",
      "/opt/conda/lib/python3.9/site-packages/pandas/core/indexing.py:1738: SettingWithCopyWarning: \n",
      "A value is trying to be set on a copy of a slice from a DataFrame.\n",
      "Try using .loc[row_indexer,col_indexer] = value instead\n",
      "\n",
      "See the caveats in the documentation: https://pandas.pydata.org/pandas-docs/stable/user_guide/indexing.html#returning-a-view-versus-a-copy\n",
      "  self._setitem_single_column(loc, value[:, i].tolist(), pi)\n"
     ]
    }
   ],
   "source": [
    "# проведем масштабирование данных\n",
    "numeric = ['registration_year', 'power', 'kilometer']\n",
    "scaler = StandardScaler()\n",
    "scaler.fit(features_train[numeric])\n",
    "features_train[numeric] = scaler.transform(features_train[numeric])\n",
    "features_valid[numeric] = scaler.transform(features_valid[numeric])\n",
    "features_test[numeric] = scaler.transform(features_test[numeric])"
   ]
  },
  {
   "cell_type": "code",
   "execution_count": 72,
   "metadata": {},
   "outputs": [
    {
     "data": {
      "text/html": [
       "<div>\n",
       "<style scoped>\n",
       "    .dataframe tbody tr th:only-of-type {\n",
       "        vertical-align: middle;\n",
       "    }\n",
       "\n",
       "    .dataframe tbody tr th {\n",
       "        vertical-align: top;\n",
       "    }\n",
       "\n",
       "    .dataframe thead th {\n",
       "        text-align: right;\n",
       "    }\n",
       "</style>\n",
       "<table border=\"1\" class=\"dataframe\">\n",
       "  <thead>\n",
       "    <tr style=\"text-align: right;\">\n",
       "      <th></th>\n",
       "      <th>vehicle_type</th>\n",
       "      <th>registration_year</th>\n",
       "      <th>gearbox</th>\n",
       "      <th>power</th>\n",
       "      <th>model</th>\n",
       "      <th>kilometer</th>\n",
       "      <th>registration_month</th>\n",
       "      <th>fuel_type</th>\n",
       "      <th>brand</th>\n",
       "      <th>not_repaired</th>\n",
       "    </tr>\n",
       "  </thead>\n",
       "  <tbody>\n",
       "    <tr>\n",
       "      <th>228</th>\n",
       "      <td>4</td>\n",
       "      <td>0.178489</td>\n",
       "      <td>1</td>\n",
       "      <td>-0.852875</td>\n",
       "      <td>3</td>\n",
       "      <td>-0.781482</td>\n",
       "      <td>9</td>\n",
       "      <td>2</td>\n",
       "      <td>3</td>\n",
       "      <td>0</td>\n",
       "    </tr>\n",
       "    <tr>\n",
       "      <th>52458</th>\n",
       "      <td>7</td>\n",
       "      <td>1.109623</td>\n",
       "      <td>0</td>\n",
       "      <td>0.355559</td>\n",
       "      <td>3</td>\n",
       "      <td>-0.781482</td>\n",
       "      <td>9</td>\n",
       "      <td>1</td>\n",
       "      <td>3</td>\n",
       "      <td>0</td>\n",
       "    </tr>\n",
       "    <tr>\n",
       "      <th>290136</th>\n",
       "      <td>6</td>\n",
       "      <td>-0.287079</td>\n",
       "      <td>1</td>\n",
       "      <td>-0.350910</td>\n",
       "      <td>19</td>\n",
       "      <td>0.587301</td>\n",
       "      <td>9</td>\n",
       "      <td>1</td>\n",
       "      <td>3</td>\n",
       "      <td>0</td>\n",
       "    </tr>\n",
       "    <tr>\n",
       "      <th>268407</th>\n",
       "      <td>6</td>\n",
       "      <td>0.333678</td>\n",
       "      <td>1</td>\n",
       "      <td>-0.443866</td>\n",
       "      <td>86</td>\n",
       "      <td>0.587301</td>\n",
       "      <td>6</td>\n",
       "      <td>7</td>\n",
       "      <td>15</td>\n",
       "      <td>0</td>\n",
       "    </tr>\n",
       "    <tr>\n",
       "      <th>257181</th>\n",
       "      <td>1</td>\n",
       "      <td>-1.373402</td>\n",
       "      <td>1</td>\n",
       "      <td>-0.090632</td>\n",
       "      <td>183</td>\n",
       "      <td>0.587301</td>\n",
       "      <td>7</td>\n",
       "      <td>2</td>\n",
       "      <td>15</td>\n",
       "      <td>0</td>\n",
       "    </tr>\n",
       "  </tbody>\n",
       "</table>\n",
       "</div>"
      ],
      "text/plain": [
       "        vehicle_type  registration_year  gearbox     power  model  kilometer  \\\n",
       "228                4           0.178489        1 -0.852875      3  -0.781482   \n",
       "52458              7           1.109623        0  0.355559      3  -0.781482   \n",
       "290136             6          -0.287079        1 -0.350910     19   0.587301   \n",
       "268407             6           0.333678        1 -0.443866     86   0.587301   \n",
       "257181             1          -1.373402        1 -0.090632    183   0.587301   \n",
       "\n",
       "        registration_month  fuel_type  brand  not_repaired  \n",
       "228                      9          2      3             0  \n",
       "52458                    9          1      3             0  \n",
       "290136                   9          1      3             0  \n",
       "268407                   6          7     15             0  \n",
       "257181                   7          2     15             0  "
      ]
     },
     "execution_count": 72,
     "metadata": {},
     "output_type": "execute_result"
    }
   ],
   "source": [
    "# для train\n",
    "pd.DataFrame(features_train).head()"
   ]
  },
  {
   "cell_type": "code",
   "execution_count": 73,
   "metadata": {},
   "outputs": [
    {
     "data": {
      "text/html": [
       "<div>\n",
       "<style scoped>\n",
       "    .dataframe tbody tr th:only-of-type {\n",
       "        vertical-align: middle;\n",
       "    }\n",
       "\n",
       "    .dataframe tbody tr th {\n",
       "        vertical-align: top;\n",
       "    }\n",
       "\n",
       "    .dataframe thead th {\n",
       "        text-align: right;\n",
       "    }\n",
       "</style>\n",
       "<table border=\"1\" class=\"dataframe\">\n",
       "  <thead>\n",
       "    <tr style=\"text-align: right;\">\n",
       "      <th></th>\n",
       "      <th>vehicle_type</th>\n",
       "      <th>registration_year</th>\n",
       "      <th>gearbox</th>\n",
       "      <th>power</th>\n",
       "      <th>model</th>\n",
       "      <th>kilometer</th>\n",
       "      <th>registration_month</th>\n",
       "      <th>fuel_type</th>\n",
       "      <th>brand</th>\n",
       "      <th>not_repaired</th>\n",
       "    </tr>\n",
       "  </thead>\n",
       "  <tbody>\n",
       "    <tr>\n",
       "      <th>111586</th>\n",
       "      <td>7</td>\n",
       "      <td>-0.442268</td>\n",
       "      <td>0</td>\n",
       "      <td>-0.350910</td>\n",
       "      <td>19</td>\n",
       "      <td>0.587301</td>\n",
       "      <td>1</td>\n",
       "      <td>3</td>\n",
       "      <td>3</td>\n",
       "      <td>0</td>\n",
       "    </tr>\n",
       "    <tr>\n",
       "      <th>272718</th>\n",
       "      <td>6</td>\n",
       "      <td>0.799245</td>\n",
       "      <td>1</td>\n",
       "      <td>-0.852875</td>\n",
       "      <td>225</td>\n",
       "      <td>-1.055238</td>\n",
       "      <td>1</td>\n",
       "      <td>1</td>\n",
       "      <td>14</td>\n",
       "      <td>0</td>\n",
       "    </tr>\n",
       "    <tr>\n",
       "      <th>67056</th>\n",
       "      <td>7</td>\n",
       "      <td>-0.752646</td>\n",
       "      <td>1</td>\n",
       "      <td>0.076690</td>\n",
       "      <td>9</td>\n",
       "      <td>0.587301</td>\n",
       "      <td>11</td>\n",
       "      <td>2</td>\n",
       "      <td>3</td>\n",
       "      <td>0</td>\n",
       "    </tr>\n",
       "    <tr>\n",
       "      <th>4922</th>\n",
       "      <td>3</td>\n",
       "      <td>-0.597457</td>\n",
       "      <td>1</td>\n",
       "      <td>-1.224700</td>\n",
       "      <td>1</td>\n",
       "      <td>0.587301</td>\n",
       "      <td>0</td>\n",
       "      <td>2</td>\n",
       "      <td>3</td>\n",
       "      <td>0</td>\n",
       "    </tr>\n",
       "    <tr>\n",
       "      <th>50729</th>\n",
       "      <td>4</td>\n",
       "      <td>-0.442268</td>\n",
       "      <td>0</td>\n",
       "      <td>-0.090632</td>\n",
       "      <td>73</td>\n",
       "      <td>-0.097090</td>\n",
       "      <td>3</td>\n",
       "      <td>2</td>\n",
       "      <td>15</td>\n",
       "      <td>0</td>\n",
       "    </tr>\n",
       "  </tbody>\n",
       "</table>\n",
       "</div>"
      ],
      "text/plain": [
       "        vehicle_type  registration_year  gearbox     power  model  kilometer  \\\n",
       "111586             7          -0.442268        0 -0.350910     19   0.587301   \n",
       "272718             6           0.799245        1 -0.852875    225  -1.055238   \n",
       "67056              7          -0.752646        1  0.076690      9   0.587301   \n",
       "4922               3          -0.597457        1 -1.224700      1   0.587301   \n",
       "50729              4          -0.442268        0 -0.090632     73  -0.097090   \n",
       "\n",
       "        registration_month  fuel_type  brand  not_repaired  \n",
       "111586                   1          3      3             0  \n",
       "272718                   1          1     14             0  \n",
       "67056                   11          2      3             0  \n",
       "4922                     0          2      3             0  \n",
       "50729                    3          2     15             0  "
      ]
     },
     "execution_count": 73,
     "metadata": {},
     "output_type": "execute_result"
    }
   ],
   "source": [
    "# для valid\n",
    "pd.DataFrame(features_valid).head()"
   ]
  },
  {
   "cell_type": "code",
   "execution_count": 74,
   "metadata": {
    "scrolled": true
   },
   "outputs": [
    {
     "data": {
      "text/html": [
       "<div>\n",
       "<style scoped>\n",
       "    .dataframe tbody tr th:only-of-type {\n",
       "        vertical-align: middle;\n",
       "    }\n",
       "\n",
       "    .dataframe tbody tr th {\n",
       "        vertical-align: top;\n",
       "    }\n",
       "\n",
       "    .dataframe thead th {\n",
       "        text-align: right;\n",
       "    }\n",
       "</style>\n",
       "<table border=\"1\" class=\"dataframe\">\n",
       "  <thead>\n",
       "    <tr style=\"text-align: right;\">\n",
       "      <th></th>\n",
       "      <th>vehicle_type</th>\n",
       "      <th>registration_year</th>\n",
       "      <th>gearbox</th>\n",
       "      <th>power</th>\n",
       "      <th>model</th>\n",
       "      <th>kilometer</th>\n",
       "      <th>registration_month</th>\n",
       "      <th>fuel_type</th>\n",
       "      <th>brand</th>\n",
       "      <th>not_repaired</th>\n",
       "    </tr>\n",
       "  </thead>\n",
       "  <tbody>\n",
       "    <tr>\n",
       "      <th>267424</th>\n",
       "      <td>3</td>\n",
       "      <td>-0.597457</td>\n",
       "      <td>1</td>\n",
       "      <td>-0.090632</td>\n",
       "      <td>93</td>\n",
       "      <td>0.587301</td>\n",
       "      <td>4</td>\n",
       "      <td>2</td>\n",
       "      <td>3</td>\n",
       "      <td>0</td>\n",
       "    </tr>\n",
       "    <tr>\n",
       "      <th>13508</th>\n",
       "      <td>3</td>\n",
       "      <td>-0.752646</td>\n",
       "      <td>1</td>\n",
       "      <td>-0.852875</td>\n",
       "      <td>30</td>\n",
       "      <td>0.587301</td>\n",
       "      <td>12</td>\n",
       "      <td>2</td>\n",
       "      <td>7</td>\n",
       "      <td>0</td>\n",
       "    </tr>\n",
       "    <tr>\n",
       "      <th>228898</th>\n",
       "      <td>3</td>\n",
       "      <td>-0.131889</td>\n",
       "      <td>1</td>\n",
       "      <td>-1.168927</td>\n",
       "      <td>12</td>\n",
       "      <td>-0.097090</td>\n",
       "      <td>0</td>\n",
       "      <td>2</td>\n",
       "      <td>10</td>\n",
       "      <td>1</td>\n",
       "    </tr>\n",
       "    <tr>\n",
       "      <th>119162</th>\n",
       "      <td>8</td>\n",
       "      <td>2.040757</td>\n",
       "      <td>0</td>\n",
       "      <td>-1.224700</td>\n",
       "      <td>3</td>\n",
       "      <td>0.587301</td>\n",
       "      <td>7</td>\n",
       "      <td>3</td>\n",
       "      <td>3</td>\n",
       "      <td>0</td>\n",
       "    </tr>\n",
       "    <tr>\n",
       "      <th>297472</th>\n",
       "      <td>4</td>\n",
       "      <td>0.644056</td>\n",
       "      <td>1</td>\n",
       "      <td>0.225420</td>\n",
       "      <td>158</td>\n",
       "      <td>0.587301</td>\n",
       "      <td>2</td>\n",
       "      <td>2</td>\n",
       "      <td>28</td>\n",
       "      <td>0</td>\n",
       "    </tr>\n",
       "  </tbody>\n",
       "</table>\n",
       "</div>"
      ],
      "text/plain": [
       "        vehicle_type  registration_year  gearbox     power  model  kilometer  \\\n",
       "267424             3          -0.597457        1 -0.090632     93   0.587301   \n",
       "13508              3          -0.752646        1 -0.852875     30   0.587301   \n",
       "228898             3          -0.131889        1 -1.168927     12  -0.097090   \n",
       "119162             8           2.040757        0 -1.224700      3   0.587301   \n",
       "297472             4           0.644056        1  0.225420    158   0.587301   \n",
       "\n",
       "        registration_month  fuel_type  brand  not_repaired  \n",
       "267424                   4          2      3             0  \n",
       "13508                   12          2      7             0  \n",
       "228898                   0          2     10             1  \n",
       "119162                   7          3      3             0  \n",
       "297472                   2          2     28             0  "
      ]
     },
     "execution_count": 74,
     "metadata": {},
     "output_type": "execute_result"
    }
   ],
   "source": [
    "# для test\n",
    "pd.DataFrame(features_test).head()"
   ]
  },
  {
   "cell_type": "markdown",
   "metadata": {},
   "source": [
    "Данный подготовлены для обучения моделей."
   ]
  },
  {
   "cell_type": "markdown",
   "metadata": {},
   "source": [
    "### Вывод"
   ]
  },
  {
   "cell_type": "markdown",
   "metadata": {},
   "source": [
    "В ходе выполнения данного раздела было сделано следующее:\n",
    "\n",
    "1) произведи предварительный обзор данных, познакомились с набором данных, подробно рассмотрели все столбцы, выявили наличие дубликатов, пропусков, аномалий\n",
    "\n",
    "2) исследовали аномалии в столбцах: price, regostration_year, power, registration_month. В некоторых случаях данные были очищены от аномалий.\n",
    "\n",
    "3) во всех стоблцах где были пропуски, эти пропуски были заполнены\n",
    "\n",
    "4) категориальные признаки были преобразованы методами OrdinalEncoder и OHE\n",
    "\n",
    "5) набор данных был масштабирован и разделен на тренировочную, валидационную и тестовую выборки."
   ]
  },
  {
   "cell_type": "markdown",
   "metadata": {},
   "source": [
    "## Обучение моделей"
   ]
  },
  {
   "cell_type": "markdown",
   "metadata": {},
   "source": [
    "Для автоматизации дальнейших вычислений на различтных моделях напишем функцию для вычисления RMSE модели, оценку кросс-валидации и скорости обучения модели."
   ]
  },
  {
   "cell_type": "code",
   "execution_count": 75,
   "metadata": {},
   "outputs": [],
   "source": [
    "# напишем функцию для расчета RMSE модели\n",
    "def RMSE(target,predictions):\n",
    "    \"\"\"\n",
    "    Вычисление RMSE модели\n",
    "    \n",
    "    return: RMSE модели\n",
    "    \n",
    "    \"\"\"\n",
    "    \n",
    "    MSE = mean_squared_error(target, predictions, squared=False)\n",
    "    \n",
    "    return MSE\n",
    "\n",
    "RMSE_score = make_scorer(RMSE, greater_is_better=False)"
   ]
  },
  {
   "cell_type": "markdown",
   "metadata": {},
   "source": [
    "В функции ниже буду использовать стнадартные модуль time() Python для определения хараетеристик времени работы."
   ]
  },
  {
   "cell_type": "code",
   "execution_count": 76,
   "metadata": {},
   "outputs": [],
   "source": [
    "def best_model(model, params, features_train, target_train, features_test, target_test):\n",
    "    \"\"\"\n",
    "    Функция определения времени обучения, времени предсказания и RMSE модели\n",
    "    \n",
    "    return: время обучения, время предсказания, RMSE модели\n",
    "    \"\"\"\n",
    "    \n",
    "    \n",
    "    grid = GridSearchCV(model, param_grid = params, cv=5,\n",
    "                                            scoring = RMSE_score, n_jobs=-1)\n",
    "    start_time = time.time()\n",
    "    grid.fit(features_train,target_train)\n",
    "    first_time = time.time() - start_time\n",
    "    start_time = time.time()\n",
    "    predict = grid.predict(features_test)\n",
    "    second_time = time.time() - start_time\n",
    "    \n",
    "    return first_time, second_time, RMSE(target_test, predict)"
   ]
  },
  {
   "cell_type": "markdown",
   "metadata": {},
   "source": [
    "Далее обучим следующие модели:\n",
    "\n",
    "1) LGBM модель\n",
    "\n",
    "2) CatBoost модель\n",
    "\n",
    "3) модель RandomForest\n",
    "\n",
    "4) модель DecisionTree\n",
    "\n",
    "5) константную модель"
   ]
  },
  {
   "cell_type": "markdown",
   "metadata": {},
   "source": [
    "**Обучение LGBM модели**"
   ]
  },
  {
   "cell_type": "code",
   "execution_count": 77,
   "metadata": {},
   "outputs": [],
   "source": [
    "# зададим параметры\n",
    "lgbm_params = {\n",
    "    'n_estimators': [10, 50, 100],\n",
    "    'max_depth': [15, 30],\n",
    "    'num_leaves': [10, 20, 31],\n",
    "    'learning_rate': [0.1]\n",
    "}\n",
    "\n",
    "lgbm_model = LGBMRegressor(random_state=12345)"
   ]
  },
  {
   "cell_type": "code",
   "execution_count": 78,
   "metadata": {},
   "outputs": [],
   "source": [
    "# обучим модель\n",
    "lgbm = best_model(lgbm_model, lgbm_params, features_train, target_train, features_valid, target_valid)"
   ]
  },
  {
   "cell_type": "markdown",
   "metadata": {},
   "source": [
    "**Обучение CatBoost модели**"
   ]
  },
  {
   "cell_type": "code",
   "execution_count": 79,
   "metadata": {},
   "outputs": [],
   "source": [
    "# зададим параметры\n",
    "catboost_params = {\n",
    "    'learning_rate': [0.1],\n",
    "    'iterations': [10, 50, 100],\n",
    "    'max_depth': [1, 10]\n",
    "}\n",
    "\n",
    "catboost_model = CatBoostRegressor(random_state=12345, silent=True)"
   ]
  },
  {
   "cell_type": "code",
   "execution_count": 80,
   "metadata": {
    "scrolled": true
   },
   "outputs": [],
   "source": [
    "# обучим модель\n",
    "cat_boost = best_model(catboost_model, catboost_params, features_train, target_train, features_valid, target_valid)"
   ]
  },
  {
   "cell_type": "markdown",
   "metadata": {},
   "source": [
    "**Обучение модели RandomForest**"
   ]
  },
  {
   "cell_type": "code",
   "execution_count": 81,
   "metadata": {},
   "outputs": [],
   "source": [
    "# определим параметры\n",
    "random_forest_model = RandomForestRegressor(random_state=12345)\n",
    "forest_params = {'n_estimators': range(10, 51, 10), 'max_depth': range (1, 10)}"
   ]
  },
  {
   "cell_type": "code",
   "execution_count": 82,
   "metadata": {},
   "outputs": [],
   "source": [
    "# обучим модель\n",
    "random_forest = best_model(random_forest_model, forest_params, features_train, target_train, features_valid, target_valid)"
   ]
  },
  {
   "cell_type": "markdown",
   "metadata": {},
   "source": [
    "**Обучение модели DecisionTree**"
   ]
  },
  {
   "cell_type": "code",
   "execution_count": 83,
   "metadata": {},
   "outputs": [],
   "source": [
    "# зададим параметры и обучим подель\n",
    "decision_tree_model = DecisionTreeRegressor(random_state=12345)\n",
    "tree_params = {'max_depth': range (1, 10)}\n",
    "decision_tree = best_model(decision_tree_model, tree_params, features_train, target_train, features_valid, target_valid)"
   ]
  },
  {
   "cell_type": "markdown",
   "metadata": {},
   "source": [
    "**Обучение константной модели**"
   ]
  },
  {
   "cell_type": "code",
   "execution_count": 84,
   "metadata": {},
   "outputs": [
    {
     "data": {
      "text/plain": [
       "4619.711133023127"
      ]
     },
     "execution_count": 84,
     "metadata": {},
     "output_type": "execute_result"
    }
   ],
   "source": [
    "# обучим констунтную модель и определим ее RMSE\n",
    "constant_model = DummyRegressor(strategy='mean')\n",
    "constant_model.fit(features_train, target_train)\n",
    "constant_predict = constant_model.predict(features_valid)\n",
    "RMSE(target_valid, constant_predict)"
   ]
  },
  {
   "cell_type": "markdown",
   "metadata": {},
   "source": [
    "### Вывод"
   ]
  },
  {
   "cell_type": "markdown",
   "metadata": {},
   "source": [
    "В данном раздели мы обучили следующие модели:\n",
    "\n",
    "1) LGBM модель\n",
    "\n",
    "2) CatBoost модель\n",
    "\n",
    "3) модель RendomForest\n",
    "\n",
    "4) модель DecisionTree\n",
    "\n",
    "5) константную модель\n",
    "\n",
    "В следующем разделе сравним время обучения моделей, время предсказания и RMSE"
   ]
  },
  {
   "cell_type": "markdown",
   "metadata": {},
   "source": [
    "## Анализ моделей"
   ]
  },
  {
   "cell_type": "markdown",
   "metadata": {},
   "source": [
    "Для наглядности в данном разделе объеденим все данные в одну таблицу"
   ]
  },
  {
   "cell_type": "code",
   "execution_count": 85,
   "metadata": {},
   "outputs": [],
   "source": [
    "# создадим таблицу models\n",
    "models = pd.DataFrame([lgbm, cat_boost, decision_tree, random_forest],\n",
    "                     columns=['Время обучения', 'Время предсказания', 'RMSE'],\n",
    "                      index=['LGBM модель', 'CatBoost модель', 'DecisionTree модель', 'RandomForest модель']\n",
    "                     )"
   ]
  },
  {
   "cell_type": "code",
   "execution_count": 86,
   "metadata": {
    "scrolled": false
   },
   "outputs": [
    {
     "data": {
      "text/html": [
       "<div>\n",
       "<style scoped>\n",
       "    .dataframe tbody tr th:only-of-type {\n",
       "        vertical-align: middle;\n",
       "    }\n",
       "\n",
       "    .dataframe tbody tr th {\n",
       "        vertical-align: top;\n",
       "    }\n",
       "\n",
       "    .dataframe thead th {\n",
       "        text-align: right;\n",
       "    }\n",
       "</style>\n",
       "<table border=\"1\" class=\"dataframe\">\n",
       "  <thead>\n",
       "    <tr style=\"text-align: right;\">\n",
       "      <th></th>\n",
       "      <th>Время обучения</th>\n",
       "      <th>Время предсказания</th>\n",
       "      <th>RMSE</th>\n",
       "    </tr>\n",
       "  </thead>\n",
       "  <tbody>\n",
       "    <tr>\n",
       "      <th>LGBM модель</th>\n",
       "      <td>6877.138794</td>\n",
       "      <td>0.494199</td>\n",
       "      <td>1741.769505</td>\n",
       "    </tr>\n",
       "    <tr>\n",
       "      <th>CatBoost модель</th>\n",
       "      <td>60.827611</td>\n",
       "      <td>0.026787</td>\n",
       "      <td>1741.502976</td>\n",
       "    </tr>\n",
       "    <tr>\n",
       "      <th>DecisionTree модель</th>\n",
       "      <td>9.332985</td>\n",
       "      <td>0.008104</td>\n",
       "      <td>2053.725904</td>\n",
       "    </tr>\n",
       "    <tr>\n",
       "      <th>RandomForest модель</th>\n",
       "      <td>813.424441</td>\n",
       "      <td>0.242260</td>\n",
       "      <td>1965.132166</td>\n",
       "    </tr>\n",
       "  </tbody>\n",
       "</table>\n",
       "</div>"
      ],
      "text/plain": [
       "                     Время обучения  Время предсказания         RMSE\n",
       "LGBM модель             6877.138794            0.494199  1741.769505\n",
       "CatBoost модель           60.827611            0.026787  1741.502976\n",
       "DecisionTree модель        9.332985            0.008104  2053.725904\n",
       "RandomForest модель      813.424441            0.242260  1965.132166"
      ]
     },
     "execution_count": 86,
     "metadata": {},
     "output_type": "execute_result"
    }
   ],
   "source": [
    "models"
   ]
  },
  {
   "cell_type": "markdown",
   "metadata": {},
   "source": [
    "При обучении модели на тренировочной выберке и ее проверке на валидацинной, мы получили с ледующие результаты:\n",
    "\n",
    "1) модель с наилучшей RMSE - CatBoost модель\n",
    "\n",
    "2) модель с наиличшим временем обучени и предсказания - DecisionTree модель, но данная модель модель дает ошибку выше, чем CatBoost модель и LGBM модель\n",
    "\n",
    "3) наихудшее время обучения модели у RandomForest модели\n",
    "\n",
    "4) все модели адекватные, так как RMSE всех моделей значительно ниже RMSE константной модели."
   ]
  },
  {
   "cell_type": "markdown",
   "metadata": {},
   "source": [
    "Проверим наши модели на тестовой выборке"
   ]
  },
  {
   "cell_type": "code",
   "execution_count": 87,
   "metadata": {},
   "outputs": [],
   "source": [
    "# зададим параметры\n",
    "lgbm_params_test = {\n",
    "    'n_estimators': [10, 50, 100],\n",
    "    'max_depth': [15, 30],\n",
    "    'num_leaves': [10, 20, 31],\n",
    "    'learning_rate': [0.1]\n",
    "}\n",
    "\n",
    "lgbm_model_test = LGBMRegressor(random_state=12345)\n",
    "lgbm_test = best_model(lgbm_model_test, lgbm_params_test, features_train, target_train, features_test, target_test)"
   ]
  },
  {
   "cell_type": "code",
   "execution_count": 88,
   "metadata": {},
   "outputs": [],
   "source": [
    "# зададим параметры\n",
    "catboost_params_test = {\n",
    "    'learning_rate': [0.1],\n",
    "    'iterations': [10, 50, 100],\n",
    "    'max_depth': [1, 10]\n",
    "}\n",
    "\n",
    "catboost_model_test = CatBoostRegressor(random_state=12345, silent=True)\n",
    "cat_boost_test = best_model(catboost_model_test, catboost_params_test, features_train, target_train, features_test, target_test)"
   ]
  },
  {
   "cell_type": "code",
   "execution_count": 89,
   "metadata": {},
   "outputs": [],
   "source": [
    "# определим параметры\n",
    "random_forest_model_test = RandomForestRegressor(random_state=12345)\n",
    "forest_params_test = {'n_estimators': range(10, 51, 10), 'max_depth': range (1, 10)}\n",
    "random_forest_test = best_model(random_forest_model_test, forest_params_test, features_train, target_train, features_test, target_test)"
   ]
  },
  {
   "cell_type": "code",
   "execution_count": 90,
   "metadata": {},
   "outputs": [],
   "source": [
    "# зададим параметры и обучим подель\n",
    "decision_tree_model_test = DecisionTreeRegressor(random_state=12345)\n",
    "tree_params_test = {'max_depth': range (1, 10)}\n",
    "decision_tree_test = best_model(decision_tree_model_test, tree_params_test, features_train, target_train, features_test, target_test)"
   ]
  },
  {
   "cell_type": "code",
   "execution_count": 91,
   "metadata": {},
   "outputs": [
    {
     "data": {
      "text/plain": [
       "4612.950140603976"
      ]
     },
     "execution_count": 91,
     "metadata": {},
     "output_type": "execute_result"
    }
   ],
   "source": [
    "# обучим констунтную модель и определим ее RMSE\n",
    "constant_model_test = DummyRegressor(strategy='mean')\n",
    "constant_model_test.fit(features_train, target_train)\n",
    "constant_predict_test = constant_model_test.predict(features_test)\n",
    "RMSE(target_test, constant_predict_test)"
   ]
  },
  {
   "cell_type": "code",
   "execution_count": 92,
   "metadata": {},
   "outputs": [],
   "source": [
    "# создадим таблицу models\n",
    "models_test = pd.DataFrame([lgbm_test, cat_boost_test, decision_tree_test, random_forest_test],\n",
    "                     columns=['Время обучения', 'Время предсказания', 'RMSE'],\n",
    "                      index=['LGBM модель', 'CatBoost модель', 'DecisionTree модель', 'RandomForest модель']\n",
    "                     )"
   ]
  },
  {
   "cell_type": "code",
   "execution_count": 93,
   "metadata": {
    "scrolled": true
   },
   "outputs": [
    {
     "data": {
      "text/html": [
       "<div>\n",
       "<style scoped>\n",
       "    .dataframe tbody tr th:only-of-type {\n",
       "        vertical-align: middle;\n",
       "    }\n",
       "\n",
       "    .dataframe tbody tr th {\n",
       "        vertical-align: top;\n",
       "    }\n",
       "\n",
       "    .dataframe thead th {\n",
       "        text-align: right;\n",
       "    }\n",
       "</style>\n",
       "<table border=\"1\" class=\"dataframe\">\n",
       "  <thead>\n",
       "    <tr style=\"text-align: right;\">\n",
       "      <th></th>\n",
       "      <th>Время обучения</th>\n",
       "      <th>Время предсказания</th>\n",
       "      <th>RMSE</th>\n",
       "    </tr>\n",
       "  </thead>\n",
       "  <tbody>\n",
       "    <tr>\n",
       "      <th>LGBM модель</th>\n",
       "      <td>2579.098989</td>\n",
       "      <td>0.417215</td>\n",
       "      <td>1742.248670</td>\n",
       "    </tr>\n",
       "    <tr>\n",
       "      <th>CatBoost модель</th>\n",
       "      <td>61.154863</td>\n",
       "      <td>0.025344</td>\n",
       "      <td>1738.951167</td>\n",
       "    </tr>\n",
       "    <tr>\n",
       "      <th>DecisionTree модель</th>\n",
       "      <td>8.576037</td>\n",
       "      <td>0.008298</td>\n",
       "      <td>2059.867482</td>\n",
       "    </tr>\n",
       "    <tr>\n",
       "      <th>RandomForest модель</th>\n",
       "      <td>816.985621</td>\n",
       "      <td>0.240216</td>\n",
       "      <td>1969.981267</td>\n",
       "    </tr>\n",
       "  </tbody>\n",
       "</table>\n",
       "</div>"
      ],
      "text/plain": [
       "                     Время обучения  Время предсказания         RMSE\n",
       "LGBM модель             2579.098989            0.417215  1742.248670\n",
       "CatBoost модель           61.154863            0.025344  1738.951167\n",
       "DecisionTree модель        8.576037            0.008298  2059.867482\n",
       "RandomForest модель      816.985621            0.240216  1969.981267"
      ]
     },
     "execution_count": 93,
     "metadata": {},
     "output_type": "execute_result"
    }
   ],
   "source": [
    "models_test"
   ]
  },
  {
   "cell_type": "markdown",
   "metadata": {},
   "source": [
    "При тестировании моделей, мы получили схожие данные, но по времени все модели стали обучаться чуть дольше, зато RMSE стала немного меньше. И как и при использовании валидационной выборки, данные модели адекватны, так как их значения значительно меньше RMSE, расчитанной на константной модели."
   ]
  },
  {
   "cell_type": "markdown",
   "metadata": {},
   "source": [
    "### Вывод"
   ]
  },
  {
   "cell_type": "markdown",
   "metadata": {},
   "source": [
    "В ходе выполнения данного раздела мы проанализировали время обучения моделей, время предсказания, а также RMSE моделей. В результате чего мы плучили следующее:\n",
    "\n",
    "1) модель с наилучшей RMSE - CatBoost модель\n",
    "\n",
    "2) модель с наиличшим временем обучени и предсказания - DecisionTree модель, но данная модель модель дает ошибку выше, чем CatBoost модель и LGBM модель\n",
    "\n",
    "3) наихудшее время обучения модели у RandomForest модели\n",
    "\n",
    "4) все модели адекватные, так как RMSE всех моделей значительно ниже RMSE константной модели.\n",
    "\n",
    "Если сравнивать тестирование моделей, то мы получим примерно такие же показатели."
   ]
  },
  {
   "cell_type": "markdown",
   "metadata": {},
   "source": [
    "## Общий вывод"
   ]
  },
  {
   "cell_type": "markdown",
   "metadata": {},
   "source": [
    "В ходе выполнения данной работы мы: \n",
    "\n",
    "1) произвели предварительный обзор данных, познакомились с набором данных, подробно рассмотрели все столбцы, выявили наличие дубликатов, пропусков, аномалий. Исследовали аномалии в столбцах: price, regostration_year, power, registration_month. В некоторых случаях данные были очищены от аномалий. Во всех стоблцах где были пропуски, эти пропуски были заполнены. Категориальные признаки были преобразованы методами OrdinalEncoder и OHE. Набор данных был масштабирован и разделен на тренировочную, валидационную и тестовую выборки.\n",
    "\n",
    "2) мы обучили следующие модели: LGBM модель, CatBoost модель, модель RendomForest, модель DecisionTree, константную модель\n",
    "\n",
    "3) проанализировали время обучения моделей, время предсказания, а также RMSE моделей. В результате чего мы плучили следующее:\n",
    "\n",
    "    - модель с наилучшей RMSE - CatBoost модель\n",
    "\n",
    "    - модель с наиличшим временем обучени и предсказания - DecisionTree модель, но данная модель модель дает ошибку выше, чем CatBoost модель и LGBM модель\n",
    "\n",
    "    - наихудшее время обучения модели у RandomForest модели\n",
    "\n",
    "    - все модели адекватные, так как RMSE всех моделей значительно ниже RMSE константной модели.\n",
    "\n",
    "Если сравнивать тестирование моделей, то мы получим примерно такие же показатели.\n",
    "\n",
    "Таким образом, исходя из требований заказчика, для которого важны: качество предсказания; скорость предсказания; время обучения, мы можем порекомендовать CatBoost модель, так как она имеет наилучшую метрику RMSE - 1741, при относительно небольшом времени обучении - 49.7 и предсказания - 0.14 (модели LGBM имеет схожую метрику - 1743, но при этом время ее обучения хуже в 3-4 раза, и на приняте решения она тратит в два раза больше времени, модель DecisionTree при быстрой скорости обучения - 7.57 и предсказания - 0.005 имееют наихудшую метрику RMSE - 2060, модель RandomForest обучается в 15 раз дольше, принимает решения по времени так же, но качесвто метрики RMSE намного хуже)."
   ]
  }
 ],
 "metadata": {
  "ExecuteTimeLog": [
   {
    "duration": 584,
    "start_time": "2022-05-17T21:54:59.393Z"
   },
   {
    "duration": 4124,
    "start_time": "2022-05-17T21:54:59.979Z"
   },
   {
    "duration": 35,
    "start_time": "2022-05-17T21:55:04.105Z"
   },
   {
    "duration": 180,
    "start_time": "2022-05-17T21:55:04.144Z"
   },
   {
    "duration": 7,
    "start_time": "2022-05-17T21:55:04.327Z"
   },
   {
    "duration": 22,
    "start_time": "2022-05-17T21:55:04.336Z"
   },
   {
    "duration": 524,
    "start_time": "2022-05-17T21:55:04.361Z"
   },
   {
    "duration": 6,
    "start_time": "2022-05-17T21:55:04.887Z"
   },
   {
    "duration": 352,
    "start_time": "2022-05-17T21:55:04.895Z"
   },
   {
    "duration": 152,
    "start_time": "2022-05-17T21:55:05.249Z"
   },
   {
    "duration": 370,
    "start_time": "2022-05-17T21:55:05.404Z"
   },
   {
    "duration": 20,
    "start_time": "2022-05-17T21:55:05.776Z"
   },
   {
    "duration": 50,
    "start_time": "2022-05-17T21:55:05.798Z"
   },
   {
    "duration": 36,
    "start_time": "2022-05-17T21:55:05.851Z"
   },
   {
    "duration": 37,
    "start_time": "2022-05-17T21:55:05.889Z"
   },
   {
    "duration": 32,
    "start_time": "2022-05-17T21:55:05.928Z"
   },
   {
    "duration": 33,
    "start_time": "2022-05-17T21:55:05.962Z"
   },
   {
    "duration": 60,
    "start_time": "2022-05-17T21:55:06.018Z"
   },
   {
    "duration": 23,
    "start_time": "2022-05-17T21:55:06.080Z"
   },
   {
    "duration": 47,
    "start_time": "2022-05-17T21:55:06.105Z"
   },
   {
    "duration": 23,
    "start_time": "2022-05-17T21:55:06.154Z"
   },
   {
    "duration": 139,
    "start_time": "2022-05-17T21:55:06.180Z"
   },
   {
    "duration": 0,
    "start_time": "2022-05-17T21:55:06.322Z"
   },
   {
    "duration": 0,
    "start_time": "2022-05-17T21:55:06.323Z"
   },
   {
    "duration": 0,
    "start_time": "2022-05-17T21:55:06.324Z"
   },
   {
    "duration": 0,
    "start_time": "2022-05-17T21:55:06.325Z"
   },
   {
    "duration": 0,
    "start_time": "2022-05-17T21:55:06.326Z"
   },
   {
    "duration": 0,
    "start_time": "2022-05-17T21:55:06.327Z"
   },
   {
    "duration": 0,
    "start_time": "2022-05-17T21:55:06.330Z"
   },
   {
    "duration": 0,
    "start_time": "2022-05-17T21:55:06.333Z"
   },
   {
    "duration": 0,
    "start_time": "2022-05-17T21:55:06.338Z"
   },
   {
    "duration": 0,
    "start_time": "2022-05-17T21:55:06.339Z"
   },
   {
    "duration": 0,
    "start_time": "2022-05-17T21:55:06.340Z"
   },
   {
    "duration": 0,
    "start_time": "2022-05-17T21:55:06.341Z"
   },
   {
    "duration": 0,
    "start_time": "2022-05-17T21:55:06.343Z"
   },
   {
    "duration": 365,
    "start_time": "2022-05-17T21:55:21.996Z"
   },
   {
    "duration": 17,
    "start_time": "2022-05-17T21:55:27.355Z"
   },
   {
    "duration": 16,
    "start_time": "2022-05-17T21:55:28.233Z"
   },
   {
    "duration": 42,
    "start_time": "2022-05-17T21:55:28.943Z"
   },
   {
    "duration": 29,
    "start_time": "2022-05-17T21:55:34.581Z"
   },
   {
    "duration": 356,
    "start_time": "2022-05-17T21:55:40.047Z"
   },
   {
    "duration": 52,
    "start_time": "2022-05-17T21:55:44.020Z"
   },
   {
    "duration": 12,
    "start_time": "2022-05-17T21:55:44.910Z"
   },
   {
    "duration": 20,
    "start_time": "2022-05-17T21:55:45.655Z"
   },
   {
    "duration": 54,
    "start_time": "2022-05-17T21:56:02.344Z"
   },
   {
    "duration": 14,
    "start_time": "2022-05-17T21:56:03.083Z"
   },
   {
    "duration": 556,
    "start_time": "2022-05-17T21:56:03.842Z"
   },
   {
    "duration": 511,
    "start_time": "2022-05-17T21:56:07.612Z"
   },
   {
    "duration": 289,
    "start_time": "2022-05-17T21:56:08.341Z"
   },
   {
    "duration": 84,
    "start_time": "2022-05-17T21:56:11.943Z"
   },
   {
    "duration": 7,
    "start_time": "2022-05-17T21:59:57.351Z"
   },
   {
    "duration": 11,
    "start_time": "2022-05-17T22:00:46.268Z"
   },
   {
    "duration": 1348,
    "start_time": "2022-05-17T22:01:29.408Z"
   },
   {
    "duration": 11,
    "start_time": "2022-05-17T22:01:40.535Z"
   },
   {
    "duration": 79,
    "start_time": "2022-05-17T22:01:41.388Z"
   },
   {
    "duration": 5,
    "start_time": "2022-05-17T22:01:58.485Z"
   },
   {
    "duration": 2318,
    "start_time": "2022-05-17T22:01:59.754Z"
   },
   {
    "duration": 35,
    "start_time": "2022-05-17T22:07:20.650Z"
   },
   {
    "duration": 61,
    "start_time": "2022-05-17T22:10:26.902Z"
   },
   {
    "duration": 10,
    "start_time": "2022-05-17T22:11:02.747Z"
   },
   {
    "duration": 46,
    "start_time": "2022-05-17T22:14:10.138Z"
   },
   {
    "duration": 12,
    "start_time": "2022-05-17T22:14:25.195Z"
   },
   {
    "duration": 7,
    "start_time": "2022-05-17T22:14:29.655Z"
   },
   {
    "duration": 1977,
    "start_time": "2022-05-17T22:17:45.586Z"
   },
   {
    "duration": 1970,
    "start_time": "2022-05-17T22:18:04.892Z"
   },
   {
    "duration": 2070,
    "start_time": "2022-05-17T22:18:31.494Z"
   },
   {
    "duration": 10,
    "start_time": "2022-05-17T22:26:55.097Z"
   },
   {
    "duration": 25,
    "start_time": "2022-05-17T22:27:12.838Z"
   },
   {
    "duration": 48,
    "start_time": "2022-05-17T22:27:33.414Z"
   },
   {
    "duration": 37,
    "start_time": "2022-05-17T22:28:17.553Z"
   },
   {
    "duration": 35,
    "start_time": "2022-05-17T22:28:25.246Z"
   },
   {
    "duration": 12,
    "start_time": "2022-05-17T22:28:40.346Z"
   },
   {
    "duration": 29,
    "start_time": "2022-05-17T22:33:32.726Z"
   },
   {
    "duration": 15,
    "start_time": "2022-05-17T22:33:45.882Z"
   },
   {
    "duration": 44,
    "start_time": "2022-05-17T22:36:34.344Z"
   },
   {
    "duration": 5,
    "start_time": "2022-05-17T22:36:43.402Z"
   },
   {
    "duration": 2319,
    "start_time": "2022-05-17T22:41:45.171Z"
   },
   {
    "duration": 1874,
    "start_time": "2022-05-17T22:41:57.299Z"
   },
   {
    "duration": 28,
    "start_time": "2022-05-17T22:44:57.378Z"
   },
   {
    "duration": 1881,
    "start_time": "2022-05-17T22:45:25.082Z"
   },
   {
    "duration": 1767,
    "start_time": "2022-05-17T22:46:22.236Z"
   },
   {
    "duration": 29,
    "start_time": "2022-05-17T22:49:28.959Z"
   },
   {
    "duration": 18,
    "start_time": "2022-05-17T22:52:30.682Z"
   },
   {
    "duration": 12,
    "start_time": "2022-05-17T22:53:01.337Z"
   },
   {
    "duration": 14,
    "start_time": "2022-05-17T22:53:32.000Z"
   },
   {
    "duration": 32,
    "start_time": "2022-05-17T22:55:22.268Z"
   },
   {
    "duration": 14,
    "start_time": "2022-05-17T22:55:33.609Z"
   },
   {
    "duration": 1618,
    "start_time": "2022-05-17T22:58:27.737Z"
   },
   {
    "duration": 12,
    "start_time": "2022-05-17T23:01:01.047Z"
   },
   {
    "duration": 15,
    "start_time": "2022-05-17T23:05:42.010Z"
   },
   {
    "duration": 23,
    "start_time": "2022-05-17T23:06:20.444Z"
   },
   {
    "duration": 1351,
    "start_time": "2022-05-23T06:31:29.870Z"
   },
   {
    "duration": 2761,
    "start_time": "2022-05-23T06:31:31.223Z"
   },
   {
    "duration": 20,
    "start_time": "2022-05-23T06:31:33.985Z"
   },
   {
    "duration": 133,
    "start_time": "2022-05-23T06:31:34.007Z"
   },
   {
    "duration": 4,
    "start_time": "2022-05-23T06:31:34.143Z"
   },
   {
    "duration": 5,
    "start_time": "2022-05-23T06:31:34.149Z"
   },
   {
    "duration": 477,
    "start_time": "2022-05-23T06:31:34.156Z"
   },
   {
    "duration": 6,
    "start_time": "2022-05-23T06:31:34.634Z"
   },
   {
    "duration": 238,
    "start_time": "2022-05-23T06:31:34.641Z"
   },
   {
    "duration": 113,
    "start_time": "2022-05-23T06:31:34.884Z"
   },
   {
    "duration": 358,
    "start_time": "2022-05-23T06:31:34.999Z"
   },
   {
    "duration": 25,
    "start_time": "2022-05-23T06:31:35.359Z"
   },
   {
    "duration": 29,
    "start_time": "2022-05-23T06:31:35.386Z"
   },
   {
    "duration": 31,
    "start_time": "2022-05-23T06:31:35.419Z"
   },
   {
    "duration": 46,
    "start_time": "2022-05-23T06:31:35.452Z"
   },
   {
    "duration": 24,
    "start_time": "2022-05-23T06:31:35.500Z"
   },
   {
    "duration": 39,
    "start_time": "2022-05-23T06:31:35.526Z"
   },
   {
    "duration": 48,
    "start_time": "2022-05-23T06:31:35.567Z"
   },
   {
    "duration": 33,
    "start_time": "2022-05-23T06:31:35.616Z"
   },
   {
    "duration": 55,
    "start_time": "2022-05-23T06:31:35.651Z"
   },
   {
    "duration": 21,
    "start_time": "2022-05-23T06:31:35.708Z"
   },
   {
    "duration": 295,
    "start_time": "2022-05-23T06:31:35.731Z"
   },
   {
    "duration": 16,
    "start_time": "2022-05-23T06:31:36.028Z"
   },
   {
    "duration": 12,
    "start_time": "2022-05-23T06:31:36.045Z"
   },
   {
    "duration": 59,
    "start_time": "2022-05-23T06:31:36.058Z"
   },
   {
    "duration": 283,
    "start_time": "2022-05-23T06:31:36.119Z"
   },
   {
    "duration": 30,
    "start_time": "2022-05-23T06:31:36.403Z"
   },
   {
    "duration": 19,
    "start_time": "2022-05-23T06:31:36.435Z"
   },
   {
    "duration": 18,
    "start_time": "2022-05-23T06:31:36.455Z"
   },
   {
    "duration": 68,
    "start_time": "2022-05-23T06:31:36.475Z"
   },
   {
    "duration": 11,
    "start_time": "2022-05-23T06:31:36.545Z"
   },
   {
    "duration": 526,
    "start_time": "2022-05-23T06:31:36.558Z"
   },
   {
    "duration": 481,
    "start_time": "2022-05-23T06:31:37.086Z"
   },
   {
    "duration": 286,
    "start_time": "2022-05-23T06:31:37.568Z"
   },
   {
    "duration": 112,
    "start_time": "2022-05-23T06:31:37.856Z"
   },
   {
    "duration": 14,
    "start_time": "2022-05-23T06:31:37.970Z"
   },
   {
    "duration": 1888,
    "start_time": "2022-05-23T06:31:37.987Z"
   },
   {
    "duration": 38,
    "start_time": "2022-05-23T06:31:39.876Z"
   },
   {
    "duration": 24,
    "start_time": "2022-05-23T06:31:39.916Z"
   },
   {
    "duration": 42,
    "start_time": "2022-05-23T06:31:39.942Z"
   },
   {
    "duration": 4,
    "start_time": "2022-05-23T06:31:39.988Z"
   },
   {
    "duration": 1551,
    "start_time": "2022-05-23T06:31:39.993Z"
   },
   {
    "duration": 23,
    "start_time": "2022-05-23T06:31:41.546Z"
   },
   {
    "duration": 26,
    "start_time": "2022-05-23T06:31:41.570Z"
   },
   {
    "duration": 11,
    "start_time": "2022-05-23T06:31:41.598Z"
   },
   {
    "duration": 43,
    "start_time": "2022-05-23T06:31:41.611Z"
   },
   {
    "duration": 3,
    "start_time": "2022-05-23T06:31:41.656Z"
   },
   {
    "duration": 1591,
    "start_time": "2022-05-23T06:31:41.661Z"
   },
   {
    "duration": 36,
    "start_time": "2022-05-23T06:31:43.254Z"
   },
   {
    "duration": 1602,
    "start_time": "2022-05-23T06:31:43.291Z"
   },
   {
    "duration": 29,
    "start_time": "2022-05-23T06:31:44.895Z"
   },
   {
    "duration": 14,
    "start_time": "2022-05-23T06:31:44.925Z"
   },
   {
    "duration": 52,
    "start_time": "2022-05-23T06:31:44.940Z"
   },
   {
    "duration": 4,
    "start_time": "2022-05-23T06:31:44.994Z"
   },
   {
    "duration": 1519,
    "start_time": "2022-05-23T06:31:45.000Z"
   },
   {
    "duration": 11,
    "start_time": "2022-05-23T06:31:46.520Z"
   },
   {
    "duration": 12,
    "start_time": "2022-05-23T06:31:46.532Z"
   },
   {
    "duration": 41,
    "start_time": "2022-05-23T06:31:46.546Z"
   },
   {
    "duration": 172,
    "start_time": "2022-05-23T06:41:27.413Z"
   },
   {
    "duration": 31,
    "start_time": "2022-05-23T06:42:23.162Z"
   },
   {
    "duration": 18,
    "start_time": "2022-05-23T06:47:23.062Z"
   },
   {
    "duration": 28,
    "start_time": "2022-05-23T06:47:58.157Z"
   },
   {
    "duration": 28,
    "start_time": "2022-05-23T06:48:21.958Z"
   },
   {
    "duration": 20,
    "start_time": "2022-05-23T06:48:27.174Z"
   },
   {
    "duration": 45,
    "start_time": "2022-05-23T06:48:27.862Z"
   },
   {
    "duration": 87,
    "start_time": "2022-05-23T06:48:53.211Z"
   },
   {
    "duration": 17,
    "start_time": "2022-05-23T06:53:01.054Z"
   },
   {
    "duration": 41,
    "start_time": "2022-05-23T06:53:06.356Z"
   },
   {
    "duration": 17,
    "start_time": "2022-05-23T06:53:36.782Z"
   },
   {
    "duration": 17,
    "start_time": "2022-05-23T06:54:39.354Z"
   },
   {
    "duration": 36,
    "start_time": "2022-05-23T06:54:40.765Z"
   },
   {
    "duration": 106,
    "start_time": "2022-05-23T06:54:58.309Z"
   },
   {
    "duration": 17,
    "start_time": "2022-05-23T06:59:05.867Z"
   },
   {
    "duration": 89,
    "start_time": "2022-05-23T06:59:20.378Z"
   },
   {
    "duration": 693,
    "start_time": "2022-05-23T07:00:48.597Z"
   },
   {
    "duration": 54,
    "start_time": "2022-05-23T07:01:08.771Z"
   },
   {
    "duration": 88,
    "start_time": "2022-05-23T07:01:09.966Z"
   },
   {
    "duration": 18,
    "start_time": "2022-05-23T07:01:46.566Z"
   },
   {
    "duration": 29,
    "start_time": "2022-05-23T07:01:47.455Z"
   },
   {
    "duration": 131,
    "start_time": "2022-05-23T07:01:57.267Z"
   },
   {
    "duration": 1219,
    "start_time": "2022-05-23T07:02:17.056Z"
   },
   {
    "duration": 810,
    "start_time": "2022-05-23T07:02:18.277Z"
   },
   {
    "duration": 20,
    "start_time": "2022-05-23T07:02:19.089Z"
   },
   {
    "duration": 132,
    "start_time": "2022-05-23T07:02:19.110Z"
   },
   {
    "duration": 5,
    "start_time": "2022-05-23T07:02:19.245Z"
   },
   {
    "duration": 11,
    "start_time": "2022-05-23T07:02:19.251Z"
   },
   {
    "duration": 522,
    "start_time": "2022-05-23T07:02:19.263Z"
   },
   {
    "duration": 5,
    "start_time": "2022-05-23T07:02:19.787Z"
   },
   {
    "duration": 254,
    "start_time": "2022-05-23T07:02:19.793Z"
   },
   {
    "duration": 119,
    "start_time": "2022-05-23T07:02:20.049Z"
   },
   {
    "duration": 340,
    "start_time": "2022-05-23T07:02:20.170Z"
   },
   {
    "duration": 18,
    "start_time": "2022-05-23T07:02:20.512Z"
   },
   {
    "duration": 30,
    "start_time": "2022-05-23T07:02:20.531Z"
   },
   {
    "duration": 47,
    "start_time": "2022-05-23T07:02:20.564Z"
   },
   {
    "duration": 23,
    "start_time": "2022-05-23T07:02:20.613Z"
   },
   {
    "duration": 23,
    "start_time": "2022-05-23T07:02:20.638Z"
   },
   {
    "duration": 41,
    "start_time": "2022-05-23T07:02:20.662Z"
   },
   {
    "duration": 33,
    "start_time": "2022-05-23T07:02:20.705Z"
   },
   {
    "duration": 38,
    "start_time": "2022-05-23T07:02:20.740Z"
   },
   {
    "duration": 38,
    "start_time": "2022-05-23T07:02:20.782Z"
   },
   {
    "duration": 20,
    "start_time": "2022-05-23T07:02:20.822Z"
   },
   {
    "duration": 307,
    "start_time": "2022-05-23T07:02:20.844Z"
   },
   {
    "duration": 14,
    "start_time": "2022-05-23T07:02:21.153Z"
   },
   {
    "duration": 18,
    "start_time": "2022-05-23T07:02:21.168Z"
   },
   {
    "duration": 33,
    "start_time": "2022-05-23T07:02:21.188Z"
   },
   {
    "duration": 299,
    "start_time": "2022-05-23T07:02:21.223Z"
   },
   {
    "duration": 30,
    "start_time": "2022-05-23T07:02:21.524Z"
   },
   {
    "duration": 15,
    "start_time": "2022-05-23T07:02:21.556Z"
   },
   {
    "duration": 26,
    "start_time": "2022-05-23T07:02:21.573Z"
   },
   {
    "duration": 56,
    "start_time": "2022-05-23T07:02:21.600Z"
   },
   {
    "duration": 30,
    "start_time": "2022-05-23T07:02:21.658Z"
   },
   {
    "duration": 538,
    "start_time": "2022-05-23T07:02:21.690Z"
   },
   {
    "duration": 526,
    "start_time": "2022-05-23T07:02:22.230Z"
   },
   {
    "duration": 299,
    "start_time": "2022-05-23T07:02:22.759Z"
   },
   {
    "duration": 111,
    "start_time": "2022-05-23T07:02:23.061Z"
   },
   {
    "duration": 12,
    "start_time": "2022-05-23T07:02:23.174Z"
   },
   {
    "duration": 1898,
    "start_time": "2022-05-23T07:02:23.187Z"
   },
   {
    "duration": 32,
    "start_time": "2022-05-23T07:02:25.087Z"
   },
   {
    "duration": 9,
    "start_time": "2022-05-23T07:02:25.121Z"
   },
   {
    "duration": 57,
    "start_time": "2022-05-23T07:02:25.132Z"
   },
   {
    "duration": 4,
    "start_time": "2022-05-23T07:02:25.193Z"
   },
   {
    "duration": 1754,
    "start_time": "2022-05-23T07:02:25.199Z"
   },
   {
    "duration": 38,
    "start_time": "2022-05-23T07:02:26.955Z"
   },
   {
    "duration": 13,
    "start_time": "2022-05-23T07:02:26.994Z"
   },
   {
    "duration": 11,
    "start_time": "2022-05-23T07:02:27.008Z"
   },
   {
    "duration": 36,
    "start_time": "2022-05-23T07:02:27.021Z"
   },
   {
    "duration": 25,
    "start_time": "2022-05-23T07:02:27.059Z"
   },
   {
    "duration": 1753,
    "start_time": "2022-05-23T07:02:27.086Z"
   },
   {
    "duration": 29,
    "start_time": "2022-05-23T07:02:28.841Z"
   },
   {
    "duration": 1665,
    "start_time": "2022-05-23T07:02:28.872Z"
   },
   {
    "duration": 32,
    "start_time": "2022-05-23T07:02:30.539Z"
   },
   {
    "duration": 15,
    "start_time": "2022-05-23T07:02:30.584Z"
   },
   {
    "duration": 55,
    "start_time": "2022-05-23T07:02:30.601Z"
   },
   {
    "duration": 4,
    "start_time": "2022-05-23T07:02:30.658Z"
   },
   {
    "duration": 1536,
    "start_time": "2022-05-23T07:02:30.664Z"
   },
   {
    "duration": 11,
    "start_time": "2022-05-23T07:02:32.202Z"
   },
   {
    "duration": 154,
    "start_time": "2022-05-23T07:02:32.215Z"
   },
   {
    "duration": 31,
    "start_time": "2022-05-23T07:02:32.371Z"
   },
   {
    "duration": 18,
    "start_time": "2022-05-23T07:02:32.404Z"
   },
   {
    "duration": 28,
    "start_time": "2022-05-23T07:02:32.424Z"
   },
   {
    "duration": 77,
    "start_time": "2022-05-23T07:02:32.454Z"
   },
   {
    "duration": 78,
    "start_time": "2022-05-23T07:02:32.533Z"
   },
   {
    "duration": 107,
    "start_time": "2022-05-23T08:37:19.119Z"
   },
   {
    "duration": 19,
    "start_time": "2022-05-23T08:37:34.992Z"
   },
   {
    "duration": 13,
    "start_time": "2022-05-23T08:37:59.787Z"
   },
   {
    "duration": 17,
    "start_time": "2022-05-23T08:38:15.748Z"
   },
   {
    "duration": 99,
    "start_time": "2022-05-23T08:38:26.978Z"
   },
   {
    "duration": 389,
    "start_time": "2022-05-23T08:56:06.418Z"
   },
   {
    "duration": 283,
    "start_time": "2022-05-23T08:58:04.527Z"
   },
   {
    "duration": 3,
    "start_time": "2022-05-23T09:26:07.823Z"
   },
   {
    "duration": 825,
    "start_time": "2022-05-23T09:26:07.828Z"
   },
   {
    "duration": 15,
    "start_time": "2022-05-23T09:26:08.655Z"
   },
   {
    "duration": 131,
    "start_time": "2022-05-23T09:26:08.671Z"
   },
   {
    "duration": 4,
    "start_time": "2022-05-23T09:26:08.804Z"
   },
   {
    "duration": 8,
    "start_time": "2022-05-23T09:26:08.810Z"
   },
   {
    "duration": 444,
    "start_time": "2022-05-23T09:26:08.820Z"
   },
   {
    "duration": 5,
    "start_time": "2022-05-23T09:26:09.266Z"
   },
   {
    "duration": 259,
    "start_time": "2022-05-23T09:26:09.284Z"
   },
   {
    "duration": 123,
    "start_time": "2022-05-23T09:26:09.546Z"
   },
   {
    "duration": 387,
    "start_time": "2022-05-23T09:26:09.670Z"
   },
   {
    "duration": 26,
    "start_time": "2022-05-23T09:26:10.059Z"
   },
   {
    "duration": 30,
    "start_time": "2022-05-23T09:26:10.087Z"
   },
   {
    "duration": 31,
    "start_time": "2022-05-23T09:26:10.120Z"
   },
   {
    "duration": 46,
    "start_time": "2022-05-23T09:26:10.153Z"
   },
   {
    "duration": 21,
    "start_time": "2022-05-23T09:26:10.201Z"
   },
   {
    "duration": 21,
    "start_time": "2022-05-23T09:26:10.224Z"
   },
   {
    "duration": 55,
    "start_time": "2022-05-23T09:26:10.247Z"
   },
   {
    "duration": 22,
    "start_time": "2022-05-23T09:26:10.304Z"
   },
   {
    "duration": 37,
    "start_time": "2022-05-23T09:26:10.328Z"
   },
   {
    "duration": 22,
    "start_time": "2022-05-23T09:26:10.383Z"
   },
   {
    "duration": 325,
    "start_time": "2022-05-23T09:26:10.406Z"
   },
   {
    "duration": 15,
    "start_time": "2022-05-23T09:26:10.734Z"
   },
   {
    "duration": 7,
    "start_time": "2022-05-23T09:26:10.750Z"
   },
   {
    "duration": 49,
    "start_time": "2022-05-23T09:26:10.758Z"
   },
   {
    "duration": 295,
    "start_time": "2022-05-23T09:26:10.808Z"
   },
   {
    "duration": 30,
    "start_time": "2022-05-23T09:26:11.105Z"
   },
   {
    "duration": 11,
    "start_time": "2022-05-23T09:26:11.137Z"
   },
   {
    "duration": 17,
    "start_time": "2022-05-23T09:26:11.149Z"
   },
   {
    "duration": 25,
    "start_time": "2022-05-23T09:26:11.183Z"
   },
   {
    "duration": 13,
    "start_time": "2022-05-23T09:26:11.210Z"
   },
   {
    "duration": 526,
    "start_time": "2022-05-23T09:26:11.224Z"
   },
   {
    "duration": 459,
    "start_time": "2022-05-23T09:26:11.752Z"
   },
   {
    "duration": 237,
    "start_time": "2022-05-23T09:26:12.213Z"
   },
   {
    "duration": 94,
    "start_time": "2022-05-23T09:26:12.452Z"
   },
   {
    "duration": 5,
    "start_time": "2022-05-23T09:26:12.548Z"
   },
   {
    "duration": 1888,
    "start_time": "2022-05-23T09:26:12.555Z"
   },
   {
    "duration": 50,
    "start_time": "2022-05-23T09:26:14.445Z"
   },
   {
    "duration": 11,
    "start_time": "2022-05-23T09:26:14.497Z"
   },
   {
    "duration": 38,
    "start_time": "2022-05-23T09:26:14.510Z"
   },
   {
    "duration": 3,
    "start_time": "2022-05-23T09:26:14.553Z"
   },
   {
    "duration": 1605,
    "start_time": "2022-05-23T09:26:14.583Z"
   },
   {
    "duration": 22,
    "start_time": "2022-05-23T09:26:16.189Z"
   },
   {
    "duration": 18,
    "start_time": "2022-05-23T09:26:16.212Z"
   },
   {
    "duration": 34,
    "start_time": "2022-05-23T09:26:16.231Z"
   },
   {
    "duration": 33,
    "start_time": "2022-05-23T09:26:16.267Z"
   },
   {
    "duration": 4,
    "start_time": "2022-05-23T09:26:16.301Z"
   },
   {
    "duration": 1779,
    "start_time": "2022-05-23T09:26:16.307Z"
   },
   {
    "duration": 30,
    "start_time": "2022-05-23T09:26:18.089Z"
   },
   {
    "duration": 1808,
    "start_time": "2022-05-23T09:26:18.121Z"
   },
   {
    "duration": 29,
    "start_time": "2022-05-23T09:26:19.931Z"
   },
   {
    "duration": 28,
    "start_time": "2022-05-23T09:26:19.962Z"
   },
   {
    "duration": 26,
    "start_time": "2022-05-23T09:26:19.992Z"
   },
   {
    "duration": 3,
    "start_time": "2022-05-23T09:26:20.020Z"
   },
   {
    "duration": 1451,
    "start_time": "2022-05-23T09:26:20.025Z"
   },
   {
    "duration": 14,
    "start_time": "2022-05-23T09:26:21.478Z"
   },
   {
    "duration": 148,
    "start_time": "2022-05-23T09:26:21.494Z"
   },
   {
    "duration": 28,
    "start_time": "2022-05-23T09:26:21.643Z"
   },
   {
    "duration": 26,
    "start_time": "2022-05-23T09:26:21.672Z"
   },
   {
    "duration": 32,
    "start_time": "2022-05-23T09:26:21.700Z"
   },
   {
    "duration": 85,
    "start_time": "2022-05-23T09:26:21.734Z"
   },
   {
    "duration": 87,
    "start_time": "2022-05-23T09:26:21.822Z"
   },
   {
    "duration": 20,
    "start_time": "2022-05-23T09:26:21.910Z"
   },
   {
    "duration": 89,
    "start_time": "2022-05-23T09:26:21.931Z"
   },
   {
    "duration": 3,
    "start_time": "2022-05-23T09:26:22.022Z"
   },
   {
    "duration": 21,
    "start_time": "2022-05-23T09:32:31.217Z"
   },
   {
    "duration": 339,
    "start_time": "2022-05-23T09:32:39.456Z"
   },
   {
    "duration": 276,
    "start_time": "2022-05-23T09:34:46.140Z"
   },
   {
    "duration": 12,
    "start_time": "2022-05-23T09:34:57.085Z"
   },
   {
    "duration": 12,
    "start_time": "2022-05-23T09:36:31.481Z"
   },
   {
    "duration": 161,
    "start_time": "2022-05-23T09:37:22.469Z"
   },
   {
    "duration": 3,
    "start_time": "2022-05-23T09:39:12.009Z"
   },
   {
    "duration": 2,
    "start_time": "2022-05-23T09:48:32.839Z"
   },
   {
    "duration": 13,
    "start_time": "2022-05-23T09:48:33.042Z"
   },
   {
    "duration": 13,
    "start_time": "2022-05-23T09:48:37.766Z"
   },
   {
    "duration": 54,
    "start_time": "2022-05-23T12:12:17.514Z"
   },
   {
    "duration": 7,
    "start_time": "2022-05-23T12:12:44.739Z"
   },
   {
    "duration": 1372,
    "start_time": "2022-05-23T12:13:06.563Z"
   },
   {
    "duration": 1059,
    "start_time": "2022-05-23T12:13:07.937Z"
   },
   {
    "duration": 20,
    "start_time": "2022-05-23T12:13:08.998Z"
   },
   {
    "duration": 201,
    "start_time": "2022-05-23T12:13:09.019Z"
   },
   {
    "duration": 4,
    "start_time": "2022-05-23T12:13:09.223Z"
   },
   {
    "duration": 16,
    "start_time": "2022-05-23T12:13:09.229Z"
   },
   {
    "duration": 439,
    "start_time": "2022-05-23T12:13:09.247Z"
   },
   {
    "duration": 5,
    "start_time": "2022-05-23T12:13:09.687Z"
   },
   {
    "duration": 245,
    "start_time": "2022-05-23T12:13:09.693Z"
   },
   {
    "duration": 122,
    "start_time": "2022-05-23T12:13:09.940Z"
   },
   {
    "duration": 334,
    "start_time": "2022-05-23T12:13:10.063Z"
   },
   {
    "duration": 18,
    "start_time": "2022-05-23T12:13:10.399Z"
   },
   {
    "duration": 40,
    "start_time": "2022-05-23T12:13:10.419Z"
   },
   {
    "duration": 31,
    "start_time": "2022-05-23T12:13:10.461Z"
   },
   {
    "duration": 23,
    "start_time": "2022-05-23T12:13:10.493Z"
   },
   {
    "duration": 43,
    "start_time": "2022-05-23T12:13:10.518Z"
   },
   {
    "duration": 16,
    "start_time": "2022-05-23T12:13:10.563Z"
   },
   {
    "duration": 294,
    "start_time": "2022-05-23T12:13:10.581Z"
   },
   {
    "duration": 14,
    "start_time": "2022-05-23T12:13:10.877Z"
   },
   {
    "duration": 7,
    "start_time": "2022-05-23T12:13:10.893Z"
   },
   {
    "duration": 34,
    "start_time": "2022-05-23T12:13:10.901Z"
   },
   {
    "duration": 302,
    "start_time": "2022-05-23T12:13:10.937Z"
   },
   {
    "duration": 33,
    "start_time": "2022-05-23T12:13:11.241Z"
   },
   {
    "duration": 12,
    "start_time": "2022-05-23T12:13:11.275Z"
   },
   {
    "duration": 21,
    "start_time": "2022-05-23T12:13:11.288Z"
   },
   {
    "duration": 74,
    "start_time": "2022-05-23T12:13:11.310Z"
   },
   {
    "duration": 12,
    "start_time": "2022-05-23T12:13:11.385Z"
   },
   {
    "duration": 486,
    "start_time": "2022-05-23T12:13:11.398Z"
   },
   {
    "duration": 436,
    "start_time": "2022-05-23T12:13:11.886Z"
   },
   {
    "duration": 263,
    "start_time": "2022-05-23T12:13:12.324Z"
   },
   {
    "duration": 87,
    "start_time": "2022-05-23T12:13:12.589Z"
   },
   {
    "duration": 4,
    "start_time": "2022-05-23T12:13:12.678Z"
   },
   {
    "duration": 1743,
    "start_time": "2022-05-23T12:13:12.683Z"
   },
   {
    "duration": 39,
    "start_time": "2022-05-23T12:13:14.428Z"
   },
   {
    "duration": 8,
    "start_time": "2022-05-23T12:13:14.468Z"
   },
   {
    "duration": 39,
    "start_time": "2022-05-23T12:13:14.478Z"
   },
   {
    "duration": 4,
    "start_time": "2022-05-23T12:13:14.519Z"
   },
   {
    "duration": 1508,
    "start_time": "2022-05-23T12:13:14.524Z"
   },
   {
    "duration": 31,
    "start_time": "2022-05-23T12:13:16.034Z"
   },
   {
    "duration": 27,
    "start_time": "2022-05-23T12:13:16.066Z"
   },
   {
    "duration": 9,
    "start_time": "2022-05-23T12:13:16.097Z"
   },
   {
    "duration": 37,
    "start_time": "2022-05-23T12:13:16.108Z"
   },
   {
    "duration": 4,
    "start_time": "2022-05-23T12:13:16.147Z"
   },
   {
    "duration": 1586,
    "start_time": "2022-05-23T12:13:16.159Z"
   },
   {
    "duration": 35,
    "start_time": "2022-05-23T12:13:17.747Z"
   },
   {
    "duration": 1553,
    "start_time": "2022-05-23T12:13:17.783Z"
   },
   {
    "duration": 32,
    "start_time": "2022-05-23T12:13:19.338Z"
   },
   {
    "duration": 12,
    "start_time": "2022-05-23T12:13:19.371Z"
   },
   {
    "duration": 33,
    "start_time": "2022-05-23T12:13:19.384Z"
   },
   {
    "duration": 4,
    "start_time": "2022-05-23T12:13:19.418Z"
   },
   {
    "duration": 1488,
    "start_time": "2022-05-23T12:13:19.423Z"
   },
   {
    "duration": 9,
    "start_time": "2022-05-23T12:13:20.913Z"
   },
   {
    "duration": 148,
    "start_time": "2022-05-23T12:13:20.924Z"
   },
   {
    "duration": 25,
    "start_time": "2022-05-23T12:13:21.074Z"
   },
   {
    "duration": 39,
    "start_time": "2022-05-23T12:13:21.101Z"
   },
   {
    "duration": 43,
    "start_time": "2022-05-23T12:13:21.142Z"
   },
   {
    "duration": 73,
    "start_time": "2022-05-23T12:13:21.187Z"
   },
   {
    "duration": 64,
    "start_time": "2022-05-23T12:13:21.262Z"
   },
   {
    "duration": 32,
    "start_time": "2022-05-23T12:13:21.327Z"
   },
   {
    "duration": 75,
    "start_time": "2022-05-23T12:13:21.360Z"
   },
   {
    "duration": 98,
    "start_time": "2022-05-23T12:13:21.436Z"
   },
   {
    "duration": 1,
    "start_time": "2022-05-23T12:13:21.535Z"
   },
   {
    "duration": 20,
    "start_time": "2022-05-23T12:13:59.421Z"
   },
   {
    "duration": 6,
    "start_time": "2022-05-23T12:14:31.874Z"
   },
   {
    "duration": 16,
    "start_time": "2022-05-23T12:14:46.461Z"
   },
   {
    "duration": 1172,
    "start_time": "2022-05-23T12:15:10.461Z"
   },
   {
    "duration": 763,
    "start_time": "2022-05-23T12:15:11.635Z"
   },
   {
    "duration": 19,
    "start_time": "2022-05-23T12:15:12.399Z"
   },
   {
    "duration": 203,
    "start_time": "2022-05-23T12:15:12.421Z"
   },
   {
    "duration": 4,
    "start_time": "2022-05-23T12:15:12.626Z"
   },
   {
    "duration": 6,
    "start_time": "2022-05-23T12:15:12.632Z"
   },
   {
    "duration": 522,
    "start_time": "2022-05-23T12:15:12.640Z"
   },
   {
    "duration": 5,
    "start_time": "2022-05-23T12:15:13.164Z"
   },
   {
    "duration": 240,
    "start_time": "2022-05-23T12:15:13.171Z"
   },
   {
    "duration": 122,
    "start_time": "2022-05-23T12:15:13.414Z"
   },
   {
    "duration": 326,
    "start_time": "2022-05-23T12:15:13.537Z"
   },
   {
    "duration": 19,
    "start_time": "2022-05-23T12:15:13.865Z"
   },
   {
    "duration": 27,
    "start_time": "2022-05-23T12:15:13.885Z"
   },
   {
    "duration": 49,
    "start_time": "2022-05-23T12:15:13.914Z"
   },
   {
    "duration": 21,
    "start_time": "2022-05-23T12:15:13.965Z"
   },
   {
    "duration": 30,
    "start_time": "2022-05-23T12:15:13.988Z"
   },
   {
    "duration": 39,
    "start_time": "2022-05-23T12:15:14.020Z"
   },
   {
    "duration": 277,
    "start_time": "2022-05-23T12:15:14.061Z"
   },
   {
    "duration": 21,
    "start_time": "2022-05-23T12:15:14.340Z"
   },
   {
    "duration": 7,
    "start_time": "2022-05-23T12:15:14.363Z"
   },
   {
    "duration": 30,
    "start_time": "2022-05-23T12:15:14.372Z"
   },
   {
    "duration": 276,
    "start_time": "2022-05-23T12:15:14.404Z"
   },
   {
    "duration": 31,
    "start_time": "2022-05-23T12:15:14.681Z"
   },
   {
    "duration": 18,
    "start_time": "2022-05-23T12:15:14.713Z"
   },
   {
    "duration": 41,
    "start_time": "2022-05-23T12:15:14.733Z"
   },
   {
    "duration": 57,
    "start_time": "2022-05-23T12:15:14.776Z"
   },
   {
    "duration": 12,
    "start_time": "2022-05-23T12:15:14.835Z"
   },
   {
    "duration": 527,
    "start_time": "2022-05-23T12:15:14.861Z"
   },
   {
    "duration": 477,
    "start_time": "2022-05-23T12:15:15.390Z"
   },
   {
    "duration": 270,
    "start_time": "2022-05-23T12:15:15.869Z"
   },
   {
    "duration": 92,
    "start_time": "2022-05-23T12:15:16.140Z"
   },
   {
    "duration": 5,
    "start_time": "2022-05-23T12:15:16.234Z"
   },
   {
    "duration": 1795,
    "start_time": "2022-05-23T12:15:16.241Z"
   },
   {
    "duration": 38,
    "start_time": "2022-05-23T12:15:18.038Z"
   },
   {
    "duration": 9,
    "start_time": "2022-05-23T12:15:18.078Z"
   },
   {
    "duration": 37,
    "start_time": "2022-05-23T12:15:18.088Z"
   },
   {
    "duration": 4,
    "start_time": "2022-05-23T12:15:18.127Z"
   },
   {
    "duration": 1568,
    "start_time": "2022-05-23T12:15:18.133Z"
   },
   {
    "duration": 23,
    "start_time": "2022-05-23T12:15:19.703Z"
   },
   {
    "duration": 32,
    "start_time": "2022-05-23T12:15:19.728Z"
   },
   {
    "duration": 11,
    "start_time": "2022-05-23T12:15:19.761Z"
   },
   {
    "duration": 35,
    "start_time": "2022-05-23T12:15:19.773Z"
   },
   {
    "duration": 4,
    "start_time": "2022-05-23T12:15:19.809Z"
   },
   {
    "duration": 1553,
    "start_time": "2022-05-23T12:15:19.815Z"
   },
   {
    "duration": 27,
    "start_time": "2022-05-23T12:15:21.371Z"
   },
   {
    "duration": 1598,
    "start_time": "2022-05-23T12:15:21.400Z"
   },
   {
    "duration": 33,
    "start_time": "2022-05-23T12:15:23.000Z"
   },
   {
    "duration": 28,
    "start_time": "2022-05-23T12:15:23.035Z"
   },
   {
    "duration": 40,
    "start_time": "2022-05-23T12:15:23.065Z"
   },
   {
    "duration": 4,
    "start_time": "2022-05-23T12:15:23.107Z"
   },
   {
    "duration": 1465,
    "start_time": "2022-05-23T12:15:23.113Z"
   },
   {
    "duration": 9,
    "start_time": "2022-05-23T12:15:24.580Z"
   },
   {
    "duration": 139,
    "start_time": "2022-05-23T12:15:24.590Z"
   },
   {
    "duration": 30,
    "start_time": "2022-05-23T12:15:24.731Z"
   },
   {
    "duration": 19,
    "start_time": "2022-05-23T12:15:24.762Z"
   },
   {
    "duration": 26,
    "start_time": "2022-05-23T12:15:24.783Z"
   },
   {
    "duration": 67,
    "start_time": "2022-05-23T12:15:24.811Z"
   },
   {
    "duration": 63,
    "start_time": "2022-05-23T12:15:24.879Z"
   },
   {
    "duration": 28,
    "start_time": "2022-05-23T12:15:24.943Z"
   },
   {
    "duration": 70,
    "start_time": "2022-05-23T12:15:24.973Z"
   },
   {
    "duration": 134,
    "start_time": "2022-05-23T12:15:25.044Z"
   },
   {
    "duration": 0,
    "start_time": "2022-05-23T12:15:25.180Z"
   },
   {
    "duration": 20,
    "start_time": "2022-05-23T12:19:32.609Z"
   },
   {
    "duration": 16,
    "start_time": "2022-05-23T12:19:36.689Z"
   },
   {
    "duration": 20,
    "start_time": "2022-05-23T12:19:47.444Z"
   },
   {
    "duration": 17,
    "start_time": "2022-05-23T12:20:08.592Z"
   },
   {
    "duration": 14,
    "start_time": "2022-05-23T12:20:36.971Z"
   },
   {
    "duration": 16,
    "start_time": "2022-05-23T12:21:25.129Z"
   },
   {
    "duration": 4,
    "start_time": "2022-05-23T12:23:08.840Z"
   },
   {
    "duration": 738,
    "start_time": "2022-05-23T12:23:08.846Z"
   },
   {
    "duration": 14,
    "start_time": "2022-05-23T12:23:09.585Z"
   },
   {
    "duration": 127,
    "start_time": "2022-05-23T12:23:09.601Z"
   },
   {
    "duration": 3,
    "start_time": "2022-05-23T12:23:09.730Z"
   },
   {
    "duration": 7,
    "start_time": "2022-05-23T12:23:09.735Z"
   },
   {
    "duration": 422,
    "start_time": "2022-05-23T12:23:09.743Z"
   },
   {
    "duration": 4,
    "start_time": "2022-05-23T12:23:10.166Z"
   },
   {
    "duration": 233,
    "start_time": "2022-05-23T12:23:10.171Z"
   },
   {
    "duration": 117,
    "start_time": "2022-05-23T12:23:10.406Z"
   },
   {
    "duration": 311,
    "start_time": "2022-05-23T12:23:10.525Z"
   },
   {
    "duration": 25,
    "start_time": "2022-05-23T12:23:10.838Z"
   },
   {
    "duration": 25,
    "start_time": "2022-05-23T12:23:10.866Z"
   },
   {
    "duration": 32,
    "start_time": "2022-05-23T12:23:10.893Z"
   },
   {
    "duration": 34,
    "start_time": "2022-05-23T12:23:10.927Z"
   },
   {
    "duration": 31,
    "start_time": "2022-05-23T12:23:10.962Z"
   },
   {
    "duration": 17,
    "start_time": "2022-05-23T12:23:10.994Z"
   },
   {
    "duration": 287,
    "start_time": "2022-05-23T12:23:11.013Z"
   },
   {
    "duration": 15,
    "start_time": "2022-05-23T12:23:11.301Z"
   },
   {
    "duration": 7,
    "start_time": "2022-05-23T12:23:11.317Z"
   },
   {
    "duration": 49,
    "start_time": "2022-05-23T12:23:11.325Z"
   },
   {
    "duration": 274,
    "start_time": "2022-05-23T12:23:11.375Z"
   },
   {
    "duration": 34,
    "start_time": "2022-05-23T12:23:11.650Z"
   },
   {
    "duration": 14,
    "start_time": "2022-05-23T12:23:11.685Z"
   },
   {
    "duration": 16,
    "start_time": "2022-05-23T12:23:11.700Z"
   },
   {
    "duration": 21,
    "start_time": "2022-05-23T12:23:11.717Z"
   },
   {
    "duration": 24,
    "start_time": "2022-05-23T12:23:11.740Z"
   },
   {
    "duration": 483,
    "start_time": "2022-05-23T12:23:11.765Z"
   },
   {
    "duration": 439,
    "start_time": "2022-05-23T12:23:12.249Z"
   },
   {
    "duration": 218,
    "start_time": "2022-05-23T12:23:12.690Z"
   },
   {
    "duration": 97,
    "start_time": "2022-05-23T12:23:12.910Z"
   },
   {
    "duration": 5,
    "start_time": "2022-05-23T12:23:13.009Z"
   },
   {
    "duration": 1777,
    "start_time": "2022-05-23T12:23:13.016Z"
   },
   {
    "duration": 29,
    "start_time": "2022-05-23T12:23:14.795Z"
   },
   {
    "duration": 8,
    "start_time": "2022-05-23T12:23:14.826Z"
   },
   {
    "duration": 51,
    "start_time": "2022-05-23T12:23:14.835Z"
   },
   {
    "duration": 4,
    "start_time": "2022-05-23T12:23:14.890Z"
   },
   {
    "duration": 1534,
    "start_time": "2022-05-23T12:23:14.895Z"
   },
   {
    "duration": 28,
    "start_time": "2022-05-23T12:23:16.431Z"
   },
   {
    "duration": 11,
    "start_time": "2022-05-23T12:23:16.461Z"
   },
   {
    "duration": 12,
    "start_time": "2022-05-23T12:23:16.473Z"
   },
   {
    "duration": 35,
    "start_time": "2022-05-23T12:23:16.487Z"
   },
   {
    "duration": 4,
    "start_time": "2022-05-23T12:23:16.524Z"
   },
   {
    "duration": 1649,
    "start_time": "2022-05-23T12:23:16.530Z"
   },
   {
    "duration": 24,
    "start_time": "2022-05-23T12:23:18.181Z"
   },
   {
    "duration": 1672,
    "start_time": "2022-05-23T12:23:18.207Z"
   },
   {
    "duration": 29,
    "start_time": "2022-05-23T12:23:19.881Z"
   },
   {
    "duration": 12,
    "start_time": "2022-05-23T12:23:19.911Z"
   },
   {
    "duration": 47,
    "start_time": "2022-05-23T12:23:19.924Z"
   },
   {
    "duration": 4,
    "start_time": "2022-05-23T12:23:19.973Z"
   },
   {
    "duration": 1425,
    "start_time": "2022-05-23T12:23:19.979Z"
   },
   {
    "duration": 11,
    "start_time": "2022-05-23T12:23:21.406Z"
   },
   {
    "duration": 146,
    "start_time": "2022-05-23T12:23:21.419Z"
   },
   {
    "duration": 26,
    "start_time": "2022-05-23T12:23:21.567Z"
   },
   {
    "duration": 19,
    "start_time": "2022-05-23T12:23:21.595Z"
   },
   {
    "duration": 44,
    "start_time": "2022-05-23T12:23:21.616Z"
   },
   {
    "duration": 53,
    "start_time": "2022-05-23T12:23:21.661Z"
   },
   {
    "duration": 76,
    "start_time": "2022-05-23T12:23:21.716Z"
   },
   {
    "duration": 15,
    "start_time": "2022-05-23T12:23:21.793Z"
   },
   {
    "duration": 81,
    "start_time": "2022-05-23T12:23:21.810Z"
   },
   {
    "duration": 24,
    "start_time": "2022-05-23T12:23:21.892Z"
   },
   {
    "duration": 0,
    "start_time": "2022-05-23T12:23:21.917Z"
   },
   {
    "duration": 0,
    "start_time": "2022-05-23T12:23:21.919Z"
   },
   {
    "duration": 21,
    "start_time": "2022-05-23T12:23:38.566Z"
   },
   {
    "duration": 14,
    "start_time": "2022-05-23T12:23:38.783Z"
   },
   {
    "duration": 23,
    "start_time": "2022-05-23T12:24:10.886Z"
   },
   {
    "duration": 97,
    "start_time": "2022-05-23T12:24:49.677Z"
   },
   {
    "duration": 2673,
    "start_time": "2022-05-23T12:28:42.487Z"
   },
   {
    "duration": 534,
    "start_time": "2022-05-23T12:29:08.343Z"
   },
   {
    "duration": 3,
    "start_time": "2022-05-23T12:30:35.344Z"
   },
   {
    "duration": 711,
    "start_time": "2022-05-23T12:32:52.572Z"
   },
   {
    "duration": 10,
    "start_time": "2022-05-23T12:33:08.878Z"
   },
   {
    "duration": 2250,
    "start_time": "2022-05-23T12:46:30.475Z"
   },
   {
    "duration": 4,
    "start_time": "2022-05-23T12:46:32.727Z"
   },
   {
    "duration": 825,
    "start_time": "2022-05-23T12:46:32.732Z"
   },
   {
    "duration": 18,
    "start_time": "2022-05-23T12:46:33.558Z"
   },
   {
    "duration": 144,
    "start_time": "2022-05-23T12:46:33.578Z"
   },
   {
    "duration": 4,
    "start_time": "2022-05-23T12:46:33.724Z"
   },
   {
    "duration": 7,
    "start_time": "2022-05-23T12:46:33.729Z"
   },
   {
    "duration": 462,
    "start_time": "2022-05-23T12:46:33.738Z"
   },
   {
    "duration": 5,
    "start_time": "2022-05-23T12:46:34.201Z"
   },
   {
    "duration": 248,
    "start_time": "2022-05-23T12:46:34.207Z"
   },
   {
    "duration": 129,
    "start_time": "2022-05-23T12:46:34.459Z"
   },
   {
    "duration": 352,
    "start_time": "2022-05-23T12:46:34.589Z"
   },
   {
    "duration": 33,
    "start_time": "2022-05-23T12:46:34.943Z"
   },
   {
    "duration": 26,
    "start_time": "2022-05-23T12:46:34.980Z"
   },
   {
    "duration": 32,
    "start_time": "2022-05-23T12:46:35.008Z"
   },
   {
    "duration": 42,
    "start_time": "2022-05-23T12:46:35.041Z"
   },
   {
    "duration": 31,
    "start_time": "2022-05-23T12:46:35.085Z"
   },
   {
    "duration": 20,
    "start_time": "2022-05-23T12:46:35.117Z"
   },
   {
    "duration": 297,
    "start_time": "2022-05-23T12:46:35.139Z"
   },
   {
    "duration": 15,
    "start_time": "2022-05-23T12:46:35.437Z"
   },
   {
    "duration": 8,
    "start_time": "2022-05-23T12:46:35.459Z"
   },
   {
    "duration": 37,
    "start_time": "2022-05-23T12:46:35.468Z"
   },
   {
    "duration": 296,
    "start_time": "2022-05-23T12:46:35.506Z"
   },
   {
    "duration": 29,
    "start_time": "2022-05-23T12:46:35.804Z"
   },
   {
    "duration": 19,
    "start_time": "2022-05-23T12:46:35.834Z"
   },
   {
    "duration": 26,
    "start_time": "2022-05-23T12:46:35.863Z"
   },
   {
    "duration": 51,
    "start_time": "2022-05-23T12:46:35.890Z"
   },
   {
    "duration": 18,
    "start_time": "2022-05-23T12:46:35.943Z"
   },
   {
    "duration": 509,
    "start_time": "2022-05-23T12:46:35.963Z"
   },
   {
    "duration": 499,
    "start_time": "2022-05-23T12:46:36.474Z"
   },
   {
    "duration": 260,
    "start_time": "2022-05-23T12:46:36.975Z"
   },
   {
    "duration": 103,
    "start_time": "2022-05-23T12:46:37.237Z"
   },
   {
    "duration": 18,
    "start_time": "2022-05-23T12:46:37.343Z"
   },
   {
    "duration": 1833,
    "start_time": "2022-05-23T12:46:37.364Z"
   },
   {
    "duration": 31,
    "start_time": "2022-05-23T12:46:39.199Z"
   },
   {
    "duration": 35,
    "start_time": "2022-05-23T12:46:39.232Z"
   },
   {
    "duration": 33,
    "start_time": "2022-05-23T12:46:39.269Z"
   },
   {
    "duration": 5,
    "start_time": "2022-05-23T12:46:39.303Z"
   },
   {
    "duration": 1577,
    "start_time": "2022-05-23T12:46:39.309Z"
   },
   {
    "duration": 23,
    "start_time": "2022-05-23T12:46:40.888Z"
   },
   {
    "duration": 12,
    "start_time": "2022-05-23T12:46:40.916Z"
   },
   {
    "duration": 39,
    "start_time": "2022-05-23T12:46:40.930Z"
   },
   {
    "duration": 36,
    "start_time": "2022-05-23T12:46:40.971Z"
   },
   {
    "duration": 4,
    "start_time": "2022-05-23T12:46:41.008Z"
   },
   {
    "duration": 1756,
    "start_time": "2022-05-23T12:46:41.013Z"
   },
   {
    "duration": 30,
    "start_time": "2022-05-23T12:46:42.771Z"
   },
   {
    "duration": 1652,
    "start_time": "2022-05-23T12:46:42.802Z"
   },
   {
    "duration": 33,
    "start_time": "2022-05-23T12:46:44.458Z"
   },
   {
    "duration": 14,
    "start_time": "2022-05-23T12:46:44.493Z"
   },
   {
    "duration": 27,
    "start_time": "2022-05-23T12:46:44.509Z"
   },
   {
    "duration": 23,
    "start_time": "2022-05-23T12:46:44.538Z"
   },
   {
    "duration": 1547,
    "start_time": "2022-05-23T12:46:44.565Z"
   },
   {
    "duration": 10,
    "start_time": "2022-05-23T12:46:46.113Z"
   },
   {
    "duration": 154,
    "start_time": "2022-05-23T12:46:46.124Z"
   },
   {
    "duration": 28,
    "start_time": "2022-05-23T12:46:46.280Z"
   },
   {
    "duration": 22,
    "start_time": "2022-05-23T12:46:46.310Z"
   },
   {
    "duration": 50,
    "start_time": "2022-05-23T12:46:46.334Z"
   },
   {
    "duration": 53,
    "start_time": "2022-05-23T12:46:46.386Z"
   },
   {
    "duration": 81,
    "start_time": "2022-05-23T12:46:46.441Z"
   },
   {
    "duration": 15,
    "start_time": "2022-05-23T12:46:46.524Z"
   },
   {
    "duration": 90,
    "start_time": "2022-05-23T12:46:46.541Z"
   },
   {
    "duration": 734,
    "start_time": "2022-05-23T12:46:46.632Z"
   },
   {
    "duration": 6,
    "start_time": "2022-05-23T12:46:47.370Z"
   },
   {
    "duration": 39,
    "start_time": "2022-05-23T12:46:47.379Z"
   },
   {
    "duration": 46,
    "start_time": "2022-05-23T12:46:47.420Z"
   },
   {
    "duration": 58,
    "start_time": "2022-05-23T12:48:06.575Z"
   },
   {
    "duration": 55,
    "start_time": "2022-05-23T12:48:28.146Z"
   },
   {
    "duration": 36,
    "start_time": "2022-05-23T12:48:35.390Z"
   },
   {
    "duration": 21,
    "start_time": "2022-05-23T12:48:58.532Z"
   },
   {
    "duration": 11,
    "start_time": "2022-05-23T12:49:02.962Z"
   },
   {
    "duration": 36,
    "start_time": "2022-05-23T12:49:55.869Z"
   },
   {
    "duration": 726,
    "start_time": "2022-05-23T12:50:10.813Z"
   },
   {
    "duration": 7,
    "start_time": "2022-05-23T12:50:23.557Z"
   },
   {
    "duration": 26,
    "start_time": "2022-05-23T12:50:59.370Z"
   },
   {
    "duration": 10,
    "start_time": "2022-05-23T12:51:01.740Z"
   },
   {
    "duration": 14,
    "start_time": "2022-05-23T12:52:11.477Z"
   },
   {
    "duration": 10,
    "start_time": "2022-05-23T12:55:11.504Z"
   },
   {
    "duration": 113,
    "start_time": "2022-05-23T13:01:12.916Z"
   },
   {
    "duration": 11,
    "start_time": "2022-05-23T13:01:30.721Z"
   },
   {
    "duration": 5,
    "start_time": "2022-05-23T13:01:44.221Z"
   },
   {
    "duration": 12,
    "start_time": "2022-05-23T13:03:29.889Z"
   },
   {
    "duration": 77,
    "start_time": "2022-05-23T13:04:44.185Z"
   },
   {
    "duration": 66,
    "start_time": "2022-05-23T13:06:14.899Z"
   },
   {
    "duration": 5,
    "start_time": "2022-05-23T13:08:33.533Z"
   },
   {
    "duration": 4,
    "start_time": "2022-05-23T13:08:56.398Z"
   },
   {
    "duration": 4,
    "start_time": "2022-05-23T13:09:35.080Z"
   },
   {
    "duration": 458,
    "start_time": "2022-05-23T13:25:40.864Z"
   },
   {
    "duration": 3,
    "start_time": "2022-05-23T13:30:15.838Z"
   },
   {
    "duration": 7,
    "start_time": "2022-05-23T13:33:40.578Z"
   },
   {
    "duration": 4,
    "start_time": "2022-05-23T13:45:03.520Z"
   },
   {
    "duration": 22,
    "start_time": "2022-05-23T13:45:48.136Z"
   },
   {
    "duration": 4,
    "start_time": "2022-05-23T13:46:05.776Z"
   },
   {
    "duration": 4,
    "start_time": "2022-05-23T13:46:55.566Z"
   },
   {
    "duration": 14,
    "start_time": "2022-05-23T13:47:05.171Z"
   },
   {
    "duration": 6,
    "start_time": "2022-05-23T13:47:45.718Z"
   },
   {
    "duration": 220098,
    "start_time": "2022-05-23T13:47:59.461Z"
   },
   {
    "duration": 3,
    "start_time": "2022-05-23T13:51:39.561Z"
   },
   {
    "duration": 50709,
    "start_time": "2022-05-23T13:52:07.814Z"
   },
   {
    "duration": 3,
    "start_time": "2022-05-23T13:54:56.449Z"
   },
   {
    "duration": 4,
    "start_time": "2022-05-23T13:56:18.743Z"
   },
   {
    "duration": 2164,
    "start_time": "2022-05-23T14:12:37.934Z"
   },
   {
    "duration": 1319,
    "start_time": "2022-05-23T14:12:40.101Z"
   },
   {
    "duration": 766,
    "start_time": "2022-05-23T14:12:41.421Z"
   },
   {
    "duration": 18,
    "start_time": "2022-05-23T14:12:42.188Z"
   },
   {
    "duration": 138,
    "start_time": "2022-05-23T14:12:42.208Z"
   },
   {
    "duration": 4,
    "start_time": "2022-05-23T14:12:42.347Z"
   },
   {
    "duration": 9,
    "start_time": "2022-05-23T14:12:42.359Z"
   },
   {
    "duration": 451,
    "start_time": "2022-05-23T14:12:42.370Z"
   },
   {
    "duration": 4,
    "start_time": "2022-05-23T14:12:42.823Z"
   },
   {
    "duration": 290,
    "start_time": "2022-05-23T14:12:42.829Z"
   },
   {
    "duration": 125,
    "start_time": "2022-05-23T14:12:43.120Z"
   },
   {
    "duration": 352,
    "start_time": "2022-05-23T14:12:43.247Z"
   },
   {
    "duration": 19,
    "start_time": "2022-05-23T14:12:43.600Z"
   },
   {
    "duration": 41,
    "start_time": "2022-05-23T14:12:43.622Z"
   },
   {
    "duration": 30,
    "start_time": "2022-05-23T14:12:43.665Z"
   },
   {
    "duration": 21,
    "start_time": "2022-05-23T14:12:43.697Z"
   },
   {
    "duration": 42,
    "start_time": "2022-05-23T14:12:43.720Z"
   },
   {
    "duration": 22,
    "start_time": "2022-05-23T14:12:43.763Z"
   },
   {
    "duration": 310,
    "start_time": "2022-05-23T14:12:43.786Z"
   },
   {
    "duration": 15,
    "start_time": "2022-05-23T14:12:44.097Z"
   },
   {
    "duration": 7,
    "start_time": "2022-05-23T14:12:44.114Z"
   },
   {
    "duration": 49,
    "start_time": "2022-05-23T14:12:44.123Z"
   },
   {
    "duration": 281,
    "start_time": "2022-05-23T14:12:44.174Z"
   },
   {
    "duration": 27,
    "start_time": "2022-05-23T14:12:44.459Z"
   },
   {
    "duration": 13,
    "start_time": "2022-05-23T14:12:44.488Z"
   },
   {
    "duration": 19,
    "start_time": "2022-05-23T14:12:44.502Z"
   },
   {
    "duration": 70,
    "start_time": "2022-05-23T14:12:44.522Z"
   },
   {
    "duration": 12,
    "start_time": "2022-05-23T14:12:44.593Z"
   },
   {
    "duration": 501,
    "start_time": "2022-05-23T14:12:44.607Z"
   },
   {
    "duration": 438,
    "start_time": "2022-05-23T14:12:45.110Z"
   },
   {
    "duration": 272,
    "start_time": "2022-05-23T14:12:45.550Z"
   },
   {
    "duration": 83,
    "start_time": "2022-05-23T14:12:45.824Z"
   },
   {
    "duration": 4,
    "start_time": "2022-05-23T14:12:45.908Z"
   },
   {
    "duration": 1859,
    "start_time": "2022-05-23T14:12:45.914Z"
   },
   {
    "duration": 31,
    "start_time": "2022-05-23T14:12:47.775Z"
   },
   {
    "duration": 8,
    "start_time": "2022-05-23T14:12:47.808Z"
   },
   {
    "duration": 50,
    "start_time": "2022-05-23T14:12:47.818Z"
   },
   {
    "duration": 4,
    "start_time": "2022-05-23T14:12:47.869Z"
   },
   {
    "duration": 1523,
    "start_time": "2022-05-23T14:12:47.874Z"
   },
   {
    "duration": 22,
    "start_time": "2022-05-23T14:12:49.399Z"
   },
   {
    "duration": 11,
    "start_time": "2022-05-23T14:12:49.425Z"
   },
   {
    "duration": 30,
    "start_time": "2022-05-23T14:12:49.438Z"
   },
   {
    "duration": 32,
    "start_time": "2022-05-23T14:12:49.470Z"
   },
   {
    "duration": 4,
    "start_time": "2022-05-23T14:12:49.503Z"
   },
   {
    "duration": 1740,
    "start_time": "2022-05-23T14:12:49.509Z"
   },
   {
    "duration": 28,
    "start_time": "2022-05-23T14:12:51.250Z"
   },
   {
    "duration": 1572,
    "start_time": "2022-05-23T14:12:51.280Z"
   },
   {
    "duration": 32,
    "start_time": "2022-05-23T14:12:52.854Z"
   },
   {
    "duration": 12,
    "start_time": "2022-05-23T14:12:52.887Z"
   },
   {
    "duration": 34,
    "start_time": "2022-05-23T14:12:52.901Z"
   },
   {
    "duration": 25,
    "start_time": "2022-05-23T14:12:52.937Z"
   },
   {
    "duration": 1447,
    "start_time": "2022-05-23T14:12:52.964Z"
   },
   {
    "duration": 9,
    "start_time": "2022-05-23T14:12:54.412Z"
   },
   {
    "duration": 147,
    "start_time": "2022-05-23T14:12:54.423Z"
   },
   {
    "duration": 26,
    "start_time": "2022-05-23T14:12:54.571Z"
   },
   {
    "duration": 19,
    "start_time": "2022-05-23T14:12:54.599Z"
   },
   {
    "duration": 40,
    "start_time": "2022-05-23T14:12:54.620Z"
   },
   {
    "duration": 58,
    "start_time": "2022-05-23T14:12:54.661Z"
   },
   {
    "duration": 82,
    "start_time": "2022-05-23T14:12:54.721Z"
   },
   {
    "duration": 18,
    "start_time": "2022-05-23T14:12:54.805Z"
   },
   {
    "duration": 90,
    "start_time": "2022-05-23T14:12:54.825Z"
   },
   {
    "duration": 633,
    "start_time": "2022-05-23T14:12:54.917Z"
   },
   {
    "duration": 46,
    "start_time": "2022-05-23T14:12:55.552Z"
   },
   {
    "duration": 9,
    "start_time": "2022-05-23T14:12:55.600Z"
   },
   {
    "duration": 19,
    "start_time": "2022-05-23T14:12:55.610Z"
   },
   {
    "duration": 38,
    "start_time": "2022-05-23T14:12:55.631Z"
   },
   {
    "duration": 108,
    "start_time": "2022-05-23T14:12:55.671Z"
   },
   {
    "duration": 79,
    "start_time": "2022-05-23T14:12:55.780Z"
   },
   {
    "duration": 4,
    "start_time": "2022-05-23T14:12:55.861Z"
   },
   {
    "duration": 5,
    "start_time": "2022-05-23T14:12:55.867Z"
   },
   {
    "duration": 10,
    "start_time": "2022-05-23T14:12:55.873Z"
   },
   {
    "duration": 10,
    "start_time": "2022-05-23T14:12:55.884Z"
   },
   {
    "duration": 7,
    "start_time": "2022-05-23T14:12:55.895Z"
   },
   {
    "duration": 206975,
    "start_time": "2022-05-23T14:12:55.904Z"
   },
   {
    "duration": 3,
    "start_time": "2022-05-23T14:16:22.880Z"
   },
   {
    "duration": 52595,
    "start_time": "2022-05-23T14:16:22.958Z"
   },
   {
    "duration": 4,
    "start_time": "2022-05-23T14:17:15.555Z"
   },
   {
    "duration": 2263,
    "start_time": "2022-05-23T14:28:42.697Z"
   },
   {
    "duration": 1440,
    "start_time": "2022-05-23T14:28:44.963Z"
   },
   {
    "duration": 902,
    "start_time": "2022-05-23T14:28:46.405Z"
   },
   {
    "duration": 26,
    "start_time": "2022-05-23T14:28:47.309Z"
   },
   {
    "duration": 154,
    "start_time": "2022-05-23T14:28:47.336Z"
   },
   {
    "duration": 4,
    "start_time": "2022-05-23T14:28:47.492Z"
   },
   {
    "duration": 7,
    "start_time": "2022-05-23T14:28:47.498Z"
   },
   {
    "duration": 504,
    "start_time": "2022-05-23T14:28:47.506Z"
   },
   {
    "duration": 5,
    "start_time": "2022-05-23T14:28:48.012Z"
   },
   {
    "duration": 246,
    "start_time": "2022-05-23T14:28:48.020Z"
   },
   {
    "duration": 129,
    "start_time": "2022-05-23T14:28:48.268Z"
   },
   {
    "duration": 361,
    "start_time": "2022-05-23T14:28:48.399Z"
   },
   {
    "duration": 30,
    "start_time": "2022-05-23T14:28:48.762Z"
   },
   {
    "duration": 27,
    "start_time": "2022-05-23T14:28:48.794Z"
   },
   {
    "duration": 48,
    "start_time": "2022-05-23T14:28:48.822Z"
   },
   {
    "duration": 21,
    "start_time": "2022-05-23T14:28:48.872Z"
   },
   {
    "duration": 32,
    "start_time": "2022-05-23T14:28:48.894Z"
   },
   {
    "duration": 44,
    "start_time": "2022-05-23T14:28:48.928Z"
   },
   {
    "duration": 330,
    "start_time": "2022-05-23T14:28:48.974Z"
   },
   {
    "duration": 13,
    "start_time": "2022-05-23T14:28:49.306Z"
   },
   {
    "duration": 6,
    "start_time": "2022-05-23T14:28:49.321Z"
   },
   {
    "duration": 52,
    "start_time": "2022-05-23T14:28:49.329Z"
   },
   {
    "duration": 331,
    "start_time": "2022-05-23T14:28:49.382Z"
   },
   {
    "duration": 30,
    "start_time": "2022-05-23T14:28:49.714Z"
   },
   {
    "duration": 22,
    "start_time": "2022-05-23T14:28:49.745Z"
   },
   {
    "duration": 24,
    "start_time": "2022-05-23T14:28:49.770Z"
   },
   {
    "duration": 70,
    "start_time": "2022-05-23T14:28:49.796Z"
   },
   {
    "duration": 14,
    "start_time": "2022-05-23T14:28:49.871Z"
   },
   {
    "duration": 564,
    "start_time": "2022-05-23T14:28:49.886Z"
   },
   {
    "duration": 497,
    "start_time": "2022-05-23T14:28:50.452Z"
   },
   {
    "duration": 275,
    "start_time": "2022-05-23T14:28:50.951Z"
   },
   {
    "duration": 89,
    "start_time": "2022-05-23T14:28:51.227Z"
   },
   {
    "duration": 11,
    "start_time": "2022-05-23T14:28:51.318Z"
   },
   {
    "duration": 1870,
    "start_time": "2022-05-23T14:28:51.330Z"
   },
   {
    "duration": 32,
    "start_time": "2022-05-23T14:28:53.202Z"
   },
   {
    "duration": 29,
    "start_time": "2022-05-23T14:28:53.236Z"
   },
   {
    "duration": 37,
    "start_time": "2022-05-23T14:28:53.268Z"
   },
   {
    "duration": 5,
    "start_time": "2022-05-23T14:28:53.307Z"
   },
   {
    "duration": 1529,
    "start_time": "2022-05-23T14:28:53.313Z"
   },
   {
    "duration": 27,
    "start_time": "2022-05-23T14:28:54.844Z"
   },
   {
    "duration": 11,
    "start_time": "2022-05-23T14:28:54.872Z"
   },
   {
    "duration": 14,
    "start_time": "2022-05-23T14:28:54.885Z"
   },
   {
    "duration": 63,
    "start_time": "2022-05-23T14:28:54.901Z"
   },
   {
    "duration": 5,
    "start_time": "2022-05-23T14:28:54.967Z"
   },
   {
    "duration": 1915,
    "start_time": "2022-05-23T14:28:54.974Z"
   },
   {
    "duration": 23,
    "start_time": "2022-05-23T14:28:56.890Z"
   },
   {
    "duration": 1734,
    "start_time": "2022-05-23T14:28:56.915Z"
   },
   {
    "duration": 34,
    "start_time": "2022-05-23T14:28:58.650Z"
   },
   {
    "duration": 16,
    "start_time": "2022-05-23T14:28:58.686Z"
   },
   {
    "duration": 31,
    "start_time": "2022-05-23T14:28:58.704Z"
   },
   {
    "duration": 6,
    "start_time": "2022-05-23T14:28:58.759Z"
   },
   {
    "duration": 1487,
    "start_time": "2022-05-23T14:28:58.768Z"
   },
   {
    "duration": 17,
    "start_time": "2022-05-23T14:29:00.257Z"
   },
   {
    "duration": 148,
    "start_time": "2022-05-23T14:29:00.276Z"
   },
   {
    "duration": 42,
    "start_time": "2022-05-23T14:29:00.425Z"
   },
   {
    "duration": 25,
    "start_time": "2022-05-23T14:29:00.470Z"
   },
   {
    "duration": 31,
    "start_time": "2022-05-23T14:29:00.496Z"
   },
   {
    "duration": 77,
    "start_time": "2022-05-23T14:29:00.530Z"
   },
   {
    "duration": 84,
    "start_time": "2022-05-23T14:29:00.608Z"
   },
   {
    "duration": 15,
    "start_time": "2022-05-23T14:29:00.693Z"
   },
   {
    "duration": 97,
    "start_time": "2022-05-23T14:29:00.710Z"
   },
   {
    "duration": 748,
    "start_time": "2022-05-23T14:29:00.809Z"
   },
   {
    "duration": 57,
    "start_time": "2022-05-23T14:29:01.559Z"
   },
   {
    "duration": 9,
    "start_time": "2022-05-23T14:29:01.617Z"
   },
   {
    "duration": 63,
    "start_time": "2022-05-23T14:29:01.628Z"
   },
   {
    "duration": 34,
    "start_time": "2022-05-23T14:29:01.693Z"
   },
   {
    "duration": 122,
    "start_time": "2022-05-23T14:29:01.729Z"
   },
   {
    "duration": 87,
    "start_time": "2022-05-23T14:29:01.853Z"
   },
   {
    "duration": 5,
    "start_time": "2022-05-23T14:29:01.942Z"
   },
   {
    "duration": 38,
    "start_time": "2022-05-23T14:29:01.963Z"
   },
   {
    "duration": 38,
    "start_time": "2022-05-23T14:29:02.003Z"
   },
   {
    "duration": 13,
    "start_time": "2022-05-23T14:29:02.042Z"
   },
   {
    "duration": 8,
    "start_time": "2022-05-23T14:29:02.057Z"
   },
   {
    "duration": 2564,
    "start_time": "2022-05-23T14:34:35.444Z"
   },
   {
    "duration": 1537,
    "start_time": "2022-05-23T14:34:38.011Z"
   },
   {
    "duration": 886,
    "start_time": "2022-05-23T14:34:39.550Z"
   },
   {
    "duration": 32,
    "start_time": "2022-05-23T14:34:40.438Z"
   },
   {
    "duration": 141,
    "start_time": "2022-05-23T14:34:40.474Z"
   },
   {
    "duration": 3,
    "start_time": "2022-05-23T14:34:40.617Z"
   },
   {
    "duration": 29,
    "start_time": "2022-05-23T14:34:40.621Z"
   },
   {
    "duration": 459,
    "start_time": "2022-05-23T14:34:40.653Z"
   },
   {
    "duration": 4,
    "start_time": "2022-05-23T14:34:41.114Z"
   },
   {
    "duration": 288,
    "start_time": "2022-05-23T14:34:41.120Z"
   },
   {
    "duration": 134,
    "start_time": "2022-05-23T14:34:41.410Z"
   },
   {
    "duration": 340,
    "start_time": "2022-05-23T14:34:41.545Z"
   },
   {
    "duration": 17,
    "start_time": "2022-05-23T14:34:41.886Z"
   },
   {
    "duration": 36,
    "start_time": "2022-05-23T14:34:41.906Z"
   },
   {
    "duration": 42,
    "start_time": "2022-05-23T14:34:41.943Z"
   },
   {
    "duration": 32,
    "start_time": "2022-05-23T14:34:41.987Z"
   },
   {
    "duration": 30,
    "start_time": "2022-05-23T14:34:42.021Z"
   },
   {
    "duration": 44,
    "start_time": "2022-05-23T14:34:42.052Z"
   },
   {
    "duration": 307,
    "start_time": "2022-05-23T14:34:42.097Z"
   },
   {
    "duration": 14,
    "start_time": "2022-05-23T14:34:42.405Z"
   },
   {
    "duration": 7,
    "start_time": "2022-05-23T14:34:42.421Z"
   },
   {
    "duration": 53,
    "start_time": "2022-05-23T14:34:42.429Z"
   },
   {
    "duration": 301,
    "start_time": "2022-05-23T14:34:42.484Z"
   },
   {
    "duration": 32,
    "start_time": "2022-05-23T14:34:42.786Z"
   },
   {
    "duration": 12,
    "start_time": "2022-05-23T14:34:42.819Z"
   },
   {
    "duration": 34,
    "start_time": "2022-05-23T14:34:42.832Z"
   },
   {
    "duration": 56,
    "start_time": "2022-05-23T14:34:42.868Z"
   },
   {
    "duration": 33,
    "start_time": "2022-05-23T14:34:42.929Z"
   },
   {
    "duration": 553,
    "start_time": "2022-05-23T14:34:42.965Z"
   },
   {
    "duration": 496,
    "start_time": "2022-05-23T14:34:43.520Z"
   },
   {
    "duration": 267,
    "start_time": "2022-05-23T14:34:44.018Z"
   },
   {
    "duration": 93,
    "start_time": "2022-05-23T14:34:44.287Z"
   },
   {
    "duration": 4,
    "start_time": "2022-05-23T14:34:44.382Z"
   },
   {
    "duration": 1946,
    "start_time": "2022-05-23T14:34:44.388Z"
   },
   {
    "duration": 41,
    "start_time": "2022-05-23T14:34:46.336Z"
   },
   {
    "duration": 10,
    "start_time": "2022-05-23T14:34:46.380Z"
   },
   {
    "duration": 33,
    "start_time": "2022-05-23T14:34:46.392Z"
   },
   {
    "duration": 3,
    "start_time": "2022-05-23T14:34:46.427Z"
   },
   {
    "duration": 1682,
    "start_time": "2022-05-23T14:34:46.432Z"
   },
   {
    "duration": 24,
    "start_time": "2022-05-23T14:34:48.116Z"
   },
   {
    "duration": 17,
    "start_time": "2022-05-23T14:34:48.161Z"
   },
   {
    "duration": 12,
    "start_time": "2022-05-23T14:34:48.180Z"
   },
   {
    "duration": 33,
    "start_time": "2022-05-23T14:34:48.195Z"
   },
   {
    "duration": 4,
    "start_time": "2022-05-23T14:34:48.230Z"
   },
   {
    "duration": 1902,
    "start_time": "2022-05-23T14:34:48.261Z"
   },
   {
    "duration": 28,
    "start_time": "2022-05-23T14:34:50.166Z"
   },
   {
    "duration": 1799,
    "start_time": "2022-05-23T14:34:50.196Z"
   },
   {
    "duration": 29,
    "start_time": "2022-05-23T14:34:51.997Z"
   },
   {
    "duration": 19,
    "start_time": "2022-05-23T14:34:52.028Z"
   },
   {
    "duration": 39,
    "start_time": "2022-05-23T14:34:52.060Z"
   },
   {
    "duration": 4,
    "start_time": "2022-05-23T14:34:52.101Z"
   },
   {
    "duration": 1641,
    "start_time": "2022-05-23T14:34:52.107Z"
   },
   {
    "duration": 20,
    "start_time": "2022-05-23T14:34:53.750Z"
   },
   {
    "duration": 156,
    "start_time": "2022-05-23T14:34:53.772Z"
   },
   {
    "duration": 32,
    "start_time": "2022-05-23T14:34:53.930Z"
   },
   {
    "duration": 29,
    "start_time": "2022-05-23T14:34:53.965Z"
   },
   {
    "duration": 44,
    "start_time": "2022-05-23T14:34:53.995Z"
   },
   {
    "duration": 74,
    "start_time": "2022-05-23T14:34:54.041Z"
   },
   {
    "duration": 81,
    "start_time": "2022-05-23T14:34:54.116Z"
   },
   {
    "duration": 16,
    "start_time": "2022-05-23T14:34:54.198Z"
   },
   {
    "duration": 110,
    "start_time": "2022-05-23T14:34:54.215Z"
   },
   {
    "duration": 696,
    "start_time": "2022-05-23T14:34:54.327Z"
   },
   {
    "duration": 51,
    "start_time": "2022-05-23T14:34:55.025Z"
   },
   {
    "duration": 10,
    "start_time": "2022-05-23T14:34:55.078Z"
   },
   {
    "duration": 30,
    "start_time": "2022-05-23T14:34:55.090Z"
   },
   {
    "duration": 23,
    "start_time": "2022-05-23T14:34:55.122Z"
   },
   {
    "duration": 105,
    "start_time": "2022-05-23T14:34:55.158Z"
   },
   {
    "duration": 69,
    "start_time": "2022-05-23T14:34:55.266Z"
   },
   {
    "duration": 5,
    "start_time": "2022-05-23T14:34:55.337Z"
   },
   {
    "duration": 5,
    "start_time": "2022-05-23T14:34:55.364Z"
   },
   {
    "duration": 6,
    "start_time": "2022-05-23T14:34:55.373Z"
   },
   {
    "duration": 20,
    "start_time": "2022-05-23T14:34:55.381Z"
   },
   {
    "duration": 12,
    "start_time": "2022-05-23T14:34:55.403Z"
   },
   {
    "duration": 2246,
    "start_time": "2022-05-23T14:41:28.703Z"
   },
   {
    "duration": 5,
    "start_time": "2022-05-23T14:41:30.952Z"
   },
   {
    "duration": 794,
    "start_time": "2022-05-23T14:41:30.958Z"
   },
   {
    "duration": 18,
    "start_time": "2022-05-23T14:41:31.754Z"
   },
   {
    "duration": 162,
    "start_time": "2022-05-23T14:41:31.773Z"
   },
   {
    "duration": 4,
    "start_time": "2022-05-23T14:41:31.937Z"
   },
   {
    "duration": 31,
    "start_time": "2022-05-23T14:41:31.943Z"
   },
   {
    "duration": 404,
    "start_time": "2022-05-23T14:41:31.976Z"
   },
   {
    "duration": 5,
    "start_time": "2022-05-23T14:41:32.381Z"
   },
   {
    "duration": 261,
    "start_time": "2022-05-23T14:41:32.387Z"
   },
   {
    "duration": 118,
    "start_time": "2022-05-23T14:41:32.649Z"
   },
   {
    "duration": 348,
    "start_time": "2022-05-23T14:41:32.769Z"
   },
   {
    "duration": 18,
    "start_time": "2022-05-23T14:41:33.119Z"
   },
   {
    "duration": 43,
    "start_time": "2022-05-23T14:41:33.138Z"
   },
   {
    "duration": 31,
    "start_time": "2022-05-23T14:41:33.183Z"
   },
   {
    "duration": 19,
    "start_time": "2022-05-23T14:41:33.216Z"
   },
   {
    "duration": 47,
    "start_time": "2022-05-23T14:41:33.236Z"
   },
   {
    "duration": 21,
    "start_time": "2022-05-23T14:41:33.284Z"
   },
   {
    "duration": 289,
    "start_time": "2022-05-23T14:41:33.307Z"
   },
   {
    "duration": 14,
    "start_time": "2022-05-23T14:41:33.598Z"
   },
   {
    "duration": 7,
    "start_time": "2022-05-23T14:41:33.614Z"
   },
   {
    "duration": 50,
    "start_time": "2022-05-23T14:41:33.623Z"
   },
   {
    "duration": 299,
    "start_time": "2022-05-23T14:41:33.675Z"
   },
   {
    "duration": 38,
    "start_time": "2022-05-23T14:41:33.975Z"
   },
   {
    "duration": 15,
    "start_time": "2022-05-23T14:41:34.015Z"
   },
   {
    "duration": 35,
    "start_time": "2022-05-23T14:41:34.033Z"
   },
   {
    "duration": 22,
    "start_time": "2022-05-23T14:41:34.069Z"
   },
   {
    "duration": 13,
    "start_time": "2022-05-23T14:41:34.093Z"
   },
   {
    "duration": 453,
    "start_time": "2022-05-23T14:41:34.107Z"
   },
   {
    "duration": 419,
    "start_time": "2022-05-23T14:41:34.562Z"
   },
   {
    "duration": 208,
    "start_time": "2022-05-23T14:41:34.983Z"
   },
   {
    "duration": 94,
    "start_time": "2022-05-23T14:41:35.193Z"
   },
   {
    "duration": 4,
    "start_time": "2022-05-23T14:41:35.289Z"
   },
   {
    "duration": 1729,
    "start_time": "2022-05-23T14:41:35.295Z"
   },
   {
    "duration": 38,
    "start_time": "2022-05-23T14:41:37.026Z"
   },
   {
    "duration": 8,
    "start_time": "2022-05-23T14:41:37.066Z"
   },
   {
    "duration": 32,
    "start_time": "2022-05-23T14:41:37.075Z"
   },
   {
    "duration": 5,
    "start_time": "2022-05-23T14:41:37.109Z"
   },
   {
    "duration": 1732,
    "start_time": "2022-05-23T14:41:37.115Z"
   },
   {
    "duration": 27,
    "start_time": "2022-05-23T14:41:38.848Z"
   },
   {
    "duration": 12,
    "start_time": "2022-05-23T14:41:38.876Z"
   },
   {
    "duration": 26,
    "start_time": "2022-05-23T14:41:38.890Z"
   },
   {
    "duration": 50,
    "start_time": "2022-05-23T14:41:38.919Z"
   },
   {
    "duration": 4,
    "start_time": "2022-05-23T14:41:38.971Z"
   },
   {
    "duration": 1593,
    "start_time": "2022-05-23T14:41:38.977Z"
   },
   {
    "duration": 26,
    "start_time": "2022-05-23T14:41:40.573Z"
   },
   {
    "duration": 1561,
    "start_time": "2022-05-23T14:41:40.600Z"
   },
   {
    "duration": 31,
    "start_time": "2022-05-23T14:41:42.163Z"
   },
   {
    "duration": 13,
    "start_time": "2022-05-23T14:41:42.195Z"
   },
   {
    "duration": 49,
    "start_time": "2022-05-23T14:41:42.210Z"
   },
   {
    "duration": 5,
    "start_time": "2022-05-23T14:41:42.260Z"
   },
   {
    "duration": 1537,
    "start_time": "2022-05-23T14:41:42.267Z"
   },
   {
    "duration": 11,
    "start_time": "2022-05-23T14:41:43.806Z"
   },
   {
    "duration": 188,
    "start_time": "2022-05-23T14:41:43.819Z"
   },
   {
    "duration": 32,
    "start_time": "2022-05-23T14:41:44.009Z"
   },
   {
    "duration": 18,
    "start_time": "2022-05-23T14:41:44.058Z"
   },
   {
    "duration": 35,
    "start_time": "2022-05-23T14:41:44.078Z"
   },
   {
    "duration": 96,
    "start_time": "2022-05-23T14:41:44.115Z"
   },
   {
    "duration": 77,
    "start_time": "2022-05-23T14:41:44.213Z"
   },
   {
    "duration": 17,
    "start_time": "2022-05-23T14:41:44.292Z"
   },
   {
    "duration": 90,
    "start_time": "2022-05-23T14:41:44.311Z"
   },
   {
    "duration": 658,
    "start_time": "2022-05-23T14:41:44.402Z"
   },
   {
    "duration": 43,
    "start_time": "2022-05-23T14:41:45.062Z"
   },
   {
    "duration": 50,
    "start_time": "2022-05-23T14:41:45.106Z"
   },
   {
    "duration": 39,
    "start_time": "2022-05-23T14:41:45.158Z"
   },
   {
    "duration": 18,
    "start_time": "2022-05-23T14:41:45.199Z"
   },
   {
    "duration": 80,
    "start_time": "2022-05-23T14:41:45.219Z"
   },
   {
    "duration": 75,
    "start_time": "2022-05-23T14:41:45.302Z"
   },
   {
    "duration": 5,
    "start_time": "2022-05-23T14:41:45.379Z"
   },
   {
    "duration": 12,
    "start_time": "2022-05-23T14:41:45.385Z"
   },
   {
    "duration": 16,
    "start_time": "2022-05-23T14:41:45.398Z"
   },
   {
    "duration": 8,
    "start_time": "2022-05-23T14:41:45.415Z"
   },
   {
    "duration": 5,
    "start_time": "2022-05-23T14:41:45.425Z"
   },
   {
    "duration": 437543,
    "start_time": "2022-05-23T14:41:45.431Z"
   },
   {
    "duration": 3,
    "start_time": "2022-05-23T14:49:02.976Z"
   },
   {
    "duration": 50988,
    "start_time": "2022-05-23T14:49:02.981Z"
   },
   {
    "duration": 2,
    "start_time": "2022-05-23T14:49:53.972Z"
   },
   {
    "duration": 11,
    "start_time": "2022-05-23T14:49:53.976Z"
   },
   {
    "duration": 7755,
    "start_time": "2022-05-23T14:49:53.989Z"
   },
   {
    "duration": 6,
    "start_time": "2022-05-23T14:50:01.746Z"
   },
   {
    "duration": 8,
    "start_time": "2022-05-23T14:50:01.759Z"
   },
   {
    "duration": 7,
    "start_time": "2022-05-23T14:50:13.593Z"
   },
   {
    "duration": 3,
    "start_time": "2022-05-23T14:52:13.881Z"
   },
   {
    "duration": 753818,
    "start_time": "2022-05-23T14:52:15.832Z"
   },
   {
    "duration": 8,
    "start_time": "2022-05-23T15:04:49.652Z"
   },
   {
    "duration": 21,
    "start_time": "2022-05-23T15:04:49.661Z"
   },
   {
    "duration": 375091,
    "start_time": "2022-05-23T15:04:49.684Z"
   },
   {
    "duration": 50847,
    "start_time": "2022-05-23T15:11:04.776Z"
   },
   {
    "duration": 758801,
    "start_time": "2022-05-23T15:11:55.624Z"
   },
   {
    "duration": 7975,
    "start_time": "2022-05-23T15:24:34.427Z"
   },
   {
    "duration": 6,
    "start_time": "2022-05-23T15:24:42.404Z"
   },
   {
    "duration": 141,
    "start_time": "2022-05-23T15:24:42.412Z"
   },
   {
    "duration": 0,
    "start_time": "2022-05-23T15:24:42.555Z"
   },
   {
    "duration": 2596,
    "start_time": "2022-05-23T18:35:05.693Z"
   },
   {
    "duration": 1647,
    "start_time": "2022-05-23T18:35:08.292Z"
   },
   {
    "duration": 1124,
    "start_time": "2022-05-23T18:35:09.941Z"
   },
   {
    "duration": 20,
    "start_time": "2022-05-23T18:35:11.067Z"
   },
   {
    "duration": 125,
    "start_time": "2022-05-23T18:35:11.090Z"
   },
   {
    "duration": 4,
    "start_time": "2022-05-23T18:35:11.217Z"
   },
   {
    "duration": 6,
    "start_time": "2022-05-23T18:35:11.222Z"
   },
   {
    "duration": 474,
    "start_time": "2022-05-23T18:35:11.230Z"
   },
   {
    "duration": 6,
    "start_time": "2022-05-23T18:35:11.706Z"
   },
   {
    "duration": 225,
    "start_time": "2022-05-23T18:35:11.713Z"
   },
   {
    "duration": 113,
    "start_time": "2022-05-23T18:35:11.940Z"
   },
   {
    "duration": 348,
    "start_time": "2022-05-23T18:35:12.055Z"
   },
   {
    "duration": 23,
    "start_time": "2022-05-23T18:35:12.406Z"
   },
   {
    "duration": 46,
    "start_time": "2022-05-23T18:35:12.433Z"
   },
   {
    "duration": 32,
    "start_time": "2022-05-23T18:35:12.481Z"
   },
   {
    "duration": 38,
    "start_time": "2022-05-23T18:35:12.515Z"
   },
   {
    "duration": 39,
    "start_time": "2022-05-23T18:35:12.555Z"
   },
   {
    "duration": 35,
    "start_time": "2022-05-23T18:35:12.596Z"
   },
   {
    "duration": 304,
    "start_time": "2022-05-23T18:35:12.632Z"
   },
   {
    "duration": 21,
    "start_time": "2022-05-23T18:35:12.938Z"
   },
   {
    "duration": 9,
    "start_time": "2022-05-23T18:35:12.961Z"
   },
   {
    "duration": 30,
    "start_time": "2022-05-23T18:35:12.971Z"
   },
   {
    "duration": 283,
    "start_time": "2022-05-23T18:35:13.003Z"
   },
   {
    "duration": 27,
    "start_time": "2022-05-23T18:35:13.288Z"
   },
   {
    "duration": 12,
    "start_time": "2022-05-23T18:35:13.317Z"
   },
   {
    "duration": 37,
    "start_time": "2022-05-23T18:35:13.331Z"
   },
   {
    "duration": 54,
    "start_time": "2022-05-23T18:35:13.369Z"
   },
   {
    "duration": 12,
    "start_time": "2022-05-23T18:35:13.425Z"
   },
   {
    "duration": 519,
    "start_time": "2022-05-23T18:35:13.451Z"
   },
   {
    "duration": 463,
    "start_time": "2022-05-23T18:35:13.971Z"
   },
   {
    "duration": 282,
    "start_time": "2022-05-23T18:35:14.436Z"
   },
   {
    "duration": 82,
    "start_time": "2022-05-23T18:35:14.720Z"
   },
   {
    "duration": 4,
    "start_time": "2022-05-23T18:35:14.804Z"
   },
   {
    "duration": 1953,
    "start_time": "2022-05-23T18:35:14.810Z"
   },
   {
    "duration": 31,
    "start_time": "2022-05-23T18:35:16.765Z"
   },
   {
    "duration": 9,
    "start_time": "2022-05-23T18:35:16.797Z"
   },
   {
    "duration": 56,
    "start_time": "2022-05-23T18:35:16.807Z"
   },
   {
    "duration": 5,
    "start_time": "2022-05-23T18:35:16.865Z"
   },
   {
    "duration": 1538,
    "start_time": "2022-05-23T18:35:16.872Z"
   },
   {
    "duration": 24,
    "start_time": "2022-05-23T18:35:18.412Z"
   },
   {
    "duration": 15,
    "start_time": "2022-05-23T18:35:18.451Z"
   },
   {
    "duration": 13,
    "start_time": "2022-05-23T18:35:18.468Z"
   },
   {
    "duration": 34,
    "start_time": "2022-05-23T18:35:18.483Z"
   },
   {
    "duration": 4,
    "start_time": "2022-05-23T18:35:18.518Z"
   },
   {
    "duration": 1757,
    "start_time": "2022-05-23T18:35:18.524Z"
   },
   {
    "duration": 23,
    "start_time": "2022-05-23T18:35:20.282Z"
   },
   {
    "duration": 1609,
    "start_time": "2022-05-23T18:35:20.307Z"
   },
   {
    "duration": 37,
    "start_time": "2022-05-23T18:35:21.918Z"
   },
   {
    "duration": 18,
    "start_time": "2022-05-23T18:35:21.958Z"
   },
   {
    "duration": 32,
    "start_time": "2022-05-23T18:35:21.977Z"
   },
   {
    "duration": 4,
    "start_time": "2022-05-23T18:35:22.010Z"
   },
   {
    "duration": 1617,
    "start_time": "2022-05-23T18:35:22.016Z"
   },
   {
    "duration": 17,
    "start_time": "2022-05-23T18:35:23.635Z"
   },
   {
    "duration": 145,
    "start_time": "2022-05-23T18:35:23.654Z"
   },
   {
    "duration": 42,
    "start_time": "2022-05-23T18:35:23.801Z"
   },
   {
    "duration": 46,
    "start_time": "2022-05-23T18:35:23.845Z"
   },
   {
    "duration": 28,
    "start_time": "2022-05-23T18:35:23.893Z"
   },
   {
    "duration": 54,
    "start_time": "2022-05-23T18:35:23.923Z"
   },
   {
    "duration": 56,
    "start_time": "2022-05-23T18:35:23.979Z"
   },
   {
    "duration": 28,
    "start_time": "2022-05-23T18:35:24.037Z"
   },
   {
    "duration": 73,
    "start_time": "2022-05-23T18:35:24.067Z"
   },
   {
    "duration": 671,
    "start_time": "2022-05-23T18:35:24.142Z"
   },
   {
    "duration": 58,
    "start_time": "2022-05-23T18:35:24.815Z"
   },
   {
    "duration": 9,
    "start_time": "2022-05-23T18:35:24.874Z"
   },
   {
    "duration": 16,
    "start_time": "2022-05-23T18:35:24.884Z"
   },
   {
    "duration": 22,
    "start_time": "2022-05-23T18:35:24.902Z"
   },
   {
    "duration": 119,
    "start_time": "2022-05-23T18:35:24.925Z"
   },
   {
    "duration": 76,
    "start_time": "2022-05-23T18:35:25.046Z"
   },
   {
    "duration": 6,
    "start_time": "2022-05-23T18:35:25.123Z"
   },
   {
    "duration": 22,
    "start_time": "2022-05-23T18:35:25.130Z"
   },
   {
    "duration": 13,
    "start_time": "2022-05-23T18:35:25.154Z"
   },
   {
    "duration": 14,
    "start_time": "2022-05-23T18:35:25.169Z"
   },
   {
    "duration": 6,
    "start_time": "2022-05-23T18:35:25.185Z"
   },
   {
    "duration": 2060,
    "start_time": "2022-05-23T19:24:53.204Z"
   },
   {
    "duration": 1378,
    "start_time": "2022-05-23T19:24:55.267Z"
   },
   {
    "duration": 817,
    "start_time": "2022-05-23T19:24:56.647Z"
   },
   {
    "duration": 18,
    "start_time": "2022-05-23T19:24:57.466Z"
   },
   {
    "duration": 113,
    "start_time": "2022-05-23T19:24:57.486Z"
   },
   {
    "duration": 4,
    "start_time": "2022-05-23T19:24:57.601Z"
   },
   {
    "duration": 6,
    "start_time": "2022-05-23T19:24:57.606Z"
   },
   {
    "duration": 448,
    "start_time": "2022-05-23T19:24:57.614Z"
   },
   {
    "duration": 5,
    "start_time": "2022-05-23T19:24:58.064Z"
   },
   {
    "duration": 240,
    "start_time": "2022-05-23T19:24:58.071Z"
   },
   {
    "duration": 108,
    "start_time": "2022-05-23T19:24:58.313Z"
   },
   {
    "duration": 319,
    "start_time": "2022-05-23T19:24:58.422Z"
   },
   {
    "duration": 25,
    "start_time": "2022-05-23T19:24:58.742Z"
   },
   {
    "duration": 26,
    "start_time": "2022-05-23T19:24:58.769Z"
   },
   {
    "duration": 28,
    "start_time": "2022-05-23T19:24:58.796Z"
   },
   {
    "duration": 42,
    "start_time": "2022-05-23T19:24:58.826Z"
   },
   {
    "duration": 27,
    "start_time": "2022-05-23T19:24:58.870Z"
   },
   {
    "duration": 20,
    "start_time": "2022-05-23T19:24:58.898Z"
   },
   {
    "duration": 286,
    "start_time": "2022-05-23T19:24:58.920Z"
   },
   {
    "duration": 14,
    "start_time": "2022-05-23T19:24:59.208Z"
   },
   {
    "duration": 7,
    "start_time": "2022-05-23T19:24:59.223Z"
   },
   {
    "duration": 57,
    "start_time": "2022-05-23T19:24:59.232Z"
   },
   {
    "duration": 253,
    "start_time": "2022-05-23T19:24:59.291Z"
   },
   {
    "duration": 41,
    "start_time": "2022-05-23T19:24:59.545Z"
   },
   {
    "duration": 11,
    "start_time": "2022-05-23T19:24:59.587Z"
   },
   {
    "duration": 17,
    "start_time": "2022-05-23T19:24:59.600Z"
   },
   {
    "duration": 77,
    "start_time": "2022-05-23T19:24:59.619Z"
   },
   {
    "duration": 13,
    "start_time": "2022-05-23T19:24:59.700Z"
   },
   {
    "duration": 521,
    "start_time": "2022-05-23T19:24:59.714Z"
   },
   {
    "duration": 460,
    "start_time": "2022-05-23T19:25:00.237Z"
   },
   {
    "duration": 272,
    "start_time": "2022-05-23T19:25:00.698Z"
   },
   {
    "duration": 81,
    "start_time": "2022-05-23T19:25:00.971Z"
   },
   {
    "duration": 8,
    "start_time": "2022-05-23T19:25:01.056Z"
   },
   {
    "duration": 1906,
    "start_time": "2022-05-23T19:25:01.066Z"
   },
   {
    "duration": 32,
    "start_time": "2022-05-23T19:25:02.974Z"
   },
   {
    "duration": 9,
    "start_time": "2022-05-23T19:25:03.008Z"
   },
   {
    "duration": 58,
    "start_time": "2022-05-23T19:25:03.019Z"
   },
   {
    "duration": 5,
    "start_time": "2022-05-23T19:25:03.078Z"
   },
   {
    "duration": 1530,
    "start_time": "2022-05-23T19:25:03.085Z"
   },
   {
    "duration": 23,
    "start_time": "2022-05-23T19:25:04.617Z"
   },
   {
    "duration": 21,
    "start_time": "2022-05-23T19:25:04.657Z"
   },
   {
    "duration": 12,
    "start_time": "2022-05-23T19:25:04.680Z"
   },
   {
    "duration": 32,
    "start_time": "2022-05-23T19:25:04.693Z"
   },
   {
    "duration": 3,
    "start_time": "2022-05-23T19:25:04.727Z"
   },
   {
    "duration": 1776,
    "start_time": "2022-05-23T19:25:04.752Z"
   },
   {
    "duration": 36,
    "start_time": "2022-05-23T19:25:06.530Z"
   },
   {
    "duration": 1624,
    "start_time": "2022-05-23T19:25:06.572Z"
   },
   {
    "duration": 30,
    "start_time": "2022-05-23T19:25:08.198Z"
   },
   {
    "duration": 38,
    "start_time": "2022-05-23T19:25:08.229Z"
   },
   {
    "duration": 34,
    "start_time": "2022-05-23T19:25:08.268Z"
   },
   {
    "duration": 4,
    "start_time": "2022-05-23T19:25:08.303Z"
   },
   {
    "duration": 1503,
    "start_time": "2022-05-23T19:25:08.309Z"
   },
   {
    "duration": 11,
    "start_time": "2022-05-23T19:25:09.814Z"
   },
   {
    "duration": 153,
    "start_time": "2022-05-23T19:25:09.827Z"
   },
   {
    "duration": 25,
    "start_time": "2022-05-23T19:25:09.982Z"
   },
   {
    "duration": 15,
    "start_time": "2022-05-23T19:25:10.009Z"
   },
   {
    "duration": 47,
    "start_time": "2022-05-23T19:25:10.026Z"
   },
   {
    "duration": 52,
    "start_time": "2022-05-23T19:25:10.075Z"
   },
   {
    "duration": 81,
    "start_time": "2022-05-23T19:25:10.129Z"
   },
   {
    "duration": 17,
    "start_time": "2022-05-23T19:25:10.212Z"
   },
   {
    "duration": 81,
    "start_time": "2022-05-23T19:25:10.231Z"
   },
   {
    "duration": 672,
    "start_time": "2022-05-23T19:25:10.314Z"
   },
   {
    "duration": 40,
    "start_time": "2022-05-23T19:25:10.987Z"
   },
   {
    "duration": 8,
    "start_time": "2022-05-23T19:25:11.029Z"
   },
   {
    "duration": 41,
    "start_time": "2022-05-23T19:25:11.039Z"
   },
   {
    "duration": 23,
    "start_time": "2022-05-23T19:25:11.082Z"
   },
   {
    "duration": 104,
    "start_time": "2022-05-23T19:25:11.106Z"
   },
   {
    "duration": 70,
    "start_time": "2022-05-23T19:25:11.212Z"
   },
   {
    "duration": 5,
    "start_time": "2022-05-23T19:25:11.284Z"
   },
   {
    "duration": 9,
    "start_time": "2022-05-23T19:25:11.290Z"
   },
   {
    "duration": 16,
    "start_time": "2022-05-23T19:25:11.301Z"
   },
   {
    "duration": 6,
    "start_time": "2022-05-23T19:25:11.318Z"
   },
   {
    "duration": 8,
    "start_time": "2022-05-23T19:25:11.325Z"
   },
   {
    "duration": 1971,
    "start_time": "2022-05-23T21:47:57.767Z"
   },
   {
    "duration": 1432,
    "start_time": "2022-05-23T21:47:59.740Z"
   },
   {
    "duration": 776,
    "start_time": "2022-05-23T21:48:01.173Z"
   },
   {
    "duration": 22,
    "start_time": "2022-05-23T21:48:01.951Z"
   },
   {
    "duration": 115,
    "start_time": "2022-05-23T21:48:01.974Z"
   },
   {
    "duration": 4,
    "start_time": "2022-05-23T21:48:02.091Z"
   },
   {
    "duration": 13,
    "start_time": "2022-05-23T21:48:02.096Z"
   },
   {
    "duration": 452,
    "start_time": "2022-05-23T21:48:02.110Z"
   },
   {
    "duration": 8,
    "start_time": "2022-05-23T21:48:02.565Z"
   },
   {
    "duration": 221,
    "start_time": "2022-05-23T21:48:02.577Z"
   },
   {
    "duration": 93,
    "start_time": "2022-05-23T21:48:02.799Z"
   },
   {
    "duration": 329,
    "start_time": "2022-05-23T21:48:02.894Z"
   },
   {
    "duration": 27,
    "start_time": "2022-05-23T21:48:03.225Z"
   },
   {
    "duration": 27,
    "start_time": "2022-05-23T21:48:03.253Z"
   },
   {
    "duration": 27,
    "start_time": "2022-05-23T21:48:03.281Z"
   },
   {
    "duration": 20,
    "start_time": "2022-05-23T21:48:03.309Z"
   },
   {
    "duration": 43,
    "start_time": "2022-05-23T21:48:03.331Z"
   },
   {
    "duration": 20,
    "start_time": "2022-05-23T21:48:03.375Z"
   },
   {
    "duration": 262,
    "start_time": "2022-05-23T21:48:03.396Z"
   },
   {
    "duration": 14,
    "start_time": "2022-05-23T21:48:03.659Z"
   },
   {
    "duration": 7,
    "start_time": "2022-05-23T21:48:03.674Z"
   },
   {
    "duration": 27,
    "start_time": "2022-05-23T21:48:03.682Z"
   },
   {
    "duration": 254,
    "start_time": "2022-05-23T21:48:03.711Z"
   },
   {
    "duration": 25,
    "start_time": "2022-05-23T21:48:03.966Z"
   },
   {
    "duration": 21,
    "start_time": "2022-05-23T21:48:03.992Z"
   },
   {
    "duration": 25,
    "start_time": "2022-05-23T21:48:04.014Z"
   },
   {
    "duration": 53,
    "start_time": "2022-05-23T21:48:04.040Z"
   },
   {
    "duration": 12,
    "start_time": "2022-05-23T21:48:04.097Z"
   },
   {
    "duration": 476,
    "start_time": "2022-05-23T21:48:04.111Z"
   },
   {
    "duration": 453,
    "start_time": "2022-05-23T21:48:04.589Z"
   },
   {
    "duration": 292,
    "start_time": "2022-05-23T21:48:05.044Z"
   },
   {
    "duration": 82,
    "start_time": "2022-05-23T21:48:05.338Z"
   },
   {
    "duration": 4,
    "start_time": "2022-05-23T21:48:05.422Z"
   },
   {
    "duration": 1806,
    "start_time": "2022-05-23T21:48:05.428Z"
   },
   {
    "duration": 40,
    "start_time": "2022-05-23T21:48:07.236Z"
   },
   {
    "duration": 9,
    "start_time": "2022-05-23T21:48:07.279Z"
   },
   {
    "duration": 33,
    "start_time": "2022-05-23T21:48:07.290Z"
   },
   {
    "duration": 4,
    "start_time": "2022-05-23T21:48:07.325Z"
   },
   {
    "duration": 1451,
    "start_time": "2022-05-23T21:48:07.352Z"
   },
   {
    "duration": 24,
    "start_time": "2022-05-23T21:48:08.804Z"
   },
   {
    "duration": 29,
    "start_time": "2022-05-23T21:48:08.830Z"
   },
   {
    "duration": 11,
    "start_time": "2022-05-23T21:48:08.860Z"
   },
   {
    "duration": 40,
    "start_time": "2022-05-23T21:48:08.872Z"
   },
   {
    "duration": 4,
    "start_time": "2022-05-23T21:48:08.913Z"
   },
   {
    "duration": 1586,
    "start_time": "2022-05-23T21:48:08.918Z"
   },
   {
    "duration": 23,
    "start_time": "2022-05-23T21:48:10.506Z"
   },
   {
    "duration": 1593,
    "start_time": "2022-05-23T21:48:10.531Z"
   },
   {
    "duration": 43,
    "start_time": "2022-05-23T21:48:12.127Z"
   },
   {
    "duration": 13,
    "start_time": "2022-05-23T21:48:12.171Z"
   },
   {
    "duration": 34,
    "start_time": "2022-05-23T21:48:12.186Z"
   },
   {
    "duration": 4,
    "start_time": "2022-05-23T21:48:12.222Z"
   },
   {
    "duration": 1428,
    "start_time": "2022-05-23T21:48:12.252Z"
   },
   {
    "duration": 10,
    "start_time": "2022-05-23T21:48:13.682Z"
   },
   {
    "duration": 123,
    "start_time": "2022-05-23T21:48:13.693Z"
   },
   {
    "duration": 22,
    "start_time": "2022-05-23T21:48:13.818Z"
   },
   {
    "duration": 13,
    "start_time": "2022-05-23T21:48:13.852Z"
   },
   {
    "duration": 23,
    "start_time": "2022-05-23T21:48:13.867Z"
   },
   {
    "duration": 61,
    "start_time": "2022-05-23T21:48:13.891Z"
   },
   {
    "duration": 53,
    "start_time": "2022-05-23T21:48:13.954Z"
   },
   {
    "duration": 16,
    "start_time": "2022-05-23T21:48:14.009Z"
   },
   {
    "duration": 78,
    "start_time": "2022-05-23T21:48:14.026Z"
   },
   {
    "duration": 574,
    "start_time": "2022-05-23T21:48:14.105Z"
   },
   {
    "duration": 41,
    "start_time": "2022-05-23T21:48:14.681Z"
   },
   {
    "duration": 8,
    "start_time": "2022-05-23T21:48:14.724Z"
   },
   {
    "duration": 30,
    "start_time": "2022-05-23T21:48:14.734Z"
   },
   {
    "duration": 22,
    "start_time": "2022-05-23T21:48:14.766Z"
   },
   {
    "duration": 111,
    "start_time": "2022-05-23T21:48:14.790Z"
   },
   {
    "duration": 68,
    "start_time": "2022-05-23T21:48:14.902Z"
   },
   {
    "duration": 4,
    "start_time": "2022-05-23T21:48:14.972Z"
   },
   {
    "duration": 8,
    "start_time": "2022-05-23T21:48:14.977Z"
   },
   {
    "duration": 5,
    "start_time": "2022-05-23T21:48:14.986Z"
   },
   {
    "duration": 6,
    "start_time": "2022-05-23T21:48:14.992Z"
   },
   {
    "duration": 6,
    "start_time": "2022-05-23T21:48:14.999Z"
   },
   {
    "duration": 169146,
    "start_time": "2022-05-23T21:48:15.006Z"
   },
   {
    "duration": 3,
    "start_time": "2022-05-23T21:51:04.154Z"
   },
   {
    "duration": 49916,
    "start_time": "2022-05-23T21:51:04.159Z"
   },
   {
    "duration": 2,
    "start_time": "2022-05-23T21:51:54.077Z"
   },
   {
    "duration": 734061,
    "start_time": "2022-05-23T21:51:54.081Z"
   },
   {
    "duration": 7581,
    "start_time": "2022-05-23T22:04:08.143Z"
   },
   {
    "duration": 6,
    "start_time": "2022-05-23T22:04:15.726Z"
   },
   {
    "duration": 4,
    "start_time": "2022-05-23T22:04:15.734Z"
   },
   {
    "duration": 7,
    "start_time": "2022-05-23T22:04:15.756Z"
   },
   {
    "duration": 195695,
    "start_time": "2022-05-23T22:04:15.764Z"
   },
   {
    "duration": 50823,
    "start_time": "2022-05-23T22:07:31.461Z"
   },
   {
    "duration": 739411,
    "start_time": "2022-05-23T22:08:22.286Z"
   },
   {
    "duration": 7286,
    "start_time": "2022-05-23T22:20:41.699Z"
   },
   {
    "duration": 7,
    "start_time": "2022-05-23T22:20:48.986Z"
   },
   {
    "duration": 8,
    "start_time": "2022-05-23T22:20:48.995Z"
   },
   {
    "duration": 12,
    "start_time": "2022-05-23T22:20:49.004Z"
   },
   {
    "duration": 3325,
    "start_time": "2022-05-24T09:55:46.266Z"
   },
   {
    "duration": 2061,
    "start_time": "2022-05-24T09:55:49.593Z"
   },
   {
    "duration": 2675,
    "start_time": "2022-05-24T09:55:51.656Z"
   },
   {
    "duration": 21,
    "start_time": "2022-05-24T09:55:54.332Z"
   },
   {
    "duration": 136,
    "start_time": "2022-05-24T09:55:54.355Z"
   },
   {
    "duration": 4,
    "start_time": "2022-05-24T09:55:54.493Z"
   },
   {
    "duration": 4,
    "start_time": "2022-05-24T09:55:54.501Z"
   },
   {
    "duration": 449,
    "start_time": "2022-05-24T09:55:54.506Z"
   },
   {
    "duration": 5,
    "start_time": "2022-05-24T09:55:54.957Z"
   },
   {
    "duration": 270,
    "start_time": "2022-05-24T09:55:54.964Z"
   },
   {
    "duration": 133,
    "start_time": "2022-05-24T09:55:55.236Z"
   },
   {
    "duration": 357,
    "start_time": "2022-05-24T09:55:55.371Z"
   },
   {
    "duration": 19,
    "start_time": "2022-05-24T09:55:55.729Z"
   },
   {
    "duration": 36,
    "start_time": "2022-05-24T09:55:55.751Z"
   },
   {
    "duration": 36,
    "start_time": "2022-05-24T09:55:55.788Z"
   },
   {
    "duration": 34,
    "start_time": "2022-05-24T09:55:55.825Z"
   },
   {
    "duration": 42,
    "start_time": "2022-05-24T09:55:55.861Z"
   },
   {
    "duration": 314,
    "start_time": "2022-05-24T09:55:55.904Z"
   },
   {
    "duration": 21,
    "start_time": "2022-05-24T09:55:56.220Z"
   },
   {
    "duration": 10,
    "start_time": "2022-05-24T09:55:56.242Z"
   },
   {
    "duration": 50,
    "start_time": "2022-05-24T09:55:56.253Z"
   },
   {
    "duration": 330,
    "start_time": "2022-05-24T09:55:56.307Z"
   },
   {
    "duration": 33,
    "start_time": "2022-05-24T09:55:56.639Z"
   },
   {
    "duration": 12,
    "start_time": "2022-05-24T09:55:56.673Z"
   },
   {
    "duration": 33,
    "start_time": "2022-05-24T09:55:56.687Z"
   },
   {
    "duration": 55,
    "start_time": "2022-05-24T09:55:56.722Z"
   },
   {
    "duration": 25,
    "start_time": "2022-05-24T09:55:56.779Z"
   },
   {
    "duration": 517,
    "start_time": "2022-05-24T09:55:56.806Z"
   },
   {
    "duration": 470,
    "start_time": "2022-05-24T09:55:57.325Z"
   },
   {
    "duration": 288,
    "start_time": "2022-05-24T09:55:57.797Z"
   },
   {
    "duration": 93,
    "start_time": "2022-05-24T09:55:58.086Z"
   },
   {
    "duration": 4,
    "start_time": "2022-05-24T09:55:58.181Z"
   },
   {
    "duration": 2027,
    "start_time": "2022-05-24T09:55:58.187Z"
   },
   {
    "duration": 33,
    "start_time": "2022-05-24T09:56:00.216Z"
   },
   {
    "duration": 9,
    "start_time": "2022-05-24T09:56:00.252Z"
   },
   {
    "duration": 61,
    "start_time": "2022-05-24T09:56:00.263Z"
   },
   {
    "duration": 5,
    "start_time": "2022-05-24T09:56:00.326Z"
   },
   {
    "duration": 1749,
    "start_time": "2022-05-24T09:56:00.333Z"
   },
   {
    "duration": 31,
    "start_time": "2022-05-24T09:56:02.084Z"
   },
   {
    "duration": 12,
    "start_time": "2022-05-24T09:56:02.117Z"
   },
   {
    "duration": 27,
    "start_time": "2022-05-24T09:56:02.133Z"
   },
   {
    "duration": 64,
    "start_time": "2022-05-24T09:56:02.162Z"
   },
   {
    "duration": 4,
    "start_time": "2022-05-24T09:56:02.228Z"
   },
   {
    "duration": 1759,
    "start_time": "2022-05-24T09:56:02.234Z"
   },
   {
    "duration": 27,
    "start_time": "2022-05-24T09:56:03.995Z"
   },
   {
    "duration": 1757,
    "start_time": "2022-05-24T09:56:04.024Z"
   },
   {
    "duration": 43,
    "start_time": "2022-05-24T09:56:05.782Z"
   },
   {
    "duration": 13,
    "start_time": "2022-05-24T09:56:05.827Z"
   },
   {
    "duration": 37,
    "start_time": "2022-05-24T09:56:05.842Z"
   },
   {
    "duration": 4,
    "start_time": "2022-05-24T09:56:05.881Z"
   },
   {
    "duration": 1596,
    "start_time": "2022-05-24T09:56:05.903Z"
   },
   {
    "duration": 9,
    "start_time": "2022-05-24T09:56:07.502Z"
   },
   {
    "duration": 157,
    "start_time": "2022-05-24T09:56:07.513Z"
   },
   {
    "duration": 36,
    "start_time": "2022-05-24T09:56:07.672Z"
   },
   {
    "duration": 19,
    "start_time": "2022-05-24T09:56:07.710Z"
   },
   {
    "duration": 35,
    "start_time": "2022-05-24T09:56:07.731Z"
   },
   {
    "duration": 87,
    "start_time": "2022-05-24T09:56:07.768Z"
   },
   {
    "duration": 82,
    "start_time": "2022-05-24T09:56:07.857Z"
   },
   {
    "duration": 16,
    "start_time": "2022-05-24T09:56:07.941Z"
   },
   {
    "duration": 91,
    "start_time": "2022-05-24T09:56:07.959Z"
   },
   {
    "duration": 738,
    "start_time": "2022-05-24T09:56:08.052Z"
   },
   {
    "duration": 50,
    "start_time": "2022-05-24T09:56:08.792Z"
   },
   {
    "duration": 9,
    "start_time": "2022-05-24T09:56:08.844Z"
   },
   {
    "duration": 17,
    "start_time": "2022-05-24T09:56:08.855Z"
   },
   {
    "duration": 46,
    "start_time": "2022-05-24T09:56:08.874Z"
   },
   {
    "duration": 115,
    "start_time": "2022-05-24T09:56:08.924Z"
   },
   {
    "duration": 143,
    "start_time": "2022-05-24T09:56:09.041Z"
   },
   {
    "duration": 12,
    "start_time": "2022-05-24T09:56:49.830Z"
   },
   {
    "duration": 68,
    "start_time": "2022-05-24T10:07:59.029Z"
   },
   {
    "duration": 6,
    "start_time": "2022-05-24T10:07:59.660Z"
   },
   {
    "duration": 5,
    "start_time": "2022-05-24T10:08:00.481Z"
   },
   {
    "duration": 4,
    "start_time": "2022-05-24T10:08:03.789Z"
   },
   {
    "duration": 4,
    "start_time": "2022-05-24T10:08:06.029Z"
   },
   {
    "duration": 3,
    "start_time": "2022-05-24T10:08:16.310Z"
   },
   {
    "duration": 3,
    "start_time": "2022-05-24T10:09:21.030Z"
   },
   {
    "duration": 58564,
    "start_time": "2022-05-24T10:09:59.556Z"
   },
   {
    "duration": 2423,
    "start_time": "2022-05-24T10:10:58.122Z"
   },
   {
    "duration": 5,
    "start_time": "2022-05-24T10:11:00.547Z"
   },
   {
    "duration": 957,
    "start_time": "2022-05-24T10:11:00.554Z"
   },
   {
    "duration": 17,
    "start_time": "2022-05-24T10:11:01.512Z"
   },
   {
    "duration": 144,
    "start_time": "2022-05-24T10:11:01.531Z"
   },
   {
    "duration": 5,
    "start_time": "2022-05-24T10:11:01.677Z"
   },
   {
    "duration": 16,
    "start_time": "2022-05-24T10:11:01.683Z"
   },
   {
    "duration": 473,
    "start_time": "2022-05-24T10:11:01.702Z"
   },
   {
    "duration": 5,
    "start_time": "2022-05-24T10:11:02.177Z"
   },
   {
    "duration": 278,
    "start_time": "2022-05-24T10:11:02.183Z"
   },
   {
    "duration": 128,
    "start_time": "2022-05-24T10:11:02.463Z"
   },
   {
    "duration": 338,
    "start_time": "2022-05-24T10:11:02.593Z"
   },
   {
    "duration": 18,
    "start_time": "2022-05-24T10:11:02.933Z"
   },
   {
    "duration": 51,
    "start_time": "2022-05-24T10:11:02.953Z"
   },
   {
    "duration": 19,
    "start_time": "2022-05-24T10:11:03.006Z"
   },
   {
    "duration": 33,
    "start_time": "2022-05-24T10:11:03.027Z"
   },
   {
    "duration": 41,
    "start_time": "2022-05-24T10:11:03.062Z"
   },
   {
    "duration": 346,
    "start_time": "2022-05-24T10:11:03.105Z"
   },
   {
    "duration": 17,
    "start_time": "2022-05-24T10:11:03.453Z"
   },
   {
    "duration": 30,
    "start_time": "2022-05-24T10:11:03.472Z"
   },
   {
    "duration": 38,
    "start_time": "2022-05-24T10:11:03.504Z"
   },
   {
    "duration": 334,
    "start_time": "2022-05-24T10:11:03.543Z"
   },
   {
    "duration": 36,
    "start_time": "2022-05-24T10:11:03.879Z"
   },
   {
    "duration": 11,
    "start_time": "2022-05-24T10:11:03.917Z"
   },
   {
    "duration": 23,
    "start_time": "2022-05-24T10:11:03.930Z"
   },
   {
    "duration": 23,
    "start_time": "2022-05-24T10:11:03.955Z"
   },
   {
    "duration": 14,
    "start_time": "2022-05-24T10:11:04.004Z"
   },
   {
    "duration": 519,
    "start_time": "2022-05-24T10:11:04.020Z"
   },
   {
    "duration": 469,
    "start_time": "2022-05-24T10:11:04.541Z"
   },
   {
    "duration": 222,
    "start_time": "2022-05-24T10:11:05.012Z"
   },
   {
    "duration": 99,
    "start_time": "2022-05-24T10:11:05.235Z"
   },
   {
    "duration": 4,
    "start_time": "2022-05-24T10:11:05.336Z"
   },
   {
    "duration": 2007,
    "start_time": "2022-05-24T10:11:05.342Z"
   },
   {
    "duration": 33,
    "start_time": "2022-05-24T10:11:07.352Z"
   },
   {
    "duration": 23,
    "start_time": "2022-05-24T10:11:07.387Z"
   },
   {
    "duration": 34,
    "start_time": "2022-05-24T10:11:07.413Z"
   },
   {
    "duration": 5,
    "start_time": "2022-05-24T10:11:07.449Z"
   },
   {
    "duration": 1878,
    "start_time": "2022-05-24T10:11:07.456Z"
   },
   {
    "duration": 29,
    "start_time": "2022-05-24T10:11:09.336Z"
   },
   {
    "duration": 36,
    "start_time": "2022-05-24T10:11:09.367Z"
   },
   {
    "duration": 13,
    "start_time": "2022-05-24T10:11:09.406Z"
   },
   {
    "duration": 34,
    "start_time": "2022-05-24T10:11:09.421Z"
   },
   {
    "duration": 5,
    "start_time": "2022-05-24T10:11:09.458Z"
   },
   {
    "duration": 1954,
    "start_time": "2022-05-24T10:11:09.465Z"
   },
   {
    "duration": 31,
    "start_time": "2022-05-24T10:11:11.421Z"
   },
   {
    "duration": 1820,
    "start_time": "2022-05-24T10:11:11.454Z"
   },
   {
    "duration": 43,
    "start_time": "2022-05-24T10:11:13.276Z"
   },
   {
    "duration": 14,
    "start_time": "2022-05-24T10:11:13.321Z"
   },
   {
    "duration": 27,
    "start_time": "2022-05-24T10:11:13.337Z"
   },
   {
    "duration": 4,
    "start_time": "2022-05-24T10:11:13.366Z"
   },
   {
    "duration": 1621,
    "start_time": "2022-05-24T10:11:13.372Z"
   },
   {
    "duration": 15,
    "start_time": "2022-05-24T10:11:14.994Z"
   },
   {
    "duration": 162,
    "start_time": "2022-05-24T10:11:15.011Z"
   },
   {
    "duration": 39,
    "start_time": "2022-05-24T10:11:15.175Z"
   },
   {
    "duration": 22,
    "start_time": "2022-05-24T10:11:15.216Z"
   },
   {
    "duration": 31,
    "start_time": "2022-05-24T10:11:15.240Z"
   },
   {
    "duration": 81,
    "start_time": "2022-05-24T10:11:15.272Z"
   },
   {
    "duration": 83,
    "start_time": "2022-05-24T10:11:15.355Z"
   },
   {
    "duration": 16,
    "start_time": "2022-05-24T10:11:15.439Z"
   },
   {
    "duration": 85,
    "start_time": "2022-05-24T10:11:15.457Z"
   },
   {
    "duration": 671,
    "start_time": "2022-05-24T10:11:15.544Z"
   },
   {
    "duration": 48,
    "start_time": "2022-05-24T10:11:16.216Z"
   },
   {
    "duration": 10,
    "start_time": "2022-05-24T10:11:16.266Z"
   },
   {
    "duration": 33,
    "start_time": "2022-05-24T10:11:16.278Z"
   },
   {
    "duration": 20,
    "start_time": "2022-05-24T10:11:16.312Z"
   },
   {
    "duration": 57,
    "start_time": "2022-05-24T10:11:34.883Z"
   },
   {
    "duration": 6,
    "start_time": "2022-05-24T10:11:42.058Z"
   },
   {
    "duration": 5,
    "start_time": "2022-05-24T10:11:44.700Z"
   },
   {
    "duration": 4,
    "start_time": "2022-05-24T10:11:49.809Z"
   },
   {
    "duration": 4,
    "start_time": "2022-05-24T10:11:58.183Z"
   },
   {
    "duration": 3,
    "start_time": "2022-05-24T10:12:00.041Z"
   },
   {
    "duration": 45687,
    "start_time": "2022-05-24T10:12:01.289Z"
   },
   {
    "duration": 4,
    "start_time": "2022-05-24T10:21:07.751Z"
   },
   {
    "duration": 3,
    "start_time": "2022-05-24T10:21:09.460Z"
   },
   {
    "duration": 92125,
    "start_time": "2022-05-24T10:21:10.205Z"
   },
   {
    "duration": 4,
    "start_time": "2022-05-24T10:24:16.408Z"
   },
   {
    "duration": 3,
    "start_time": "2022-05-24T10:24:18.226Z"
   },
   {
    "duration": 64472,
    "start_time": "2022-05-24T10:24:19.640Z"
   },
   {
    "duration": 2765,
    "start_time": "2022-05-24T21:47:37.381Z"
   },
   {
    "duration": 2124,
    "start_time": "2022-05-24T21:47:42.110Z"
   },
   {
    "duration": 1123,
    "start_time": "2022-05-24T21:47:46.707Z"
   },
   {
    "duration": 20,
    "start_time": "2022-05-24T21:47:48.788Z"
   },
   {
    "duration": 143,
    "start_time": "2022-05-24T21:47:49.833Z"
   },
   {
    "duration": 5,
    "start_time": "2022-05-24T21:47:50.000Z"
   },
   {
    "duration": 4,
    "start_time": "2022-05-24T21:47:50.204Z"
   },
   {
    "duration": 467,
    "start_time": "2022-05-24T21:47:50.468Z"
   },
   {
    "duration": 4,
    "start_time": "2022-05-24T21:47:50.937Z"
   },
   {
    "duration": 271,
    "start_time": "2022-05-24T21:47:50.943Z"
   },
   {
    "duration": 129,
    "start_time": "2022-05-24T21:47:51.216Z"
   },
   {
    "duration": 328,
    "start_time": "2022-05-24T21:47:51.382Z"
   },
   {
    "duration": 18,
    "start_time": "2022-05-24T21:47:51.711Z"
   },
   {
    "duration": 47,
    "start_time": "2022-05-24T21:47:51.731Z"
   },
   {
    "duration": 16,
    "start_time": "2022-05-24T21:47:51.876Z"
   },
   {
    "duration": 43,
    "start_time": "2022-05-24T21:47:52.036Z"
   },
   {
    "duration": 21,
    "start_time": "2022-05-24T21:47:52.197Z"
   },
   {
    "duration": 332,
    "start_time": "2022-05-24T21:47:52.356Z"
   },
   {
    "duration": 14,
    "start_time": "2022-05-24T21:47:52.690Z"
   },
   {
    "duration": 7,
    "start_time": "2022-05-24T21:47:52.705Z"
   },
   {
    "duration": 42,
    "start_time": "2022-05-24T21:47:52.853Z"
   },
   {
    "duration": 320,
    "start_time": "2022-05-24T21:47:53.044Z"
   },
   {
    "duration": 30,
    "start_time": "2022-05-24T21:47:53.374Z"
   },
   {
    "duration": 9,
    "start_time": "2022-05-24T21:47:53.406Z"
   },
   {
    "duration": 22,
    "start_time": "2022-05-24T21:47:53.547Z"
   },
   {
    "duration": 51,
    "start_time": "2022-05-24T21:47:54.798Z"
   },
   {
    "duration": 13,
    "start_time": "2022-05-24T21:47:55.134Z"
   },
   {
    "duration": 511,
    "start_time": "2022-05-24T21:47:55.291Z"
   },
   {
    "duration": 482,
    "start_time": "2022-05-24T21:47:55.804Z"
   },
   {
    "duration": 287,
    "start_time": "2022-05-24T21:47:56.288Z"
   },
   {
    "duration": 86,
    "start_time": "2022-05-24T21:47:56.576Z"
   },
   {
    "duration": 7,
    "start_time": "2022-05-24T21:47:56.668Z"
   },
   {
    "duration": 2042,
    "start_time": "2022-05-24T21:47:56.972Z"
   },
   {
    "duration": 49,
    "start_time": "2022-05-24T21:47:59.016Z"
   },
   {
    "duration": 14,
    "start_time": "2022-05-24T21:47:59.067Z"
   },
   {
    "duration": 35,
    "start_time": "2022-05-24T21:47:59.083Z"
   },
   {
    "duration": 4,
    "start_time": "2022-05-24T21:47:59.120Z"
   },
   {
    "duration": 1716,
    "start_time": "2022-05-24T21:47:59.125Z"
   },
   {
    "duration": 39,
    "start_time": "2022-05-24T21:48:00.842Z"
   },
   {
    "duration": 13,
    "start_time": "2022-05-24T21:48:00.882Z"
   },
   {
    "duration": 14,
    "start_time": "2022-05-24T21:48:00.897Z"
   },
   {
    "duration": 60,
    "start_time": "2022-05-24T21:48:00.913Z"
   },
   {
    "duration": 5,
    "start_time": "2022-05-24T21:48:00.974Z"
   },
   {
    "duration": 1951,
    "start_time": "2022-05-24T21:48:00.980Z"
   },
   {
    "duration": 38,
    "start_time": "2022-05-24T21:48:02.933Z"
   },
   {
    "duration": 1748,
    "start_time": "2022-05-24T21:48:02.977Z"
   },
   {
    "duration": 52,
    "start_time": "2022-05-24T21:48:04.727Z"
   },
   {
    "duration": 13,
    "start_time": "2022-05-24T21:48:04.781Z"
   },
   {
    "duration": 36,
    "start_time": "2022-05-24T21:48:04.796Z"
   },
   {
    "duration": 5,
    "start_time": "2022-05-24T21:48:04.834Z"
   },
   {
    "duration": 1597,
    "start_time": "2022-05-24T21:48:04.840Z"
   },
   {
    "duration": 20,
    "start_time": "2022-05-24T21:48:06.439Z"
   },
   {
    "duration": 164,
    "start_time": "2022-05-24T21:48:06.465Z"
   },
   {
    "duration": 34,
    "start_time": "2022-05-24T21:48:06.631Z"
   },
   {
    "duration": 27,
    "start_time": "2022-05-24T21:48:06.667Z"
   },
   {
    "duration": 27,
    "start_time": "2022-05-24T21:48:06.891Z"
   },
   {
    "duration": 73,
    "start_time": "2022-05-24T21:48:07.268Z"
   },
   {
    "duration": 97,
    "start_time": "2022-05-24T21:48:07.640Z"
   },
   {
    "duration": 17,
    "start_time": "2022-05-24T21:48:08.832Z"
   },
   {
    "duration": 81,
    "start_time": "2022-05-24T21:48:09.525Z"
   },
   {
    "duration": 719,
    "start_time": "2022-05-24T21:48:10.507Z"
   },
   {
    "duration": 65,
    "start_time": "2022-05-24T21:48:11.228Z"
   },
   {
    "duration": 10,
    "start_time": "2022-05-24T21:48:11.295Z"
   },
   {
    "duration": 18,
    "start_time": "2022-05-24T21:48:13.032Z"
   },
   {
    "duration": 25,
    "start_time": "2022-05-24T21:48:14.443Z"
   },
   {
    "duration": 3,
    "start_time": "2022-05-24T21:48:15.363Z"
   },
   {
    "duration": 13,
    "start_time": "2022-05-24T21:48:17.897Z"
   },
   {
    "duration": 76,
    "start_time": "2022-05-24T21:48:23.141Z"
   },
   {
    "duration": 4,
    "start_time": "2022-05-24T21:48:23.824Z"
   },
   {
    "duration": 4,
    "start_time": "2022-05-24T21:48:24.397Z"
   },
   {
    "duration": 147,
    "start_time": "2022-05-24T21:48:26.633Z"
   },
   {
    "duration": 181,
    "start_time": "2022-05-24T21:49:22.501Z"
   },
   {
    "duration": 8,
    "start_time": "2022-05-24T21:49:28.178Z"
   },
   {
    "duration": 156,
    "start_time": "2022-05-24T21:49:59.577Z"
   },
   {
    "duration": 11,
    "start_time": "2022-05-24T21:50:08.381Z"
   },
   {
    "duration": 13,
    "start_time": "2022-05-24T21:50:26.383Z"
   },
   {
    "duration": 11,
    "start_time": "2022-05-24T21:50:35.193Z"
   },
   {
    "duration": 2779,
    "start_time": "2022-05-24T22:46:09.991Z"
   },
   {
    "duration": 1672,
    "start_time": "2022-05-24T22:46:12.772Z"
   },
   {
    "duration": 1045,
    "start_time": "2022-05-24T22:46:14.446Z"
   },
   {
    "duration": 22,
    "start_time": "2022-05-24T22:46:15.502Z"
   },
   {
    "duration": 218,
    "start_time": "2022-05-24T22:46:15.526Z"
   },
   {
    "duration": 16,
    "start_time": "2022-05-24T22:46:15.747Z"
   },
   {
    "duration": 27,
    "start_time": "2022-05-24T22:46:15.766Z"
   },
   {
    "duration": 625,
    "start_time": "2022-05-24T22:46:15.794Z"
   },
   {
    "duration": 6,
    "start_time": "2022-05-24T22:46:16.421Z"
   },
   {
    "duration": 320,
    "start_time": "2022-05-24T22:46:16.429Z"
   },
   {
    "duration": 164,
    "start_time": "2022-05-24T22:46:16.751Z"
   },
   {
    "duration": 457,
    "start_time": "2022-05-24T22:46:16.917Z"
   },
   {
    "duration": 36,
    "start_time": "2022-05-24T22:46:17.380Z"
   },
   {
    "duration": 44,
    "start_time": "2022-05-24T22:46:17.420Z"
   },
   {
    "duration": 56,
    "start_time": "2022-05-24T22:46:17.468Z"
   },
   {
    "duration": 77,
    "start_time": "2022-05-24T22:46:17.526Z"
   },
   {
    "duration": 24,
    "start_time": "2022-05-24T22:46:17.607Z"
   },
   {
    "duration": 471,
    "start_time": "2022-05-24T22:46:17.633Z"
   },
   {
    "duration": 19,
    "start_time": "2022-05-24T22:46:18.105Z"
   },
   {
    "duration": 8,
    "start_time": "2022-05-24T22:46:18.126Z"
   },
   {
    "duration": 53,
    "start_time": "2022-05-24T22:46:18.160Z"
   },
   {
    "duration": 373,
    "start_time": "2022-05-24T22:46:18.215Z"
   },
   {
    "duration": 36,
    "start_time": "2022-05-24T22:46:18.591Z"
   },
   {
    "duration": 20,
    "start_time": "2022-05-24T22:46:18.629Z"
   },
   {
    "duration": 51,
    "start_time": "2022-05-24T22:46:18.651Z"
   },
   {
    "duration": 83,
    "start_time": "2022-05-24T22:46:18.704Z"
   },
   {
    "duration": 23,
    "start_time": "2022-05-24T22:46:18.789Z"
   },
   {
    "duration": 630,
    "start_time": "2022-05-24T22:46:18.814Z"
   },
   {
    "duration": 553,
    "start_time": "2022-05-24T22:46:19.446Z"
   },
   {
    "duration": 346,
    "start_time": "2022-05-24T22:46:20.001Z"
   },
   {
    "duration": 123,
    "start_time": "2022-05-24T22:46:20.348Z"
   },
   {
    "duration": 8,
    "start_time": "2022-05-24T22:46:20.483Z"
   },
   {
    "duration": 2218,
    "start_time": "2022-05-24T22:46:20.493Z"
   },
   {
    "duration": 61,
    "start_time": "2022-05-24T22:46:22.713Z"
   },
   {
    "duration": 14,
    "start_time": "2022-05-24T22:46:22.793Z"
   },
   {
    "duration": 36,
    "start_time": "2022-05-24T22:46:22.808Z"
   },
   {
    "duration": 4,
    "start_time": "2022-05-24T22:46:22.846Z"
   },
   {
    "duration": 1922,
    "start_time": "2022-05-24T22:46:22.852Z"
   },
   {
    "duration": 27,
    "start_time": "2022-05-24T22:46:24.777Z"
   },
   {
    "duration": 16,
    "start_time": "2022-05-24T22:46:24.806Z"
   },
   {
    "duration": 10,
    "start_time": "2022-05-24T22:46:24.827Z"
   },
   {
    "duration": 58,
    "start_time": "2022-05-24T22:46:24.839Z"
   },
   {
    "duration": 7,
    "start_time": "2022-05-24T22:46:24.899Z"
   },
   {
    "duration": 2120,
    "start_time": "2022-05-24T22:46:24.908Z"
   },
   {
    "duration": 38,
    "start_time": "2022-05-24T22:46:27.029Z"
   },
   {
    "duration": 1959,
    "start_time": "2022-05-24T22:46:27.069Z"
   },
   {
    "duration": 60,
    "start_time": "2022-05-24T22:46:29.030Z"
   },
   {
    "duration": 14,
    "start_time": "2022-05-24T22:46:29.094Z"
   },
   {
    "duration": 35,
    "start_time": "2022-05-24T22:46:29.110Z"
   },
   {
    "duration": 12,
    "start_time": "2022-05-24T22:46:29.147Z"
   },
   {
    "duration": 1778,
    "start_time": "2022-05-24T22:46:29.161Z"
   },
   {
    "duration": 11,
    "start_time": "2022-05-24T22:46:30.940Z"
   },
   {
    "duration": 217,
    "start_time": "2022-05-24T22:46:30.966Z"
   },
   {
    "duration": 38,
    "start_time": "2022-05-24T22:46:31.190Z"
   },
   {
    "duration": 31,
    "start_time": "2022-05-24T22:46:31.229Z"
   },
   {
    "duration": 63,
    "start_time": "2022-05-24T22:46:31.268Z"
   },
   {
    "duration": 87,
    "start_time": "2022-05-24T22:46:31.333Z"
   },
   {
    "duration": 101,
    "start_time": "2022-05-24T22:46:31.422Z"
   },
   {
    "duration": 16,
    "start_time": "2022-05-24T22:46:31.525Z"
   },
   {
    "duration": 90,
    "start_time": "2022-05-24T22:46:31.559Z"
   },
   {
    "duration": 848,
    "start_time": "2022-05-24T22:46:31.658Z"
   },
   {
    "duration": 63,
    "start_time": "2022-05-24T22:46:32.507Z"
   },
   {
    "duration": 15,
    "start_time": "2022-05-24T22:46:32.583Z"
   },
   {
    "duration": 20,
    "start_time": "2022-05-24T22:46:32.600Z"
   },
   {
    "duration": 31,
    "start_time": "2022-05-24T22:46:32.622Z"
   },
   {
    "duration": 5,
    "start_time": "2022-05-24T22:46:32.655Z"
   },
   {
    "duration": 41,
    "start_time": "2022-05-24T22:46:32.671Z"
   },
   {
    "duration": 89,
    "start_time": "2022-05-24T22:46:32.714Z"
   },
   {
    "duration": 6,
    "start_time": "2022-05-24T22:46:32.806Z"
   },
   {
    "duration": 7,
    "start_time": "2022-05-24T22:46:32.814Z"
   },
   {
    "duration": 232,
    "start_time": "2022-05-24T22:46:32.822Z"
   },
   {
    "duration": 24,
    "start_time": "2022-05-24T22:46:33.056Z"
   },
   {
    "duration": 37,
    "start_time": "2022-05-24T22:46:33.082Z"
   },
   {
    "duration": 21,
    "start_time": "2022-05-24T22:46:33.121Z"
   },
   {
    "duration": 4,
    "start_time": "2022-05-24T22:46:33.144Z"
   },
   {
    "duration": 7,
    "start_time": "2022-05-24T22:46:33.151Z"
   },
   {
    "duration": 35,
    "start_time": "2022-05-24T22:46:33.171Z"
   },
   {
    "duration": 2343,
    "start_time": "2022-05-24T23:08:55.236Z"
   },
   {
    "duration": 1421,
    "start_time": "2022-05-24T23:08:57.582Z"
   },
   {
    "duration": 873,
    "start_time": "2022-05-24T23:08:59.005Z"
   },
   {
    "duration": 21,
    "start_time": "2022-05-24T23:08:59.880Z"
   },
   {
    "duration": 172,
    "start_time": "2022-05-24T23:08:59.904Z"
   },
   {
    "duration": 4,
    "start_time": "2022-05-24T23:09:00.078Z"
   },
   {
    "duration": 10,
    "start_time": "2022-05-24T23:09:00.084Z"
   },
   {
    "duration": 490,
    "start_time": "2022-05-24T23:09:00.095Z"
   },
   {
    "duration": 5,
    "start_time": "2022-05-24T23:09:00.587Z"
   },
   {
    "duration": 281,
    "start_time": "2022-05-24T23:09:00.595Z"
   },
   {
    "duration": 132,
    "start_time": "2022-05-24T23:09:00.878Z"
   },
   {
    "duration": 398,
    "start_time": "2022-05-24T23:09:01.012Z"
   },
   {
    "duration": 19,
    "start_time": "2022-05-24T23:09:01.411Z"
   },
   {
    "duration": 48,
    "start_time": "2022-05-24T23:09:01.432Z"
   },
   {
    "duration": 21,
    "start_time": "2022-05-24T23:09:01.482Z"
   },
   {
    "duration": 33,
    "start_time": "2022-05-24T23:09:01.504Z"
   },
   {
    "duration": 24,
    "start_time": "2022-05-24T23:09:01.559Z"
   },
   {
    "duration": 331,
    "start_time": "2022-05-24T23:09:01.585Z"
   },
   {
    "duration": 15,
    "start_time": "2022-05-24T23:09:01.918Z"
   },
   {
    "duration": 32,
    "start_time": "2022-05-24T23:09:01.937Z"
   },
   {
    "duration": 41,
    "start_time": "2022-05-24T23:09:01.971Z"
   },
   {
    "duration": 320,
    "start_time": "2022-05-24T23:09:02.014Z"
   },
   {
    "duration": 47,
    "start_time": "2022-05-24T23:09:02.336Z"
   },
   {
    "duration": 13,
    "start_time": "2022-05-24T23:09:02.385Z"
   },
   {
    "duration": 21,
    "start_time": "2022-05-24T23:09:02.400Z"
   },
   {
    "duration": 72,
    "start_time": "2022-05-24T23:09:02.423Z"
   },
   {
    "duration": 15,
    "start_time": "2022-05-24T23:09:02.497Z"
   },
   {
    "duration": 598,
    "start_time": "2022-05-24T23:09:02.518Z"
   },
   {
    "duration": 509,
    "start_time": "2022-05-24T23:09:03.118Z"
   },
   {
    "duration": 324,
    "start_time": "2022-05-24T23:09:03.629Z"
   },
   {
    "duration": 117,
    "start_time": "2022-05-24T23:09:03.955Z"
   },
   {
    "duration": 5,
    "start_time": "2022-05-24T23:09:04.074Z"
   },
   {
    "duration": 1903,
    "start_time": "2022-05-24T23:09:04.080Z"
   },
   {
    "duration": 34,
    "start_time": "2022-05-24T23:09:05.985Z"
   },
   {
    "duration": 10,
    "start_time": "2022-05-24T23:09:06.021Z"
   },
   {
    "duration": 59,
    "start_time": "2022-05-24T23:09:06.033Z"
   },
   {
    "duration": 4,
    "start_time": "2022-05-24T23:09:06.094Z"
   },
   {
    "duration": 1737,
    "start_time": "2022-05-24T23:09:06.099Z"
   },
   {
    "duration": 40,
    "start_time": "2022-05-24T23:09:07.838Z"
   },
   {
    "duration": 14,
    "start_time": "2022-05-24T23:09:07.880Z"
   },
   {
    "duration": 13,
    "start_time": "2022-05-24T23:09:07.897Z"
   },
   {
    "duration": 70,
    "start_time": "2022-05-24T23:09:07.912Z"
   },
   {
    "duration": 4,
    "start_time": "2022-05-24T23:09:07.984Z"
   },
   {
    "duration": 1928,
    "start_time": "2022-05-24T23:09:07.990Z"
   },
   {
    "duration": 24,
    "start_time": "2022-05-24T23:09:09.919Z"
   },
   {
    "duration": 1922,
    "start_time": "2022-05-24T23:09:09.945Z"
   },
   {
    "duration": 34,
    "start_time": "2022-05-24T23:09:11.876Z"
   },
   {
    "duration": 16,
    "start_time": "2022-05-24T23:09:11.913Z"
   },
   {
    "duration": 53,
    "start_time": "2022-05-24T23:09:11.931Z"
   },
   {
    "duration": 4,
    "start_time": "2022-05-24T23:09:11.986Z"
   },
   {
    "duration": 1704,
    "start_time": "2022-05-24T23:09:11.991Z"
   },
   {
    "duration": 10,
    "start_time": "2022-05-24T23:09:13.697Z"
   },
   {
    "duration": 192,
    "start_time": "2022-05-24T23:09:13.709Z"
   },
   {
    "duration": 33,
    "start_time": "2022-05-24T23:09:13.903Z"
   },
   {
    "duration": 36,
    "start_time": "2022-05-24T23:09:13.938Z"
   },
   {
    "duration": 61,
    "start_time": "2022-05-24T23:09:13.978Z"
   },
   {
    "duration": 80,
    "start_time": "2022-05-24T23:09:14.041Z"
   },
   {
    "duration": 84,
    "start_time": "2022-05-24T23:09:14.123Z"
   },
   {
    "duration": 17,
    "start_time": "2022-05-24T23:09:14.209Z"
   },
   {
    "duration": 116,
    "start_time": "2022-05-24T23:09:14.228Z"
   },
   {
    "duration": 792,
    "start_time": "2022-05-24T23:09:14.345Z"
   },
   {
    "duration": 57,
    "start_time": "2022-05-24T23:09:15.139Z"
   },
   {
    "duration": 9,
    "start_time": "2022-05-24T23:09:15.199Z"
   },
   {
    "duration": 19,
    "start_time": "2022-05-24T23:09:15.210Z"
   },
   {
    "duration": 51,
    "start_time": "2022-05-24T23:09:15.232Z"
   },
   {
    "duration": 3,
    "start_time": "2022-05-24T23:09:15.285Z"
   },
   {
    "duration": 12,
    "start_time": "2022-05-24T23:09:15.292Z"
   },
   {
    "duration": 84,
    "start_time": "2022-05-24T23:09:15.306Z"
   },
   {
    "duration": 5,
    "start_time": "2022-05-24T23:09:15.392Z"
   },
   {
    "duration": 13,
    "start_time": "2022-05-24T23:09:15.399Z"
   },
   {
    "duration": 193,
    "start_time": "2022-05-24T23:09:15.413Z"
   },
   {
    "duration": 11,
    "start_time": "2022-05-24T23:09:15.608Z"
   },
   {
    "duration": 16,
    "start_time": "2022-05-24T23:09:15.621Z"
   },
   {
    "duration": 38,
    "start_time": "2022-05-24T23:09:15.639Z"
   },
   {
    "duration": 5,
    "start_time": "2022-05-24T23:09:15.679Z"
   },
   {
    "duration": 8,
    "start_time": "2022-05-24T23:09:15.686Z"
   },
   {
    "duration": 7,
    "start_time": "2022-05-24T23:09:15.696Z"
   },
   {
    "duration": 1735577,
    "start_time": "2022-05-24T23:09:15.705Z"
   },
   {
    "duration": 3,
    "start_time": "2022-05-24T23:38:11.284Z"
   },
   {
    "duration": 56269,
    "start_time": "2022-05-24T23:38:11.288Z"
   },
   {
    "duration": 8,
    "start_time": "2022-05-24T23:39:07.563Z"
   },
   {
    "duration": 742298,
    "start_time": "2022-05-24T23:39:07.577Z"
   },
   {
    "duration": 7910,
    "start_time": "2022-05-24T23:51:29.877Z"
   },
   {
    "duration": 6,
    "start_time": "2022-05-24T23:51:37.788Z"
   },
   {
    "duration": 17,
    "start_time": "2022-05-24T23:51:37.796Z"
   },
   {
    "duration": 30,
    "start_time": "2022-05-24T23:51:37.815Z"
   },
   {
    "duration": 83,
    "start_time": "2022-05-25T06:09:27.271Z"
   },
   {
    "duration": 8,
    "start_time": "2022-05-25T06:09:42.659Z"
   },
   {
    "duration": 3656,
    "start_time": "2022-05-25T06:10:01.357Z"
   },
   {
    "duration": 2365,
    "start_time": "2022-05-25T06:10:05.016Z"
   },
   {
    "duration": 3599,
    "start_time": "2022-05-25T06:10:07.383Z"
   },
   {
    "duration": 29,
    "start_time": "2022-05-25T06:10:10.986Z"
   },
   {
    "duration": 170,
    "start_time": "2022-05-25T06:10:11.017Z"
   },
   {
    "duration": 10,
    "start_time": "2022-05-25T06:10:11.190Z"
   },
   {
    "duration": 36,
    "start_time": "2022-05-25T06:10:11.202Z"
   },
   {
    "duration": 574,
    "start_time": "2022-05-25T06:10:11.240Z"
   },
   {
    "duration": 7,
    "start_time": "2022-05-25T06:10:11.816Z"
   },
   {
    "duration": 307,
    "start_time": "2022-05-25T06:10:11.827Z"
   },
   {
    "duration": 154,
    "start_time": "2022-05-25T06:10:12.135Z"
   },
   {
    "duration": 448,
    "start_time": "2022-05-25T06:10:12.291Z"
   },
   {
    "duration": 23,
    "start_time": "2022-05-25T06:10:12.741Z"
   },
   {
    "duration": 66,
    "start_time": "2022-05-25T06:10:12.767Z"
   },
   {
    "duration": 17,
    "start_time": "2022-05-25T06:10:12.835Z"
   },
   {
    "duration": 57,
    "start_time": "2022-05-25T06:10:12.854Z"
   },
   {
    "duration": 19,
    "start_time": "2022-05-25T06:10:12.913Z"
   },
   {
    "duration": 379,
    "start_time": "2022-05-25T06:10:12.934Z"
   },
   {
    "duration": 16,
    "start_time": "2022-05-25T06:10:13.315Z"
   },
   {
    "duration": 8,
    "start_time": "2022-05-25T06:10:13.333Z"
   },
   {
    "duration": 70,
    "start_time": "2022-05-25T06:10:13.342Z"
   },
   {
    "duration": 353,
    "start_time": "2022-05-25T06:10:13.414Z"
   },
   {
    "duration": 61,
    "start_time": "2022-05-25T06:10:13.769Z"
   },
   {
    "duration": 15,
    "start_time": "2022-05-25T06:10:13.832Z"
   },
   {
    "duration": 18,
    "start_time": "2022-05-25T06:10:13.849Z"
   },
   {
    "duration": 88,
    "start_time": "2022-05-25T06:10:13.868Z"
   },
   {
    "duration": 16,
    "start_time": "2022-05-25T06:10:13.958Z"
   },
   {
    "duration": 703,
    "start_time": "2022-05-25T06:10:13.988Z"
   },
   {
    "duration": 586,
    "start_time": "2022-05-25T06:10:14.694Z"
   },
   {
    "duration": 314,
    "start_time": "2022-05-25T06:10:15.282Z"
   },
   {
    "duration": 113,
    "start_time": "2022-05-25T06:10:15.598Z"
   },
   {
    "duration": 6,
    "start_time": "2022-05-25T06:10:15.714Z"
   },
   {
    "duration": 2198,
    "start_time": "2022-05-25T06:10:15.722Z"
   },
   {
    "duration": 48,
    "start_time": "2022-05-25T06:10:17.922Z"
   },
   {
    "duration": 24,
    "start_time": "2022-05-25T06:10:17.972Z"
   },
   {
    "duration": 137,
    "start_time": "2022-05-25T06:10:17.999Z"
   },
   {
    "duration": 5,
    "start_time": "2022-05-25T06:10:18.138Z"
   },
   {
    "duration": 1950,
    "start_time": "2022-05-25T06:10:18.145Z"
   },
   {
    "duration": 35,
    "start_time": "2022-05-25T06:10:20.106Z"
   },
   {
    "duration": 13,
    "start_time": "2022-05-25T06:10:20.143Z"
   },
   {
    "duration": 11,
    "start_time": "2022-05-25T06:10:20.158Z"
   },
   {
    "duration": 72,
    "start_time": "2022-05-25T06:10:20.172Z"
   },
   {
    "duration": 4,
    "start_time": "2022-05-25T06:10:20.246Z"
   },
   {
    "duration": 2032,
    "start_time": "2022-05-25T06:10:20.252Z"
   },
   {
    "duration": 32,
    "start_time": "2022-05-25T06:10:22.290Z"
   },
   {
    "duration": 1911,
    "start_time": "2022-05-25T06:10:22.324Z"
   },
   {
    "duration": 31,
    "start_time": "2022-05-25T06:10:24.242Z"
   },
   {
    "duration": 18,
    "start_time": "2022-05-25T06:10:24.292Z"
   },
   {
    "duration": 104,
    "start_time": "2022-05-25T06:10:24.312Z"
   },
   {
    "duration": 6,
    "start_time": "2022-05-25T06:10:24.419Z"
   },
   {
    "duration": 1789,
    "start_time": "2022-05-25T06:10:24.427Z"
   },
   {
    "duration": 10,
    "start_time": "2022-05-25T06:10:26.218Z"
   },
   {
    "duration": 212,
    "start_time": "2022-05-25T06:10:26.230Z"
   },
   {
    "duration": 48,
    "start_time": "2022-05-25T06:10:26.444Z"
   },
   {
    "duration": 33,
    "start_time": "2022-05-25T06:10:26.493Z"
   },
   {
    "duration": 40,
    "start_time": "2022-05-25T06:10:26.529Z"
   },
   {
    "duration": 97,
    "start_time": "2022-05-25T06:10:26.570Z"
   },
   {
    "duration": 91,
    "start_time": "2022-05-25T06:10:26.668Z"
   },
   {
    "duration": 60,
    "start_time": "2022-05-25T06:10:26.761Z"
   },
   {
    "duration": 100,
    "start_time": "2022-05-25T06:10:26.823Z"
   },
   {
    "duration": 915,
    "start_time": "2022-05-25T06:10:26.925Z"
   },
   {
    "duration": 73,
    "start_time": "2022-05-25T06:10:27.842Z"
   },
   {
    "duration": 13,
    "start_time": "2022-05-25T06:10:27.923Z"
   },
   {
    "duration": 32,
    "start_time": "2022-05-25T06:10:27.938Z"
   },
   {
    "duration": 142,
    "start_time": "2022-05-25T06:10:27.972Z"
   },
   {
    "duration": 3,
    "start_time": "2022-05-25T06:10:28.118Z"
   },
   {
    "duration": 29,
    "start_time": "2022-05-25T06:10:28.123Z"
   },
   {
    "duration": 161,
    "start_time": "2022-05-25T06:10:28.154Z"
   },
   {
    "duration": 17,
    "start_time": "2022-05-25T06:10:28.326Z"
   },
   {
    "duration": 92,
    "start_time": "2022-05-25T06:10:28.348Z"
   },
   {
    "duration": 229,
    "start_time": "2022-05-25T06:10:28.442Z"
   },
   {
    "duration": 19,
    "start_time": "2022-05-25T06:10:28.673Z"
   },
   {
    "duration": 34,
    "start_time": "2022-05-25T06:10:28.694Z"
   },
   {
    "duration": 17,
    "start_time": "2022-05-25T06:10:28.730Z"
   },
   {
    "duration": 5,
    "start_time": "2022-05-25T06:10:28.749Z"
   },
   {
    "duration": 5,
    "start_time": "2022-05-25T06:10:28.756Z"
   },
   {
    "duration": 7,
    "start_time": "2022-05-25T06:10:28.763Z"
   },
   {
    "duration": 3112,
    "start_time": "2022-05-25T07:22:40.219Z"
   },
   {
    "duration": 2411,
    "start_time": "2022-05-25T07:22:43.334Z"
   },
   {
    "duration": 3031,
    "start_time": "2022-05-25T07:22:45.746Z"
   },
   {
    "duration": 21,
    "start_time": "2022-05-25T07:22:48.779Z"
   },
   {
    "duration": 135,
    "start_time": "2022-05-25T07:22:48.802Z"
   },
   {
    "duration": 5,
    "start_time": "2022-05-25T07:22:48.939Z"
   },
   {
    "duration": 8,
    "start_time": "2022-05-25T07:22:48.946Z"
   },
   {
    "duration": 519,
    "start_time": "2022-05-25T07:22:48.956Z"
   },
   {
    "duration": 8,
    "start_time": "2022-05-25T07:22:49.476Z"
   },
   {
    "duration": 253,
    "start_time": "2022-05-25T07:22:49.486Z"
   },
   {
    "duration": 124,
    "start_time": "2022-05-25T07:22:49.741Z"
   },
   {
    "duration": 382,
    "start_time": "2022-05-25T07:22:49.867Z"
   },
   {
    "duration": 18,
    "start_time": "2022-05-25T07:22:50.251Z"
   },
   {
    "duration": 49,
    "start_time": "2022-05-25T07:22:50.270Z"
   },
   {
    "duration": 25,
    "start_time": "2022-05-25T07:22:50.321Z"
   },
   {
    "duration": 46,
    "start_time": "2022-05-25T07:22:50.348Z"
   },
   {
    "duration": 23,
    "start_time": "2022-05-25T07:22:50.396Z"
   },
   {
    "duration": 331,
    "start_time": "2022-05-25T07:22:50.421Z"
   },
   {
    "duration": 16,
    "start_time": "2022-05-25T07:22:50.754Z"
   },
   {
    "duration": 25,
    "start_time": "2022-05-25T07:22:50.772Z"
   },
   {
    "duration": 40,
    "start_time": "2022-05-25T07:22:50.799Z"
   },
   {
    "duration": 331,
    "start_time": "2022-05-25T07:22:50.840Z"
   },
   {
    "duration": 52,
    "start_time": "2022-05-25T07:22:51.173Z"
   },
   {
    "duration": 29,
    "start_time": "2022-05-25T07:22:51.227Z"
   },
   {
    "duration": 19,
    "start_time": "2022-05-25T07:22:51.257Z"
   },
   {
    "duration": 58,
    "start_time": "2022-05-25T07:22:51.278Z"
   },
   {
    "duration": 14,
    "start_time": "2022-05-25T07:22:51.338Z"
   },
   {
    "duration": 563,
    "start_time": "2022-05-25T07:22:51.356Z"
   },
   {
    "duration": 516,
    "start_time": "2022-05-25T07:22:51.921Z"
   },
   {
    "duration": 289,
    "start_time": "2022-05-25T07:22:52.439Z"
   },
   {
    "duration": 89,
    "start_time": "2022-05-25T07:22:52.730Z"
   },
   {
    "duration": 4,
    "start_time": "2022-05-25T07:22:52.820Z"
   },
   {
    "duration": 1990,
    "start_time": "2022-05-25T07:22:52.826Z"
   },
   {
    "duration": 37,
    "start_time": "2022-05-25T07:22:54.818Z"
   },
   {
    "duration": 10,
    "start_time": "2022-05-25T07:22:54.857Z"
   },
   {
    "duration": 37,
    "start_time": "2022-05-25T07:22:54.884Z"
   },
   {
    "duration": 3,
    "start_time": "2022-05-25T07:22:54.923Z"
   },
   {
    "duration": 1760,
    "start_time": "2022-05-25T07:22:54.928Z"
   },
   {
    "duration": 32,
    "start_time": "2022-05-25T07:22:56.691Z"
   },
   {
    "duration": 13,
    "start_time": "2022-05-25T07:22:56.725Z"
   },
   {
    "duration": 13,
    "start_time": "2022-05-25T07:22:56.739Z"
   },
   {
    "duration": 72,
    "start_time": "2022-05-25T07:22:56.754Z"
   },
   {
    "duration": 5,
    "start_time": "2022-05-25T07:22:56.829Z"
   },
   {
    "duration": 2019,
    "start_time": "2022-05-25T07:22:56.836Z"
   },
   {
    "duration": 36,
    "start_time": "2022-05-25T07:22:58.856Z"
   },
   {
    "duration": 1725,
    "start_time": "2022-05-25T07:22:58.894Z"
   },
   {
    "duration": 34,
    "start_time": "2022-05-25T07:23:00.622Z"
   },
   {
    "duration": 29,
    "start_time": "2022-05-25T07:23:00.658Z"
   },
   {
    "duration": 38,
    "start_time": "2022-05-25T07:23:00.689Z"
   },
   {
    "duration": 5,
    "start_time": "2022-05-25T07:23:00.729Z"
   },
   {
    "duration": 1566,
    "start_time": "2022-05-25T07:23:00.735Z"
   },
   {
    "duration": 12,
    "start_time": "2022-05-25T07:23:02.303Z"
   },
   {
    "duration": 175,
    "start_time": "2022-05-25T07:23:02.317Z"
   },
   {
    "duration": 29,
    "start_time": "2022-05-25T07:23:02.494Z"
   },
   {
    "duration": 23,
    "start_time": "2022-05-25T07:23:02.525Z"
   },
   {
    "duration": 47,
    "start_time": "2022-05-25T07:23:02.550Z"
   },
   {
    "duration": 61,
    "start_time": "2022-05-25T07:23:02.599Z"
   },
   {
    "duration": 83,
    "start_time": "2022-05-25T07:23:02.662Z"
   },
   {
    "duration": 19,
    "start_time": "2022-05-25T07:23:02.746Z"
   },
   {
    "duration": 81,
    "start_time": "2022-05-25T07:23:02.785Z"
   },
   {
    "duration": 692,
    "start_time": "2022-05-25T07:23:02.868Z"
   },
   {
    "duration": 49,
    "start_time": "2022-05-25T07:23:03.562Z"
   },
   {
    "duration": 10,
    "start_time": "2022-05-25T07:23:03.613Z"
   },
   {
    "duration": 21,
    "start_time": "2022-05-25T07:23:03.625Z"
   },
   {
    "duration": 45,
    "start_time": "2022-05-25T07:23:03.648Z"
   },
   {
    "duration": 3,
    "start_time": "2022-05-25T07:23:03.695Z"
   },
   {
    "duration": 15,
    "start_time": "2022-05-25T07:23:03.699Z"
   },
   {
    "duration": 90,
    "start_time": "2022-05-25T07:23:03.715Z"
   },
   {
    "duration": 7,
    "start_time": "2022-05-25T07:23:03.806Z"
   },
   {
    "duration": 10,
    "start_time": "2022-05-25T07:23:03.815Z"
   },
   {
    "duration": 197,
    "start_time": "2022-05-25T07:23:03.827Z"
   },
   {
    "duration": 11,
    "start_time": "2022-05-25T07:23:04.026Z"
   },
   {
    "duration": 28,
    "start_time": "2022-05-25T07:23:04.039Z"
   },
   {
    "duration": 37,
    "start_time": "2022-05-25T07:23:04.069Z"
   },
   {
    "duration": 35,
    "start_time": "2022-05-25T07:23:04.107Z"
   },
   {
    "duration": 45,
    "start_time": "2022-05-25T07:23:04.144Z"
   },
   {
    "duration": 34,
    "start_time": "2022-05-25T07:23:04.191Z"
   },
   {
    "duration": 6877660,
    "start_time": "2022-05-25T07:23:04.227Z"
   },
   {
    "duration": 3,
    "start_time": "2022-05-25T09:17:41.889Z"
   },
   {
    "duration": 60882,
    "start_time": "2022-05-25T09:17:41.894Z"
   },
   {
    "duration": 3,
    "start_time": "2022-05-25T09:18:42.778Z"
   },
   {
    "duration": 813706,
    "start_time": "2022-05-25T09:18:42.787Z"
   },
   {
    "duration": 9345,
    "start_time": "2022-05-25T09:32:16.494Z"
   },
   {
    "duration": 6,
    "start_time": "2022-05-25T09:32:25.841Z"
   },
   {
    "duration": 6,
    "start_time": "2022-05-25T09:32:25.849Z"
   },
   {
    "duration": 16,
    "start_time": "2022-05-25T09:32:25.857Z"
   },
   {
    "duration": 2579601,
    "start_time": "2022-05-25T09:32:25.883Z"
   },
   {
    "duration": 61185,
    "start_time": "2022-05-25T10:15:25.486Z"
   },
   {
    "duration": 817230,
    "start_time": "2022-05-25T10:16:26.672Z"
   },
   {
    "duration": 8590,
    "start_time": "2022-05-25T10:30:03.904Z"
   },
   {
    "duration": 6,
    "start_time": "2022-05-25T10:30:12.496Z"
   },
   {
    "duration": 13,
    "start_time": "2022-05-25T10:30:12.504Z"
   },
   {
    "duration": 18,
    "start_time": "2022-05-25T10:30:12.519Z"
   }
  ],
  "kernelspec": {
   "display_name": "Python 3 (ipykernel)",
   "language": "python",
   "name": "python3"
  },
  "language_info": {
   "codemirror_mode": {
    "name": "ipython",
    "version": 3
   },
   "file_extension": ".py",
   "mimetype": "text/x-python",
   "name": "python",
   "nbconvert_exporter": "python",
   "pygments_lexer": "ipython3",
   "version": "3.10.9"
  },
  "toc": {
   "base_numbering": 1,
   "nav_menu": {},
   "number_sections": true,
   "sideBar": true,
   "skip_h1_title": true,
   "title_cell": "Table of Contents",
   "title_sidebar": "Contents",
   "toc_cell": false,
   "toc_position": {
    "height": "calc(100% - 180px)",
    "left": "10px",
    "top": "150px",
    "width": "176.391px"
   },
   "toc_section_display": true,
   "toc_window_display": true
  }
 },
 "nbformat": 4,
 "nbformat_minor": 2
}
